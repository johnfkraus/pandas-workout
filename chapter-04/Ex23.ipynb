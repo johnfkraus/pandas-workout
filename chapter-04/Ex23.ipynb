{
 "cells": [
  {
   "cell_type": "markdown",
   "id": "f8518c63-4f8f-4e71-9531-2dfe229d6aaf",
   "metadata": {},
   "source": [
    "find . -type f -size +100M -exec mv {} ~/Documents/LargeFiles/ \\;   "
   ]
  },
  {
   "cell_type": "code",
   "execution_count": 21,
   "id": "c4bc6814-57cd-473e-8807-10498deaf440",
   "metadata": {},
   "outputs": [],
   "source": [
    "import pandas as pd\n",
    "import numpy as np"
   ]
  },
  {
   "cell_type": "code",
   "execution_count": 22,
   "id": "2b6b158b-9f46-43c3-b9da-b7d95a05faaf",
   "metadata": {},
   "outputs": [
    {
     "data": {
      "text/plain": [
       "['Age', 'Height', 'Team', 'Year', 'Season', 'City', 'Sport', 'Event', 'Medal']"
      ]
     },
     "execution_count": 22,
     "metadata": {},
     "output_type": "execute_result"
    }
   ],
   "source": [
    "cols = \"Age Height Team Year Season City Sport Event Medal\".split()\n",
    "cols"
   ]
  },
  {
   "cell_type": "code",
   "execution_count": 23,
   "id": "f4b95afc-56e4-42e2-b621-ae8949791b12",
   "metadata": {},
   "outputs": [
    {
     "data": {
      "text/plain": [
       "['Year', 'Season', 'Sport', 'Event']"
      ]
     },
     "execution_count": 23,
     "metadata": {},
     "output_type": "execute_result"
    }
   ],
   "source": [
    "indexes = \"Year Season Sport Event\".split()\n",
    "indexes"
   ]
  },
  {
   "cell_type": "code",
   "execution_count": 24,
   "id": "127f56f9-8f95-462b-bd59-18de0cddd725",
   "metadata": {},
   "outputs": [],
   "source": [
    "df = pd.read_csv('../data/olympic_athlete_events.csv', header=0, \n",
    "                 usecols=cols)"
   ]
  },
  {
   "cell_type": "code",
   "execution_count": 25,
   "id": "c73b85a7-e0ec-4faa-99ad-8246d307408f",
   "metadata": {},
   "outputs": [
    {
     "data": {
      "text/plain": [
       "False"
      ]
     },
     "execution_count": 25,
     "metadata": {},
     "output_type": "execute_result"
    }
   ],
   "source": [
    "df['Year'].is_monotonic_increasing"
   ]
  },
  {
   "cell_type": "code",
   "execution_count": null,
   "id": "2f23a47d-2b0f-493e-b10d-13208e4f7336",
   "metadata": {},
   "outputs": [],
   "source": []
  },
  {
   "cell_type": "code",
   "execution_count": 26,
   "id": "35adb49e-8668-4a0f-9602-94c9f2447d49",
   "metadata": {},
   "outputs": [],
   "source": [
    "df = df.set_index(indexes)"
   ]
  },
  {
   "cell_type": "code",
   "execution_count": 27,
   "id": "606a45b4-4a40-4d92-8be2-4707818046ab",
   "metadata": {},
   "outputs": [
    {
     "data": {
      "text/plain": [
       "(271116, 5)"
      ]
     },
     "execution_count": 27,
     "metadata": {},
     "output_type": "execute_result"
    }
   ],
   "source": [
    "df.shape"
   ]
  },
  {
   "cell_type": "code",
   "execution_count": 28,
   "id": "fcd4394b-d8c5-4149-b322-19af056da130",
   "metadata": {},
   "outputs": [
    {
     "data": {
      "text/html": [
       "<div>\n",
       "<style scoped>\n",
       "    .dataframe tbody tr th:only-of-type {\n",
       "        vertical-align: middle;\n",
       "    }\n",
       "\n",
       "    .dataframe tbody tr th {\n",
       "        vertical-align: top;\n",
       "    }\n",
       "\n",
       "    .dataframe thead th {\n",
       "        text-align: right;\n",
       "    }\n",
       "</style>\n",
       "<table border=\"1\" class=\"dataframe\">\n",
       "  <thead>\n",
       "    <tr style=\"text-align: right;\">\n",
       "      <th></th>\n",
       "      <th></th>\n",
       "      <th></th>\n",
       "      <th></th>\n",
       "      <th>Age</th>\n",
       "      <th>Height</th>\n",
       "      <th>Team</th>\n",
       "      <th>City</th>\n",
       "      <th>Medal</th>\n",
       "    </tr>\n",
       "    <tr>\n",
       "      <th>Year</th>\n",
       "      <th>Season</th>\n",
       "      <th>Sport</th>\n",
       "      <th>Event</th>\n",
       "      <th></th>\n",
       "      <th></th>\n",
       "      <th></th>\n",
       "      <th></th>\n",
       "      <th></th>\n",
       "    </tr>\n",
       "  </thead>\n",
       "  <tbody>\n",
       "    <tr>\n",
       "      <th>1992</th>\n",
       "      <th>Summer</th>\n",
       "      <th>Basketball</th>\n",
       "      <th>Basketball Men's Basketball</th>\n",
       "      <td>24.0</td>\n",
       "      <td>180.0</td>\n",
       "      <td>China</td>\n",
       "      <td>Barcelona</td>\n",
       "      <td>NaN</td>\n",
       "    </tr>\n",
       "    <tr>\n",
       "      <th>2012</th>\n",
       "      <th>Summer</th>\n",
       "      <th>Judo</th>\n",
       "      <th>Judo Men's Extra-Lightweight</th>\n",
       "      <td>23.0</td>\n",
       "      <td>170.0</td>\n",
       "      <td>China</td>\n",
       "      <td>London</td>\n",
       "      <td>NaN</td>\n",
       "    </tr>\n",
       "    <tr>\n",
       "      <th>1920</th>\n",
       "      <th>Summer</th>\n",
       "      <th>Football</th>\n",
       "      <th>Football Men's Football</th>\n",
       "      <td>24.0</td>\n",
       "      <td>NaN</td>\n",
       "      <td>Denmark</td>\n",
       "      <td>Antwerpen</td>\n",
       "      <td>NaN</td>\n",
       "    </tr>\n",
       "    <tr>\n",
       "      <th>1900</th>\n",
       "      <th>Summer</th>\n",
       "      <th>Tug-Of-War</th>\n",
       "      <th>Tug-Of-War Men's Tug-Of-War</th>\n",
       "      <td>34.0</td>\n",
       "      <td>NaN</td>\n",
       "      <td>Denmark/Sweden</td>\n",
       "      <td>Paris</td>\n",
       "      <td>Gold</td>\n",
       "    </tr>\n",
       "    <tr>\n",
       "      <th>1988</th>\n",
       "      <th>Winter</th>\n",
       "      <th>Speed Skating</th>\n",
       "      <th>Speed Skating Women's 500 metres</th>\n",
       "      <td>21.0</td>\n",
       "      <td>185.0</td>\n",
       "      <td>Netherlands</td>\n",
       "      <td>Calgary</td>\n",
       "      <td>NaN</td>\n",
       "    </tr>\n",
       "    <tr>\n",
       "      <th>...</th>\n",
       "      <th>...</th>\n",
       "      <th>...</th>\n",
       "      <th>...</th>\n",
       "      <td>...</td>\n",
       "      <td>...</td>\n",
       "      <td>...</td>\n",
       "      <td>...</td>\n",
       "      <td>...</td>\n",
       "    </tr>\n",
       "    <tr>\n",
       "      <th>1976</th>\n",
       "      <th>Winter</th>\n",
       "      <th>Luge</th>\n",
       "      <th>Luge Mixed (Men)'s Doubles</th>\n",
       "      <td>29.0</td>\n",
       "      <td>179.0</td>\n",
       "      <td>Poland-1</td>\n",
       "      <td>Innsbruck</td>\n",
       "      <td>NaN</td>\n",
       "    </tr>\n",
       "    <tr>\n",
       "      <th rowspan=\"2\" valign=\"top\">2014</th>\n",
       "      <th rowspan=\"2\" valign=\"top\">Winter</th>\n",
       "      <th rowspan=\"2\" valign=\"top\">Ski Jumping</th>\n",
       "      <th>Ski Jumping Men's Large Hill, Individual</th>\n",
       "      <td>27.0</td>\n",
       "      <td>176.0</td>\n",
       "      <td>Poland</td>\n",
       "      <td>Sochi</td>\n",
       "      <td>NaN</td>\n",
       "    </tr>\n",
       "    <tr>\n",
       "      <th>Ski Jumping Men's Large Hill, Team</th>\n",
       "      <td>27.0</td>\n",
       "      <td>176.0</td>\n",
       "      <td>Poland</td>\n",
       "      <td>Sochi</td>\n",
       "      <td>NaN</td>\n",
       "    </tr>\n",
       "    <tr>\n",
       "      <th>1998</th>\n",
       "      <th>Winter</th>\n",
       "      <th>Bobsleigh</th>\n",
       "      <th>Bobsleigh Men's Four</th>\n",
       "      <td>30.0</td>\n",
       "      <td>185.0</td>\n",
       "      <td>Poland</td>\n",
       "      <td>Nagano</td>\n",
       "      <td>NaN</td>\n",
       "    </tr>\n",
       "    <tr>\n",
       "      <th>2002</th>\n",
       "      <th>Winter</th>\n",
       "      <th>Bobsleigh</th>\n",
       "      <th>Bobsleigh Men's Four</th>\n",
       "      <td>34.0</td>\n",
       "      <td>185.0</td>\n",
       "      <td>Poland</td>\n",
       "      <td>Salt Lake City</td>\n",
       "      <td>NaN</td>\n",
       "    </tr>\n",
       "  </tbody>\n",
       "</table>\n",
       "<p>271116 rows × 5 columns</p>\n",
       "</div>"
      ],
      "text/plain": [
       "                                                                     Age  \\\n",
       "Year Season Sport         Event                                            \n",
       "1992 Summer Basketball    Basketball Men's Basketball               24.0   \n",
       "2012 Summer Judo          Judo Men's Extra-Lightweight              23.0   \n",
       "1920 Summer Football      Football Men's Football                   24.0   \n",
       "1900 Summer Tug-Of-War    Tug-Of-War Men's Tug-Of-War               34.0   \n",
       "1988 Winter Speed Skating Speed Skating Women's 500 metres          21.0   \n",
       "...                                                                  ...   \n",
       "1976 Winter Luge          Luge Mixed (Men)'s Doubles                29.0   \n",
       "2014 Winter Ski Jumping   Ski Jumping Men's Large Hill, Individual  27.0   \n",
       "                          Ski Jumping Men's Large Hill, Team        27.0   \n",
       "1998 Winter Bobsleigh     Bobsleigh Men's Four                      30.0   \n",
       "2002 Winter Bobsleigh     Bobsleigh Men's Four                      34.0   \n",
       "\n",
       "                                                                    Height  \\\n",
       "Year Season Sport         Event                                              \n",
       "1992 Summer Basketball    Basketball Men's Basketball                180.0   \n",
       "2012 Summer Judo          Judo Men's Extra-Lightweight               170.0   \n",
       "1920 Summer Football      Football Men's Football                      NaN   \n",
       "1900 Summer Tug-Of-War    Tug-Of-War Men's Tug-Of-War                  NaN   \n",
       "1988 Winter Speed Skating Speed Skating Women's 500 metres           185.0   \n",
       "...                                                                    ...   \n",
       "1976 Winter Luge          Luge Mixed (Men)'s Doubles                 179.0   \n",
       "2014 Winter Ski Jumping   Ski Jumping Men's Large Hill, Individual   176.0   \n",
       "                          Ski Jumping Men's Large Hill, Team         176.0   \n",
       "1998 Winter Bobsleigh     Bobsleigh Men's Four                       185.0   \n",
       "2002 Winter Bobsleigh     Bobsleigh Men's Four                       185.0   \n",
       "\n",
       "                                                                              Team  \\\n",
       "Year Season Sport         Event                                                      \n",
       "1992 Summer Basketball    Basketball Men's Basketball                        China   \n",
       "2012 Summer Judo          Judo Men's Extra-Lightweight                       China   \n",
       "1920 Summer Football      Football Men's Football                          Denmark   \n",
       "1900 Summer Tug-Of-War    Tug-Of-War Men's Tug-Of-War               Denmark/Sweden   \n",
       "1988 Winter Speed Skating Speed Skating Women's 500 metres             Netherlands   \n",
       "...                                                                            ...   \n",
       "1976 Winter Luge          Luge Mixed (Men)'s Doubles                      Poland-1   \n",
       "2014 Winter Ski Jumping   Ski Jumping Men's Large Hill, Individual          Poland   \n",
       "                          Ski Jumping Men's Large Hill, Team                Poland   \n",
       "1998 Winter Bobsleigh     Bobsleigh Men's Four                              Poland   \n",
       "2002 Winter Bobsleigh     Bobsleigh Men's Four                              Poland   \n",
       "\n",
       "                                                                              City  \\\n",
       "Year Season Sport         Event                                                      \n",
       "1992 Summer Basketball    Basketball Men's Basketball                    Barcelona   \n",
       "2012 Summer Judo          Judo Men's Extra-Lightweight                      London   \n",
       "1920 Summer Football      Football Men's Football                        Antwerpen   \n",
       "1900 Summer Tug-Of-War    Tug-Of-War Men's Tug-Of-War                        Paris   \n",
       "1988 Winter Speed Skating Speed Skating Women's 500 metres                 Calgary   \n",
       "...                                                                            ...   \n",
       "1976 Winter Luge          Luge Mixed (Men)'s Doubles                     Innsbruck   \n",
       "2014 Winter Ski Jumping   Ski Jumping Men's Large Hill, Individual           Sochi   \n",
       "                          Ski Jumping Men's Large Hill, Team                 Sochi   \n",
       "1998 Winter Bobsleigh     Bobsleigh Men's Four                              Nagano   \n",
       "2002 Winter Bobsleigh     Bobsleigh Men's Four                      Salt Lake City   \n",
       "\n",
       "                                                                   Medal  \n",
       "Year Season Sport         Event                                           \n",
       "1992 Summer Basketball    Basketball Men's Basketball                NaN  \n",
       "2012 Summer Judo          Judo Men's Extra-Lightweight               NaN  \n",
       "1920 Summer Football      Football Men's Football                    NaN  \n",
       "1900 Summer Tug-Of-War    Tug-Of-War Men's Tug-Of-War               Gold  \n",
       "1988 Winter Speed Skating Speed Skating Women's 500 metres           NaN  \n",
       "...                                                                  ...  \n",
       "1976 Winter Luge          Luge Mixed (Men)'s Doubles                 NaN  \n",
       "2014 Winter Ski Jumping   Ski Jumping Men's Large Hill, Individual   NaN  \n",
       "                          Ski Jumping Men's Large Hill, Team         NaN  \n",
       "1998 Winter Bobsleigh     Bobsleigh Men's Four                       NaN  \n",
       "2002 Winter Bobsleigh     Bobsleigh Men's Four                       NaN  \n",
       "\n",
       "[271116 rows x 5 columns]"
      ]
     },
     "execution_count": 28,
     "metadata": {},
     "output_type": "execute_result"
    }
   ],
   "source": [
    "df"
   ]
  },
  {
   "cell_type": "markdown",
   "id": "b49fea0a-f8eb-426b-a6fd-9dd57cfdda61",
   "metadata": {},
   "source": [
    "What is the average age of winning athletes in summer games held between\n",
    "1936 and 2000?"
   ]
  },
  {
   "cell_type": "code",
   "execution_count": 38,
   "id": "00715319-3f27-4d3a-b916-637a33bfb1f0",
   "metadata": {},
   "outputs": [],
   "source": [
    "df = df.sort_index()"
   ]
  },
  {
   "cell_type": "code",
   "execution_count": 43,
   "id": "8ecc7155-7cad-4282-b2ff-2b84d27b53b7",
   "metadata": {},
   "outputs": [
    {
     "data": {
      "text/plain": [
       "25.026883940421765"
      ]
     },
     "execution_count": 43,
     "metadata": {},
     "output_type": "execute_result"
    }
   ],
   "source": [
    "df.loc[(slice(1936,None), 'Summer'), 'Age'].mean()"
   ]
  },
  {
   "cell_type": "markdown",
   "id": "97ef3cd0-fbe4-43f5-81f8-dae5ea86d060",
   "metadata": {},
   "source": [
    "What team has won the most medals in all archery events?"
   ]
  },
  {
   "cell_type": "code",
   "execution_count": 44,
   "id": "31fa79b1-461e-49f7-9111-f838d5e563aa",
   "metadata": {},
   "outputs": [
    {
     "name": "stdout",
     "output_type": "stream",
     "text": [
      "<class 'pandas.core.frame.DataFrame'>\n",
      "MultiIndex: 271116 entries, (1896, 'Summer', 'Athletics', \"Athletics Men's 1,500 metres\") to (2016, 'Summer', 'Wrestling', \"Wrestling Women's Middleweight, Freestyle\")\n",
      "Data columns (total 5 columns):\n",
      " #   Column  Non-Null Count   Dtype  \n",
      "---  ------  --------------   -----  \n",
      " 0   Age     261642 non-null  float64\n",
      " 1   Height  210945 non-null  float64\n",
      " 2   Team    271116 non-null  object \n",
      " 3   City    271116 non-null  object \n",
      " 4   Medal   39783 non-null   object \n",
      "dtypes: float64(2), object(3)\n",
      "memory usage: 11.7+ MB\n"
     ]
    }
   ],
   "source": [
    "df.info()"
   ]
  },
  {
   "cell_type": "code",
   "execution_count": 45,
   "id": "c2f2173b-a0ac-4926-8bb7-b0f526d980b7",
   "metadata": {},
   "outputs": [],
   "source": [
    "dfmedal = df.dropna(subset='Medal')"
   ]
  },
  {
   "cell_type": "code",
   "execution_count": 46,
   "id": "fbc8461d-4ad0-46b0-98b0-f51bc0157779",
   "metadata": {},
   "outputs": [
    {
     "data": {
      "text/plain": [
       "(39783, 5)"
      ]
     },
     "execution_count": 46,
     "metadata": {},
     "output_type": "execute_result"
    }
   ],
   "source": [
    "dfmedal.shape"
   ]
  },
  {
   "cell_type": "code",
   "execution_count": 52,
   "id": "8e4c98ee-b24b-4829-a3d6-8b95066a1f85",
   "metadata": {},
   "outputs": [
    {
     "data": {
      "text/plain": [
       "Team\n",
       "South Korea           69\n",
       "Belgium               52\n",
       "France                48\n",
       "United States         41\n",
       "China                 19\n",
       "Italy                 15\n",
       "Great Britain         13\n",
       "Chinese Taipei         9\n",
       "Netherlands            9\n",
       "Cincinnati Archers     8\n",
       "Ukraine                8\n",
       "Soviet Union           7\n",
       "Japan                  7\n",
       "Germany                7\n",
       "Finland                6\n",
       "Australia              5\n",
       "Unified Team           4\n",
       "Russia                 4\n",
       "Boston Archers         4\n",
       "Potomac Archers        4\n",
       "Poland                 4\n",
       "Spain                  3\n",
       "Indonesia              3\n",
       "Sweden                 2\n",
       "Mexico                 2\n",
       "Name: count, dtype: int64"
      ]
     },
     "execution_count": 52,
     "metadata": {},
     "output_type": "execute_result"
    }
   ],
   "source": [
    "dfmedal.loc[(slice(None),slice(None),'Archery'), 'Team'].value_counts()"
   ]
  },
  {
   "cell_type": "code",
   "execution_count": 62,
   "id": "c8eb677c-481e-41be-8b7f-7db9a798b5ec",
   "metadata": {},
   "outputs": [
    {
     "data": {
      "text/plain": [
       "Team\n",
       "South Korea      69\n",
       "Belgium          52\n",
       "France           48\n",
       "United States    41\n",
       "China            19\n",
       "Name: count, dtype: int64"
      ]
     },
     "execution_count": 62,
     "metadata": {},
     "output_type": "execute_result"
    }
   ],
   "source": [
    "(\n",
    "    df\n",
    "    .dropna(subset='Medal')\n",
    "    .loc[(slice(None), slice(None), 'Archery'), 'Team']\n",
    "    .value_counts()\n",
    "    .head()\n",
    "    \n",
    "    \n",
    ")"
   ]
  },
  {
   "cell_type": "markdown",
   "id": "9922720b-9884-49e7-86f4-b3f733184737",
   "metadata": {},
   "source": [
    "Starting in 1980, what is the average height of the “Table Tennis Women’s\n",
    "Team” event?"
   ]
  },
  {
   "cell_type": "code",
   "execution_count": 71,
   "id": "078b43fe-ba22-4ecf-b553-af512ca26b4e",
   "metadata": {},
   "outputs": [
    {
     "data": {
      "text/plain": [
       "165.04827586206898"
      ]
     },
     "execution_count": 71,
     "metadata": {},
     "output_type": "execute_result"
    }
   ],
   "source": [
    "(\n",
    "    df\n",
    "    .dropna(subset='Height')\n",
    "    .loc[(slice(1980,None), slice(None), slice(None), \"Table Tennis Women's Team\"), 'Height']\n",
    "    .mean()\n",
    ")"
   ]
  },
  {
   "cell_type": "code",
   "execution_count": 84,
   "id": "3bc1ec36-6c8e-4d62-bb80-c580fdd8f6a0",
   "metadata": {},
   "outputs": [
    {
     "data": {
      "text/plain": [
       "165.04827586206898"
      ]
     },
     "execution_count": 84,
     "metadata": {},
     "output_type": "execute_result"
    }
   ],
   "source": [
    "df.xs(('Summer', \"Table Tennis Women's Team\"),\n",
    "    level=['Season', 'Event'])['Height'].mean()"
   ]
  },
  {
   "cell_type": "markdown",
   "id": "b9e4df56-ae37-480f-a7be-78993db8e677",
   "metadata": {},
   "source": [
    "Starting in 1980, what is the average height of both “Table Tennis Women’s\n",
    "Team” and “Table Tennis Men’s Team”?"
   ]
  },
  {
   "cell_type": "code",
   "execution_count": 73,
   "id": "19c2723f-3c36-4ec4-be2a-be57128a6c37",
   "metadata": {},
   "outputs": [
    {
     "data": {
      "text/plain": [
       "171.26643598615917"
      ]
     },
     "execution_count": 73,
     "metadata": {},
     "output_type": "execute_result"
    }
   ],
   "source": [
    "(\n",
    "    df\n",
    "    .dropna(subset='Height')\n",
    "    .loc[(slice(1980,None), slice(None), slice(None), [\"Table Tennis Women's Team\", \"Table Tennis Men's Team\"]), 'Height']\n",
    "    .mean()\n",
    ")"
   ]
  },
  {
   "cell_type": "markdown",
   "id": "d1fbb416-bccc-4992-960a-be7da41b88fd",
   "metadata": {},
   "source": [
    "How tall was the tallest-ever tennis player in Olympic games from 1980 until\n",
    "2016?"
   ]
  },
  {
   "cell_type": "code",
   "execution_count": 88,
   "id": "0b4f3a75-ae19-42a4-a1a8-aa65a994f2bd",
   "metadata": {},
   "outputs": [
    {
     "data": {
      "text/plain": [
       "208.0"
      ]
     },
     "execution_count": 88,
     "metadata": {},
     "output_type": "execute_result"
    }
   ],
   "source": [
    "df.loc[(slice(1980,2016), \"Summer\", \"Tennis\"), 'Height'].max()"
   ]
  },
  {
   "cell_type": "code",
   "execution_count": 89,
   "id": "38004d55-4500-4f4b-bf2f-80144c075472",
   "metadata": {},
   "outputs": [
    {
     "data": {
      "text/plain": [
       "208.0"
      ]
     },
     "execution_count": 89,
     "metadata": {},
     "output_type": "execute_result"
    }
   ],
   "source": [
    "(\n",
    "    df\n",
    "    .dropna(subset='Height')\n",
    "    .loc[(slice(1980,None), slice(None), \"Tennis\"), 'Height']\n",
    "    .max()\n",
    ")"
   ]
  },
  {
   "cell_type": "code",
   "execution_count": null,
   "id": "36c4c6bc-8f52-4796-94f4-260823ed24d9",
   "metadata": {},
   "outputs": [],
   "source": [
    "(\n",
    "    df\n",
    "    .dropna(subset='Height')\n",
    "    .loc[(slice(1980,None), slice(None), \"Tennis\"), 'Height']\n",
    "    .max()\n",
    ")"
   ]
  },
  {
   "cell_type": "code",
   "execution_count": 86,
   "id": "660991da-6c99-4684-8b53-34ea0b255966",
   "metadata": {},
   "outputs": [
    {
     "data": {
      "text/html": [
       "<div>\n",
       "<style scoped>\n",
       "    .dataframe tbody tr th:only-of-type {\n",
       "        vertical-align: middle;\n",
       "    }\n",
       "\n",
       "    .dataframe tbody tr th {\n",
       "        vertical-align: top;\n",
       "    }\n",
       "\n",
       "    .dataframe thead th {\n",
       "        text-align: right;\n",
       "    }\n",
       "</style>\n",
       "<table border=\"1\" class=\"dataframe\">\n",
       "  <thead>\n",
       "    <tr style=\"text-align: right;\">\n",
       "      <th></th>\n",
       "      <th></th>\n",
       "      <th></th>\n",
       "      <th></th>\n",
       "      <th>Age</th>\n",
       "      <th>Height</th>\n",
       "      <th>Team</th>\n",
       "      <th>City</th>\n",
       "      <th>Medal</th>\n",
       "    </tr>\n",
       "    <tr>\n",
       "      <th>Year</th>\n",
       "      <th>Season</th>\n",
       "      <th>Sport</th>\n",
       "      <th>Event</th>\n",
       "      <th></th>\n",
       "      <th></th>\n",
       "      <th></th>\n",
       "      <th></th>\n",
       "      <th></th>\n",
       "    </tr>\n",
       "  </thead>\n",
       "  <tbody>\n",
       "    <tr>\n",
       "      <th rowspan=\"5\" valign=\"top\">1980</th>\n",
       "      <th rowspan=\"5\" valign=\"top\">Summer</th>\n",
       "      <th rowspan=\"5\" valign=\"top\">Swimming</th>\n",
       "      <th>Swimming Men's 1,500 metres Freestyle</th>\n",
       "      <td>19.0</td>\n",
       "      <td>185.0</td>\n",
       "      <td>Great Britain</td>\n",
       "      <td>Moskva</td>\n",
       "      <td>NaN</td>\n",
       "    </tr>\n",
       "    <tr>\n",
       "      <th>Swimming Men's 1,500 metres Freestyle</th>\n",
       "      <td>18.0</td>\n",
       "      <td>181.0</td>\n",
       "      <td>Soviet Union</td>\n",
       "      <td>Moskva</td>\n",
       "      <td>Silver</td>\n",
       "    </tr>\n",
       "    <tr>\n",
       "      <th>Swimming Men's 1,500 metres Freestyle</th>\n",
       "      <td>19.0</td>\n",
       "      <td>178.0</td>\n",
       "      <td>Spain</td>\n",
       "      <td>Moskva</td>\n",
       "      <td>NaN</td>\n",
       "    </tr>\n",
       "    <tr>\n",
       "      <th>Swimming Men's 1,500 metres Freestyle</th>\n",
       "      <td>21.0</td>\n",
       "      <td>184.0</td>\n",
       "      <td>Great Britain</td>\n",
       "      <td>Moskva</td>\n",
       "      <td>NaN</td>\n",
       "    </tr>\n",
       "    <tr>\n",
       "      <th>Swimming Men's 1,500 metres Freestyle</th>\n",
       "      <td>16.0</td>\n",
       "      <td>174.0</td>\n",
       "      <td>Brazil</td>\n",
       "      <td>Moskva</td>\n",
       "      <td>NaN</td>\n",
       "    </tr>\n",
       "    <tr>\n",
       "      <th>...</th>\n",
       "      <th>...</th>\n",
       "      <th>...</th>\n",
       "      <th>...</th>\n",
       "      <td>...</td>\n",
       "      <td>...</td>\n",
       "      <td>...</td>\n",
       "      <td>...</td>\n",
       "      <td>...</td>\n",
       "    </tr>\n",
       "    <tr>\n",
       "      <th rowspan=\"5\" valign=\"top\">2016</th>\n",
       "      <th rowspan=\"5\" valign=\"top\">Summer</th>\n",
       "      <th rowspan=\"5\" valign=\"top\">Table Tennis</th>\n",
       "      <th>Table Tennis Women's Team</th>\n",
       "      <td>26.0</td>\n",
       "      <td>166.0</td>\n",
       "      <td>Singapore</td>\n",
       "      <td>Rio de Janeiro</td>\n",
       "      <td>NaN</td>\n",
       "    </tr>\n",
       "    <tr>\n",
       "      <th>Table Tennis Women's Team</th>\n",
       "      <td>20.0</td>\n",
       "      <td>166.0</td>\n",
       "      <td>United States</td>\n",
       "      <td>Rio de Janeiro</td>\n",
       "      <td>NaN</td>\n",
       "    </tr>\n",
       "    <tr>\n",
       "      <th>Table Tennis Women's Team</th>\n",
       "      <td>25.0</td>\n",
       "      <td>162.0</td>\n",
       "      <td>Australia</td>\n",
       "      <td>Rio de Janeiro</td>\n",
       "      <td>NaN</td>\n",
       "    </tr>\n",
       "    <tr>\n",
       "      <th>Table Tennis Women's Team</th>\n",
       "      <td>28.0</td>\n",
       "      <td>165.0</td>\n",
       "      <td>United States</td>\n",
       "      <td>Rio de Janeiro</td>\n",
       "      <td>NaN</td>\n",
       "    </tr>\n",
       "    <tr>\n",
       "      <th>Table Tennis Women's Team</th>\n",
       "      <td>22.0</td>\n",
       "      <td>168.0</td>\n",
       "      <td>Singapore</td>\n",
       "      <td>Rio de Janeiro</td>\n",
       "      <td>NaN</td>\n",
       "    </tr>\n",
       "  </tbody>\n",
       "</table>\n",
       "<p>17935 rows × 5 columns</p>\n",
       "</div>"
      ],
      "text/plain": [
       "                                                                 Age  Height  \\\n",
       "Year Season Sport        Event                                                 \n",
       "1980 Summer Swimming     Swimming Men's 1,500 metres Freestyle  19.0   185.0   \n",
       "                         Swimming Men's 1,500 metres Freestyle  18.0   181.0   \n",
       "                         Swimming Men's 1,500 metres Freestyle  19.0   178.0   \n",
       "                         Swimming Men's 1,500 metres Freestyle  21.0   184.0   \n",
       "                         Swimming Men's 1,500 metres Freestyle  16.0   174.0   \n",
       "...                                                              ...     ...   \n",
       "2016 Summer Table Tennis Table Tennis Women's Team              26.0   166.0   \n",
       "                         Table Tennis Women's Team              20.0   166.0   \n",
       "                         Table Tennis Women's Team              25.0   162.0   \n",
       "                         Table Tennis Women's Team              28.0   165.0   \n",
       "                         Table Tennis Women's Team              22.0   168.0   \n",
       "\n",
       "                                                                         Team  \\\n",
       "Year Season Sport        Event                                                  \n",
       "1980 Summer Swimming     Swimming Men's 1,500 metres Freestyle  Great Britain   \n",
       "                         Swimming Men's 1,500 metres Freestyle   Soviet Union   \n",
       "                         Swimming Men's 1,500 metres Freestyle          Spain   \n",
       "                         Swimming Men's 1,500 metres Freestyle  Great Britain   \n",
       "                         Swimming Men's 1,500 metres Freestyle         Brazil   \n",
       "...                                                                       ...   \n",
       "2016 Summer Table Tennis Table Tennis Women's Team                  Singapore   \n",
       "                         Table Tennis Women's Team              United States   \n",
       "                         Table Tennis Women's Team                  Australia   \n",
       "                         Table Tennis Women's Team              United States   \n",
       "                         Table Tennis Women's Team                  Singapore   \n",
       "\n",
       "                                                                          City  \\\n",
       "Year Season Sport        Event                                                   \n",
       "1980 Summer Swimming     Swimming Men's 1,500 metres Freestyle          Moskva   \n",
       "                         Swimming Men's 1,500 metres Freestyle          Moskva   \n",
       "                         Swimming Men's 1,500 metres Freestyle          Moskva   \n",
       "                         Swimming Men's 1,500 metres Freestyle          Moskva   \n",
       "                         Swimming Men's 1,500 metres Freestyle          Moskva   \n",
       "...                                                                        ...   \n",
       "2016 Summer Table Tennis Table Tennis Women's Team              Rio de Janeiro   \n",
       "                         Table Tennis Women's Team              Rio de Janeiro   \n",
       "                         Table Tennis Women's Team              Rio de Janeiro   \n",
       "                         Table Tennis Women's Team              Rio de Janeiro   \n",
       "                         Table Tennis Women's Team              Rio de Janeiro   \n",
       "\n",
       "                                                                 Medal  \n",
       "Year Season Sport        Event                                          \n",
       "1980 Summer Swimming     Swimming Men's 1,500 metres Freestyle     NaN  \n",
       "                         Swimming Men's 1,500 metres Freestyle  Silver  \n",
       "                         Swimming Men's 1,500 metres Freestyle     NaN  \n",
       "                         Swimming Men's 1,500 metres Freestyle     NaN  \n",
       "                         Swimming Men's 1,500 metres Freestyle     NaN  \n",
       "...                                                                ...  \n",
       "2016 Summer Table Tennis Table Tennis Women's Team                 NaN  \n",
       "                         Table Tennis Women's Team                 NaN  \n",
       "                         Table Tennis Women's Team                 NaN  \n",
       "                         Table Tennis Women's Team                 NaN  \n",
       "                         Table Tennis Women's Team                 NaN  \n",
       "\n",
       "[17935 rows x 5 columns]"
      ]
     },
     "execution_count": 86,
     "metadata": {},
     "output_type": "execute_result"
    }
   ],
   "source": [
    "# page 123\n",
    "from pandas import IndexSlice as idx\n",
    "df.loc[idx[1980:2016, :, 'Swimming':'Table tennis'], :]"
   ]
  },
  {
   "cell_type": "markdown",
   "id": "1b8d7e5a-bbf5-477c-ae0d-e778570050ef",
   "metadata": {},
   "source": [
    "In which city were the most gold medals awarded from 1980 onward?"
   ]
  },
  {
   "cell_type": "code",
   "execution_count": null,
   "id": "e10e581f-4583-4665-bf09-98e2f442304f",
   "metadata": {},
   "outputs": [],
   "source": [
    "df.loc[1980:].loc[lambda df_: df_['Medal']=='Gold', 'City'].value_counts()"
   ]
  },
  {
   "cell_type": "code",
   "execution_count": 102,
   "id": "59f435bf-af28-4595-9c65-2a338d8c4e66",
   "metadata": {},
   "outputs": [
    {
     "data": {
      "text/html": [
       "<div>\n",
       "<style scoped>\n",
       "    .dataframe tbody tr th:only-of-type {\n",
       "        vertical-align: middle;\n",
       "    }\n",
       "\n",
       "    .dataframe tbody tr th {\n",
       "        vertical-align: top;\n",
       "    }\n",
       "\n",
       "    .dataframe thead th {\n",
       "        text-align: right;\n",
       "    }\n",
       "</style>\n",
       "<table border=\"1\" class=\"dataframe\">\n",
       "  <thead>\n",
       "    <tr style=\"text-align: right;\">\n",
       "      <th></th>\n",
       "      <th></th>\n",
       "      <th></th>\n",
       "      <th></th>\n",
       "      <th>Age</th>\n",
       "      <th>Height</th>\n",
       "      <th>Team</th>\n",
       "      <th>City</th>\n",
       "      <th>Medal</th>\n",
       "    </tr>\n",
       "    <tr>\n",
       "      <th>Year</th>\n",
       "      <th>Season</th>\n",
       "      <th>Sport</th>\n",
       "      <th>Event</th>\n",
       "      <th></th>\n",
       "      <th></th>\n",
       "      <th></th>\n",
       "      <th></th>\n",
       "      <th></th>\n",
       "    </tr>\n",
       "  </thead>\n",
       "  <tbody>\n",
       "    <tr>\n",
       "      <th rowspan=\"5\" valign=\"top\">1980</th>\n",
       "      <th rowspan=\"5\" valign=\"top\">Winter</th>\n",
       "      <th rowspan=\"5\" valign=\"top\">Alpine Skiing</th>\n",
       "      <th>Alpine Skiing Men's Downhill</th>\n",
       "      <td>26.0</td>\n",
       "      <td>173.0</td>\n",
       "      <td>United States</td>\n",
       "      <td>Lake Placid</td>\n",
       "      <td>NaN</td>\n",
       "    </tr>\n",
       "    <tr>\n",
       "      <th>Alpine Skiing Men's Downhill</th>\n",
       "      <td>22.0</td>\n",
       "      <td>175.0</td>\n",
       "      <td>United States</td>\n",
       "      <td>Lake Placid</td>\n",
       "      <td>NaN</td>\n",
       "    </tr>\n",
       "    <tr>\n",
       "      <th>Alpine Skiing Men's Downhill</th>\n",
       "      <td>27.0</td>\n",
       "      <td>180.0</td>\n",
       "      <td>United States</td>\n",
       "      <td>Lake Placid</td>\n",
       "      <td>NaN</td>\n",
       "    </tr>\n",
       "    <tr>\n",
       "      <th>Alpine Skiing Men's Downhill</th>\n",
       "      <td>23.0</td>\n",
       "      <td>165.0</td>\n",
       "      <td>United States</td>\n",
       "      <td>Lake Placid</td>\n",
       "      <td>NaN</td>\n",
       "    </tr>\n",
       "    <tr>\n",
       "      <th>Alpine Skiing Men's Giant Slalom</th>\n",
       "      <td>26.0</td>\n",
       "      <td>173.0</td>\n",
       "      <td>United States</td>\n",
       "      <td>Lake Placid</td>\n",
       "      <td>NaN</td>\n",
       "    </tr>\n",
       "    <tr>\n",
       "      <th>...</th>\n",
       "      <th>...</th>\n",
       "      <th>...</th>\n",
       "      <th>...</th>\n",
       "      <td>...</td>\n",
       "      <td>...</td>\n",
       "      <td>...</td>\n",
       "      <td>...</td>\n",
       "      <td>...</td>\n",
       "    </tr>\n",
       "    <tr>\n",
       "      <th rowspan=\"5\" valign=\"top\">2016</th>\n",
       "      <th rowspan=\"5\" valign=\"top\">Summer</th>\n",
       "      <th rowspan=\"5\" valign=\"top\">Wrestling</th>\n",
       "      <th>Wrestling Men's Welterweight, Freestyle</th>\n",
       "      <td>27.0</td>\n",
       "      <td>163.0</td>\n",
       "      <td>United States</td>\n",
       "      <td>Rio de Janeiro</td>\n",
       "      <td>NaN</td>\n",
       "    </tr>\n",
       "    <tr>\n",
       "      <th>Wrestling Women's Featherweight, Freestyle</th>\n",
       "      <td>24.0</td>\n",
       "      <td>163.0</td>\n",
       "      <td>United States</td>\n",
       "      <td>Rio de Janeiro</td>\n",
       "      <td>Gold</td>\n",
       "    </tr>\n",
       "    <tr>\n",
       "      <th>Wrestling Women's Flyweight, Freestyle</th>\n",
       "      <td>21.0</td>\n",
       "      <td>157.0</td>\n",
       "      <td>United States</td>\n",
       "      <td>Rio de Janeiro</td>\n",
       "      <td>NaN</td>\n",
       "    </tr>\n",
       "    <tr>\n",
       "      <th>Wrestling Women's Heavyweight, Freestyle</th>\n",
       "      <td>25.0</td>\n",
       "      <td>173.0</td>\n",
       "      <td>United States</td>\n",
       "      <td>Rio de Janeiro</td>\n",
       "      <td>NaN</td>\n",
       "    </tr>\n",
       "    <tr>\n",
       "      <th>Wrestling Women's Middleweight, Freestyle</th>\n",
       "      <td>29.0</td>\n",
       "      <td>168.0</td>\n",
       "      <td>United States</td>\n",
       "      <td>Rio de Janeiro</td>\n",
       "      <td>NaN</td>\n",
       "    </tr>\n",
       "  </tbody>\n",
       "</table>\n",
       "<p>8858 rows × 5 columns</p>\n",
       "</div>"
      ],
      "text/plain": [
       "                                                                       Age  \\\n",
       "Year Season Sport         Event                                              \n",
       "1980 Winter Alpine Skiing Alpine Skiing Men's Downhill                26.0   \n",
       "                          Alpine Skiing Men's Downhill                22.0   \n",
       "                          Alpine Skiing Men's Downhill                27.0   \n",
       "                          Alpine Skiing Men's Downhill                23.0   \n",
       "                          Alpine Skiing Men's Giant Slalom            26.0   \n",
       "...                                                                    ...   \n",
       "2016 Summer Wrestling     Wrestling Men's Welterweight, Freestyle     27.0   \n",
       "                          Wrestling Women's Featherweight, Freestyle  24.0   \n",
       "                          Wrestling Women's Flyweight, Freestyle      21.0   \n",
       "                          Wrestling Women's Heavyweight, Freestyle    25.0   \n",
       "                          Wrestling Women's Middleweight, Freestyle   29.0   \n",
       "\n",
       "                                                                      Height  \\\n",
       "Year Season Sport         Event                                                \n",
       "1980 Winter Alpine Skiing Alpine Skiing Men's Downhill                 173.0   \n",
       "                          Alpine Skiing Men's Downhill                 175.0   \n",
       "                          Alpine Skiing Men's Downhill                 180.0   \n",
       "                          Alpine Skiing Men's Downhill                 165.0   \n",
       "                          Alpine Skiing Men's Giant Slalom             173.0   \n",
       "...                                                                      ...   \n",
       "2016 Summer Wrestling     Wrestling Men's Welterweight, Freestyle      163.0   \n",
       "                          Wrestling Women's Featherweight, Freestyle   163.0   \n",
       "                          Wrestling Women's Flyweight, Freestyle       157.0   \n",
       "                          Wrestling Women's Heavyweight, Freestyle     173.0   \n",
       "                          Wrestling Women's Middleweight, Freestyle    168.0   \n",
       "\n",
       "                                                                               Team  \\\n",
       "Year Season Sport         Event                                                       \n",
       "1980 Winter Alpine Skiing Alpine Skiing Men's Downhill                United States   \n",
       "                          Alpine Skiing Men's Downhill                United States   \n",
       "                          Alpine Skiing Men's Downhill                United States   \n",
       "                          Alpine Skiing Men's Downhill                United States   \n",
       "                          Alpine Skiing Men's Giant Slalom            United States   \n",
       "...                                                                             ...   \n",
       "2016 Summer Wrestling     Wrestling Men's Welterweight, Freestyle     United States   \n",
       "                          Wrestling Women's Featherweight, Freestyle  United States   \n",
       "                          Wrestling Women's Flyweight, Freestyle      United States   \n",
       "                          Wrestling Women's Heavyweight, Freestyle    United States   \n",
       "                          Wrestling Women's Middleweight, Freestyle   United States   \n",
       "\n",
       "                                                                                City  \\\n",
       "Year Season Sport         Event                                                        \n",
       "1980 Winter Alpine Skiing Alpine Skiing Men's Downhill                   Lake Placid   \n",
       "                          Alpine Skiing Men's Downhill                   Lake Placid   \n",
       "                          Alpine Skiing Men's Downhill                   Lake Placid   \n",
       "                          Alpine Skiing Men's Downhill                   Lake Placid   \n",
       "                          Alpine Skiing Men's Giant Slalom               Lake Placid   \n",
       "...                                                                              ...   \n",
       "2016 Summer Wrestling     Wrestling Men's Welterweight, Freestyle     Rio de Janeiro   \n",
       "                          Wrestling Women's Featherweight, Freestyle  Rio de Janeiro   \n",
       "                          Wrestling Women's Flyweight, Freestyle      Rio de Janeiro   \n",
       "                          Wrestling Women's Heavyweight, Freestyle    Rio de Janeiro   \n",
       "                          Wrestling Women's Middleweight, Freestyle   Rio de Janeiro   \n",
       "\n",
       "                                                                     Medal  \n",
       "Year Season Sport         Event                                             \n",
       "1980 Winter Alpine Skiing Alpine Skiing Men's Downhill                 NaN  \n",
       "                          Alpine Skiing Men's Downhill                 NaN  \n",
       "                          Alpine Skiing Men's Downhill                 NaN  \n",
       "                          Alpine Skiing Men's Downhill                 NaN  \n",
       "                          Alpine Skiing Men's Giant Slalom             NaN  \n",
       "...                                                                    ...  \n",
       "2016 Summer Wrestling     Wrestling Men's Welterweight, Freestyle      NaN  \n",
       "                          Wrestling Women's Featherweight, Freestyle  Gold  \n",
       "                          Wrestling Women's Flyweight, Freestyle       NaN  \n",
       "                          Wrestling Women's Heavyweight, Freestyle     NaN  \n",
       "                          Wrestling Women's Middleweight, Freestyle    NaN  \n",
       "\n",
       "[8858 rows x 5 columns]"
      ]
     },
     "execution_count": 102,
     "metadata": {},
     "output_type": "execute_result"
    }
   ],
   "source": [
    "df.loc[1980:].loc[lambda df_: df_['Team']=='United States']"
   ]
  },
  {
   "cell_type": "markdown",
   "id": "d2d103fc-1f75-4265-a1a5-16090f62320f",
   "metadata": {},
   "source": [
    "How many gold medals were received by the United States since 1980? (Use the\n",
    "index to select the values."
   ]
  },
  {
   "cell_type": "code",
   "execution_count": 105,
   "id": "6147ff65-6d26-45fd-a77e-a5b3a963ed2a",
   "metadata": {},
   "outputs": [
    {
     "data": {
      "text/plain": [
       "Age       1257\n",
       "Height    1254\n",
       "Team      1257\n",
       "City      1257\n",
       "Medal     1257\n",
       "dtype: int64"
      ]
     },
     "execution_count": 105,
     "metadata": {},
     "output_type": "execute_result"
    }
   ],
   "source": [
    "df.loc[1980:].loc[lambda df_: df_['Team']=='United States'].loc[lambda df_: df_['Medal']=='Gold'].count()"
   ]
  },
  {
   "cell_type": "code",
   "execution_count": 106,
   "id": "a0f756a0-bbcc-4ff4-9431-d382cfd291c2",
   "metadata": {},
   "outputs": [
    {
     "data": {
      "text/plain": [
       "1257"
      ]
     },
     "execution_count": 106,
     "metadata": {},
     "output_type": "execute_result"
    }
   ],
   "source": [
    "df.loc[1980:].loc[lambda df_: (df_['Team'] == 'United States') & (df_['Medal'] == 'Gold'), 'City'].count()"
   ]
  },
  {
   "cell_type": "markdown",
   "id": "d2ec6e8d-e869-46a6-9c13-dad3f1fae4df",
   "metadata": {},
   "source": [
    "## Pivot tables"
   ]
  },
  {
   "cell_type": "code",
   "execution_count": 108,
   "id": "9c4f4ef3-7a42-4ce7-b1d9-3f2c0870b75e",
   "metadata": {},
   "outputs": [],
   "source": [
    "from pandas import DataFrame\n",
    "g = np.random.default_rng(0)\n",
    "df = DataFrame(g.integers(0, 100, [8,3]),\n",
    "columns=list('ABC'))\n",
    "df['year'] = [2018] * 4 + [2019] * 4\n",
    "df['quarter'] = 'Q1 Q2 Q3 Q4'.split() * 2"
   ]
  },
  {
   "cell_type": "code",
   "execution_count": 109,
   "id": "72d09cc2-53b0-4329-8c3b-2b6b1146eaae",
   "metadata": {},
   "outputs": [
    {
     "data": {
      "text/html": [
       "<div>\n",
       "<style scoped>\n",
       "    .dataframe tbody tr th:only-of-type {\n",
       "        vertical-align: middle;\n",
       "    }\n",
       "\n",
       "    .dataframe tbody tr th {\n",
       "        vertical-align: top;\n",
       "    }\n",
       "\n",
       "    .dataframe thead th {\n",
       "        text-align: right;\n",
       "    }\n",
       "</style>\n",
       "<table border=\"1\" class=\"dataframe\">\n",
       "  <thead>\n",
       "    <tr style=\"text-align: right;\">\n",
       "      <th></th>\n",
       "      <th>A</th>\n",
       "      <th>B</th>\n",
       "      <th>C</th>\n",
       "      <th>year</th>\n",
       "      <th>quarter</th>\n",
       "    </tr>\n",
       "  </thead>\n",
       "  <tbody>\n",
       "    <tr>\n",
       "      <th>0</th>\n",
       "      <td>85</td>\n",
       "      <td>63</td>\n",
       "      <td>51</td>\n",
       "      <td>2018</td>\n",
       "      <td>Q1</td>\n",
       "    </tr>\n",
       "    <tr>\n",
       "      <th>1</th>\n",
       "      <td>26</td>\n",
       "      <td>30</td>\n",
       "      <td>4</td>\n",
       "      <td>2018</td>\n",
       "      <td>Q2</td>\n",
       "    </tr>\n",
       "    <tr>\n",
       "      <th>2</th>\n",
       "      <td>7</td>\n",
       "      <td>1</td>\n",
       "      <td>17</td>\n",
       "      <td>2018</td>\n",
       "      <td>Q3</td>\n",
       "    </tr>\n",
       "    <tr>\n",
       "      <th>3</th>\n",
       "      <td>81</td>\n",
       "      <td>64</td>\n",
       "      <td>91</td>\n",
       "      <td>2018</td>\n",
       "      <td>Q4</td>\n",
       "    </tr>\n",
       "    <tr>\n",
       "      <th>4</th>\n",
       "      <td>50</td>\n",
       "      <td>60</td>\n",
       "      <td>97</td>\n",
       "      <td>2019</td>\n",
       "      <td>Q1</td>\n",
       "    </tr>\n",
       "    <tr>\n",
       "      <th>5</th>\n",
       "      <td>72</td>\n",
       "      <td>63</td>\n",
       "      <td>54</td>\n",
       "      <td>2019</td>\n",
       "      <td>Q2</td>\n",
       "    </tr>\n",
       "    <tr>\n",
       "      <th>6</th>\n",
       "      <td>55</td>\n",
       "      <td>93</td>\n",
       "      <td>27</td>\n",
       "      <td>2019</td>\n",
       "      <td>Q3</td>\n",
       "    </tr>\n",
       "    <tr>\n",
       "      <th>7</th>\n",
       "      <td>81</td>\n",
       "      <td>67</td>\n",
       "      <td>0</td>\n",
       "      <td>2019</td>\n",
       "      <td>Q4</td>\n",
       "    </tr>\n",
       "  </tbody>\n",
       "</table>\n",
       "</div>"
      ],
      "text/plain": [
       "    A   B   C  year quarter\n",
       "0  85  63  51  2018      Q1\n",
       "1  26  30   4  2018      Q2\n",
       "2   7   1  17  2018      Q3\n",
       "3  81  64  91  2018      Q4\n",
       "4  50  60  97  2019      Q1\n",
       "5  72  63  54  2019      Q2\n",
       "6  55  93  27  2019      Q3\n",
       "7  81  67   0  2019      Q4"
      ]
     },
     "execution_count": 109,
     "metadata": {},
     "output_type": "execute_result"
    }
   ],
   "source": [
    "df"
   ]
  },
  {
   "cell_type": "code",
   "execution_count": 110,
   "id": "4e7cd2f9-f702-4dc1-b80d-777364936e24",
   "metadata": {},
   "outputs": [
    {
     "data": {
      "text/html": [
       "<div>\n",
       "<style scoped>\n",
       "    .dataframe tbody tr th:only-of-type {\n",
       "        vertical-align: middle;\n",
       "    }\n",
       "\n",
       "    .dataframe tbody tr th {\n",
       "        vertical-align: top;\n",
       "    }\n",
       "\n",
       "    .dataframe thead th {\n",
       "        text-align: right;\n",
       "    }\n",
       "</style>\n",
       "<table border=\"1\" class=\"dataframe\">\n",
       "  <thead>\n",
       "    <tr style=\"text-align: right;\">\n",
       "      <th>year</th>\n",
       "      <th>2018</th>\n",
       "      <th>2019</th>\n",
       "    </tr>\n",
       "    <tr>\n",
       "      <th>quarter</th>\n",
       "      <th></th>\n",
       "      <th></th>\n",
       "    </tr>\n",
       "  </thead>\n",
       "  <tbody>\n",
       "    <tr>\n",
       "      <th>Q1</th>\n",
       "      <td>85.0</td>\n",
       "      <td>50.0</td>\n",
       "    </tr>\n",
       "    <tr>\n",
       "      <th>Q2</th>\n",
       "      <td>26.0</td>\n",
       "      <td>72.0</td>\n",
       "    </tr>\n",
       "    <tr>\n",
       "      <th>Q3</th>\n",
       "      <td>7.0</td>\n",
       "      <td>55.0</td>\n",
       "    </tr>\n",
       "    <tr>\n",
       "      <th>Q4</th>\n",
       "      <td>81.0</td>\n",
       "      <td>81.0</td>\n",
       "    </tr>\n",
       "  </tbody>\n",
       "</table>\n",
       "</div>"
      ],
      "text/plain": [
       "year     2018  2019\n",
       "quarter            \n",
       "Q1       85.0  50.0\n",
       "Q2       26.0  72.0\n",
       "Q3        7.0  55.0\n",
       "Q4       81.0  81.0"
      ]
     },
     "execution_count": 110,
     "metadata": {},
     "output_type": "execute_result"
    }
   ],
   "source": [
    "df.pivot_table(index='quarter',\n",
    "columns='year',\n",
    "values='A')"
   ]
  },
  {
   "cell_type": "code",
   "execution_count": 111,
   "id": "85fa273d-f8c2-47c3-a91d-cd9714a5eca7",
   "metadata": {},
   "outputs": [
    {
     "data": {
      "text/html": [
       "<div>\n",
       "<style scoped>\n",
       "    .dataframe tbody tr th:only-of-type {\n",
       "        vertical-align: middle;\n",
       "    }\n",
       "\n",
       "    .dataframe tbody tr th {\n",
       "        vertical-align: top;\n",
       "    }\n",
       "\n",
       "    .dataframe thead th {\n",
       "        text-align: right;\n",
       "    }\n",
       "</style>\n",
       "<table border=\"1\" class=\"dataframe\">\n",
       "  <thead>\n",
       "    <tr style=\"text-align: right;\">\n",
       "      <th>year</th>\n",
       "      <th>2018</th>\n",
       "      <th>2019</th>\n",
       "    </tr>\n",
       "    <tr>\n",
       "      <th>quarter</th>\n",
       "      <th></th>\n",
       "      <th></th>\n",
       "    </tr>\n",
       "  </thead>\n",
       "  <tbody>\n",
       "    <tr>\n",
       "      <th>Q1</th>\n",
       "      <td>1</td>\n",
       "      <td>1</td>\n",
       "    </tr>\n",
       "    <tr>\n",
       "      <th>Q2</th>\n",
       "      <td>1</td>\n",
       "      <td>1</td>\n",
       "    </tr>\n",
       "    <tr>\n",
       "      <th>Q3</th>\n",
       "      <td>1</td>\n",
       "      <td>1</td>\n",
       "    </tr>\n",
       "    <tr>\n",
       "      <th>Q4</th>\n",
       "      <td>1</td>\n",
       "      <td>1</td>\n",
       "    </tr>\n",
       "  </tbody>\n",
       "</table>\n",
       "</div>"
      ],
      "text/plain": [
       "year     2018  2019\n",
       "quarter            \n",
       "Q1          1     1\n",
       "Q2          1     1\n",
       "Q3          1     1\n",
       "Q4          1     1"
      ]
     },
     "execution_count": 111,
     "metadata": {},
     "output_type": "execute_result"
    }
   ],
   "source": [
    "df.pivot_table(index='quarter',\n",
    "columns='year',x\n",
    "values='A',\n",
    "sort=False,\n",
    "aggfunc='size')"
   ]
  },
  {
   "cell_type": "code",
   "execution_count": null,
   "id": "a7266376-07b1-4fc6-923e-fe4028a10842",
   "metadata": {},
   "outputs": [],
   "source": []
  }
 ],
 "metadata": {
  "kernelspec": {
   "display_name": "Python [conda env:py311b]",
   "language": "python",
   "name": "conda-env-py311b-py"
  },
  "language_info": {
   "codemirror_mode": {
    "name": "ipython",
    "version": 3
   },
   "file_extension": ".py",
   "mimetype": "text/x-python",
   "name": "python",
   "nbconvert_exporter": "python",
   "pygments_lexer": "ipython3",
   "version": "3.11.13"
  },
  "widgets": {
   "application/vnd.jupyter.widget-state+json": {
    "state": {},
    "version_major": 2,
    "version_minor": 0
   }
  }
 },
 "nbformat": 4,
 "nbformat_minor": 5
}
