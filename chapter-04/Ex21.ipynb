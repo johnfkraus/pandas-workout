{
 "cells": [
  {
   "cell_type": "code",
   "execution_count": 42,
   "id": "ecf5c054-2d45-4e6c-b415-9a3a2cffa3d7",
   "metadata": {},
   "outputs": [],
   "source": [
    "# cols = \"Summons Number,Plate ID,Registration State,Plate Type,Issue Date,Violation Code,Vehicle Body Type,Vehicle Make,Issuing Agency,Street Code1,Street Code2,Street Code3,Vehicle Expiration Date,Violation Location,Violation Precinct,Issuer Precinct,Issuer Code,Issuer Command,Issuer Squad,Violation Time,Time First Observed,Violation County,Violation In Front Of Or Opposite,House Number,Street Name,Intersecting Street,Date First Observed,Law Section,Sub Division,Violation Legal Code,Days Parking In Effect,From Hours In Effect,To Hours In Effect,Vehicle Color,Unregistered Vehicle?,Vehicle Year,Meter Number,Feet From Curb,Violation Post Code,Violation Description,No Standing or Stopping Violation,Hydrant Violation,Double Parking Violation\".split(\",\")"
   ]
  },
  {
   "cell_type": "markdown",
   "id": "eefedace-e771-45a9-9d70-540bdfffb5b3",
   "metadata": {},
   "source": [
    "Note: data contains some future dates"
   ]
  },
  {
   "cell_type": "code",
   "execution_count": 43,
   "id": "16ad1201-5680-4968-aee8-43497aa137dd",
   "metadata": {},
   "outputs": [],
   "source": [
    "import pandas as pd"
   ]
  },
  {
   "cell_type": "code",
   "execution_count": 44,
   "id": "d6b5d23a-80ec-454f-bcf6-53aa499f893f",
   "metadata": {},
   "outputs": [],
   "source": [
    "# cols"
   ]
  },
  {
   "cell_type": "code",
   "execution_count": 45,
   "id": "95d49c4e-cbb0-4614-bffb-02e32ad407da",
   "metadata": {},
   "outputs": [
    {
     "data": {
      "text/plain": [
       "7"
      ]
     },
     "execution_count": 45,
     "metadata": {},
     "output_type": "execute_result"
    }
   ],
   "source": [
    "cols2 = ['Date First Observed', 'Plate ID','Registration State','Issue Date', 'Vehicle Make', 'Street Name', 'Vehicle Color']\n",
    "len(cols2)"
   ]
  },
  {
   "cell_type": "code",
   "execution_count": 60,
   "id": "6feed519-60db-4206-8cb7-023ed16c3752",
   "metadata": {},
   "outputs": [],
   "source": [
    "df = pd.read_csv('/Users/blauerbock/workspaces/pandas-workout/data/nyc-parking-violations-2020.csv', \n",
    "                 header=0, usecols=cols2)"
   ]
  },
  {
   "cell_type": "code",
   "execution_count": 62,
   "id": "9f8fe6ac-012a-499c-9af9-898708a95eb6",
   "metadata": {},
   "outputs": [
    {
     "data": {
      "text/plain": [
       "Vehicle Color\n",
       "WH       2344858\n",
       "GY       2307704\n",
       "BK       2066374\n",
       "WHITE    1061234\n",
       "BL        775124\n",
       "RD        483298\n",
       "BLACK     465110\n",
       "GREY      306787\n",
       "BROWN     292348\n",
       "SILVE     191477\n",
       "GR        182929\n",
       "BLUE      178298\n",
       "Name: count, dtype: int64"
      ]
     },
     "execution_count": 62,
     "metadata": {},
     "output_type": "execute_result"
    }
   ],
   "source": [
    "df['Vehicle Color'].value_counts().head(12)"
   ]
  },
  {
   "cell_type": "code",
   "execution_count": 64,
   "id": "bb179698-cb06-441a-b375-7ff2908a1f74",
   "metadata": {},
   "outputs": [
    {
     "data": {
      "text/plain": [
       "Date First Observed\n",
       "0           12371344\n",
       "20200311         887\n",
       "20200205         795\n",
       "20200212         793\n",
       "20200310         770\n",
       "              ...   \n",
       "20200230           1\n",
       "20190602           1\n",
       "20220412           1\n",
       "20160614           1\n",
       "20190527           1\n",
       "Name: count, Length: 465, dtype: int64"
      ]
     },
     "execution_count": 64,
     "metadata": {},
     "output_type": "execute_result"
    }
   ],
   "source": [
    "df['Date First Observed'].value_counts()"
   ]
  },
  {
   "cell_type": "code",
   "execution_count": 65,
   "id": "869ddfcf-bcb2-4030-bc64-cdd6f09d7654",
   "metadata": {},
   "outputs": [],
   "source": [
    "df = pd.read_csv('/Users/blauerbock/workspaces/pandas-workout/data/nyc-parking-violations-2020.csv', \n",
    "                 header=0, usecols=cols2, index_col='Issue Date')"
   ]
  },
  {
   "cell_type": "code",
   "execution_count": 66,
   "id": "20e7438e-4857-49ba-8019-34645e34747b",
   "metadata": {},
   "outputs": [
    {
     "data": {
      "text/html": [
       "<div>\n",
       "<style scoped>\n",
       "    .dataframe tbody tr th:only-of-type {\n",
       "        vertical-align: middle;\n",
       "    }\n",
       "\n",
       "    .dataframe tbody tr th {\n",
       "        vertical-align: top;\n",
       "    }\n",
       "\n",
       "    .dataframe thead th {\n",
       "        text-align: right;\n",
       "    }\n",
       "</style>\n",
       "<table border=\"1\" class=\"dataframe\">\n",
       "  <thead>\n",
       "    <tr style=\"text-align: right;\">\n",
       "      <th></th>\n",
       "      <th>Plate ID</th>\n",
       "      <th>Registration State</th>\n",
       "      <th>Vehicle Make</th>\n",
       "      <th>Street Name</th>\n",
       "      <th>Date First Observed</th>\n",
       "      <th>Vehicle Color</th>\n",
       "    </tr>\n",
       "    <tr>\n",
       "      <th>Issue Date</th>\n",
       "      <th></th>\n",
       "      <th></th>\n",
       "      <th></th>\n",
       "      <th></th>\n",
       "      <th></th>\n",
       "      <th></th>\n",
       "    </tr>\n",
       "  </thead>\n",
       "  <tbody>\n",
       "    <tr>\n",
       "      <th>05/08/1972 12:00:00 AM</th>\n",
       "      <td>J58JKX</td>\n",
       "      <td>NJ</td>\n",
       "      <td>HONDA</td>\n",
       "      <td>43 ST</td>\n",
       "      <td>0</td>\n",
       "      <td>BK</td>\n",
       "    </tr>\n",
       "    <tr>\n",
       "      <th>08/29/1977 12:00:00 AM</th>\n",
       "      <td>KRE6058</td>\n",
       "      <td>PA</td>\n",
       "      <td>ME/BE</td>\n",
       "      <td>UNION ST</td>\n",
       "      <td>0</td>\n",
       "      <td>BLK</td>\n",
       "    </tr>\n",
       "    <tr>\n",
       "      <th>10/03/1988 12:00:00 AM</th>\n",
       "      <td>444326R</td>\n",
       "      <td>NJ</td>\n",
       "      <td>LEXUS</td>\n",
       "      <td>CLERMONT AVENUE</td>\n",
       "      <td>0</td>\n",
       "      <td>BLACK</td>\n",
       "    </tr>\n",
       "    <tr>\n",
       "      <th>01/03/1990 12:00:00 AM</th>\n",
       "      <td>F728330</td>\n",
       "      <td>OH</td>\n",
       "      <td>CHEVR</td>\n",
       "      <td>DIVISION AVE</td>\n",
       "      <td>0</td>\n",
       "      <td>NaN</td>\n",
       "    </tr>\n",
       "    <tr>\n",
       "      <th>02/14/1990 12:00:00 AM</th>\n",
       "      <td>FMY9090</td>\n",
       "      <td>NY</td>\n",
       "      <td>JEEP</td>\n",
       "      <td>GRAND ST</td>\n",
       "      <td>0</td>\n",
       "      <td>GREY</td>\n",
       "    </tr>\n",
       "  </tbody>\n",
       "</table>\n",
       "</div>"
      ],
      "text/plain": [
       "                       Plate ID Registration State Vehicle Make  \\\n",
       "Issue Date                                                        \n",
       "05/08/1972 12:00:00 AM   J58JKX                 NJ        HONDA   \n",
       "08/29/1977 12:00:00 AM  KRE6058                 PA        ME/BE   \n",
       "10/03/1988 12:00:00 AM  444326R                 NJ        LEXUS   \n",
       "01/03/1990 12:00:00 AM  F728330                 OH        CHEVR   \n",
       "02/14/1990 12:00:00 AM  FMY9090                 NY         JEEP   \n",
       "\n",
       "                            Street Name  Date First Observed Vehicle Color  \n",
       "Issue Date                                                                  \n",
       "05/08/1972 12:00:00 AM            43 ST                    0            BK  \n",
       "08/29/1977 12:00:00 AM         UNION ST                    0           BLK  \n",
       "10/03/1988 12:00:00 AM  CLERMONT AVENUE                    0         BLACK  \n",
       "01/03/1990 12:00:00 AM     DIVISION AVE                    0           NaN  \n",
       "02/14/1990 12:00:00 AM         GRAND ST                    0          GREY  "
      ]
     },
     "execution_count": 66,
     "metadata": {},
     "output_type": "execute_result"
    }
   ],
   "source": [
    "df.head()"
   ]
  },
  {
   "cell_type": "code",
   "execution_count": 67,
   "id": "c4fc7561-d29a-4926-b166-361cd32664b3",
   "metadata": {},
   "outputs": [
    {
     "name": "stdout",
     "output_type": "stream",
     "text": [
      "<class 'pandas.core.frame.DataFrame'>\n",
      "Index: 12495734 entries, 05/08/1972 12:00:00 AM to 06/04/2064 12:00:00 AM\n",
      "Data columns (total 6 columns):\n",
      " #   Column               Dtype \n",
      "---  ------               ----- \n",
      " 0   Plate ID             object\n",
      " 1   Registration State   object\n",
      " 2   Vehicle Make         object\n",
      " 3   Street Name          object\n",
      " 4   Date First Observed  int64 \n",
      " 5   Vehicle Color        object\n",
      "dtypes: int64(1), object(5)\n",
      "memory usage: 667.3+ MB\n"
     ]
    }
   ],
   "source": [
    "df.info()"
   ]
  },
  {
   "cell_type": "code",
   "execution_count": 68,
   "id": "b6585136-81c5-417b-aaa7-ca99e4604348",
   "metadata": {},
   "outputs": [
    {
     "data": {
      "text/plain": [
       "(12495734, 6)"
      ]
     },
     "execution_count": 68,
     "metadata": {},
     "output_type": "execute_result"
    }
   ],
   "source": [
    "df.shape"
   ]
  },
  {
   "cell_type": "code",
   "execution_count": 69,
   "id": "f3943700-6022-4537-bbc4-26e3462359ea",
   "metadata": {},
   "outputs": [
    {
     "data": {
      "text/plain": [
       "Vehicle Make\n",
       "TOYOT    3829\n",
       "HONDA    3593\n",
       "FORD     3164\n",
       "Name: count, dtype: int64"
      ]
     },
     "execution_count": 69,
     "metadata": {},
     "output_type": "execute_result"
    }
   ],
   "source": [
    "df.loc['01/02/2020 12:00:00 AM', 'Vehicle Make'].value_counts().head(3)"
   ]
  },
  {
   "cell_type": "code",
   "execution_count": 70,
   "id": "72c0d561-0937-46b2-ae74-8ad3fe750254",
   "metadata": {},
   "outputs": [
    {
     "data": {
      "text/plain": [
       "Street Name\n",
       "WB CONDUIT BLVD @ LI    1068\n",
       "SB WEST ST @ LEROY S     335\n",
       "EB HORACE HARDING EX     273\n",
       "EB QUEENS BLVD @ 82N     245\n",
       "WB ATLANTIC AVE @ CL     229\n",
       "Name: count, dtype: int64"
      ]
     },
     "execution_count": 70,
     "metadata": {},
     "output_type": "execute_result"
    }
   ],
   "source": [
    "df.loc['06/01/2020 12:00:00 AM', 'Street Name'].value_counts().head(5)"
   ]
  },
  {
   "cell_type": "code",
   "execution_count": 71,
   "id": "e1798509-c9f9-4488-9edf-5573fda2a716",
   "metadata": {},
   "outputs": [],
   "source": [
    "df = df.reset_index().set_index('Vehicle Color')"
   ]
  },
  {
   "cell_type": "code",
   "execution_count": 72,
   "id": "f1df4e88-beec-425d-83fd-c9e1d60218e3",
   "metadata": {},
   "outputs": [
    {
     "data": {
      "text/html": [
       "<div>\n",
       "<style scoped>\n",
       "    .dataframe tbody tr th:only-of-type {\n",
       "        vertical-align: middle;\n",
       "    }\n",
       "\n",
       "    .dataframe tbody tr th {\n",
       "        vertical-align: top;\n",
       "    }\n",
       "\n",
       "    .dataframe thead th {\n",
       "        text-align: right;\n",
       "    }\n",
       "</style>\n",
       "<table border=\"1\" class=\"dataframe\">\n",
       "  <thead>\n",
       "    <tr style=\"text-align: right;\">\n",
       "      <th></th>\n",
       "      <th>Issue Date</th>\n",
       "      <th>Plate ID</th>\n",
       "      <th>Registration State</th>\n",
       "      <th>Vehicle Make</th>\n",
       "      <th>Street Name</th>\n",
       "      <th>Date First Observed</th>\n",
       "    </tr>\n",
       "    <tr>\n",
       "      <th>Vehicle Color</th>\n",
       "      <th></th>\n",
       "      <th></th>\n",
       "      <th></th>\n",
       "      <th></th>\n",
       "      <th></th>\n",
       "      <th></th>\n",
       "    </tr>\n",
       "  </thead>\n",
       "  <tbody>\n",
       "    <tr>\n",
       "      <th>BK</th>\n",
       "      <td>05/08/1972 12:00:00 AM</td>\n",
       "      <td>J58JKX</td>\n",
       "      <td>NJ</td>\n",
       "      <td>HONDA</td>\n",
       "      <td>43 ST</td>\n",
       "      <td>0</td>\n",
       "    </tr>\n",
       "    <tr>\n",
       "      <th>BLK</th>\n",
       "      <td>08/29/1977 12:00:00 AM</td>\n",
       "      <td>KRE6058</td>\n",
       "      <td>PA</td>\n",
       "      <td>ME/BE</td>\n",
       "      <td>UNION ST</td>\n",
       "      <td>0</td>\n",
       "    </tr>\n",
       "    <tr>\n",
       "      <th>BLACK</th>\n",
       "      <td>10/03/1988 12:00:00 AM</td>\n",
       "      <td>444326R</td>\n",
       "      <td>NJ</td>\n",
       "      <td>LEXUS</td>\n",
       "      <td>CLERMONT AVENUE</td>\n",
       "      <td>0</td>\n",
       "    </tr>\n",
       "    <tr>\n",
       "      <th>NaN</th>\n",
       "      <td>01/03/1990 12:00:00 AM</td>\n",
       "      <td>F728330</td>\n",
       "      <td>OH</td>\n",
       "      <td>CHEVR</td>\n",
       "      <td>DIVISION AVE</td>\n",
       "      <td>0</td>\n",
       "    </tr>\n",
       "    <tr>\n",
       "      <th>GREY</th>\n",
       "      <td>02/14/1990 12:00:00 AM</td>\n",
       "      <td>FMY9090</td>\n",
       "      <td>NY</td>\n",
       "      <td>JEEP</td>\n",
       "      <td>GRAND ST</td>\n",
       "      <td>0</td>\n",
       "    </tr>\n",
       "    <tr>\n",
       "      <th>...</th>\n",
       "      <td>...</td>\n",
       "      <td>...</td>\n",
       "      <td>...</td>\n",
       "      <td>...</td>\n",
       "      <td>...</td>\n",
       "      <td>...</td>\n",
       "    </tr>\n",
       "    <tr>\n",
       "      <th>BR</th>\n",
       "      <td>01/03/2040 12:00:00 AM</td>\n",
       "      <td>62161MM</td>\n",
       "      <td>NY</td>\n",
       "      <td>FORD</td>\n",
       "      <td>3RD AVE</td>\n",
       "      <td>0</td>\n",
       "    </tr>\n",
       "    <tr>\n",
       "      <th>BLK</th>\n",
       "      <td>04/19/2045 12:00:00 AM</td>\n",
       "      <td>GYE7330</td>\n",
       "      <td>NY</td>\n",
       "      <td>HONDA</td>\n",
       "      <td>PELHAM PARK DR</td>\n",
       "      <td>0</td>\n",
       "    </tr>\n",
       "    <tr>\n",
       "      <th>GY</th>\n",
       "      <td>01/17/2049 12:00:00 AM</td>\n",
       "      <td>HNY4802</td>\n",
       "      <td>NY</td>\n",
       "      <td>FORD</td>\n",
       "      <td>LYDIG AVE</td>\n",
       "      <td>0</td>\n",
       "    </tr>\n",
       "    <tr>\n",
       "      <th>BLK</th>\n",
       "      <td>12/19/2063 12:00:00 AM</td>\n",
       "      <td>T687081C</td>\n",
       "      <td>NY</td>\n",
       "      <td>TOYOT</td>\n",
       "      <td>E 68 STREET</td>\n",
       "      <td>0</td>\n",
       "    </tr>\n",
       "    <tr>\n",
       "      <th>WHITE</th>\n",
       "      <td>06/04/2064 12:00:00 AM</td>\n",
       "      <td>3497ZN</td>\n",
       "      <td>WA</td>\n",
       "      <td>UTILI</td>\n",
       "      <td>W/S/O 182 STREET</td>\n",
       "      <td>0</td>\n",
       "    </tr>\n",
       "  </tbody>\n",
       "</table>\n",
       "<p>12495734 rows × 6 columns</p>\n",
       "</div>"
      ],
      "text/plain": [
       "                           Issue Date  Plate ID Registration State  \\\n",
       "Vehicle Color                                                        \n",
       "BK             05/08/1972 12:00:00 AM    J58JKX                 NJ   \n",
       "BLK            08/29/1977 12:00:00 AM   KRE6058                 PA   \n",
       "BLACK          10/03/1988 12:00:00 AM   444326R                 NJ   \n",
       "NaN            01/03/1990 12:00:00 AM   F728330                 OH   \n",
       "GREY           02/14/1990 12:00:00 AM   FMY9090                 NY   \n",
       "...                               ...       ...                ...   \n",
       "BR             01/03/2040 12:00:00 AM   62161MM                 NY   \n",
       "BLK            04/19/2045 12:00:00 AM   GYE7330                 NY   \n",
       "GY             01/17/2049 12:00:00 AM   HNY4802                 NY   \n",
       "BLK            12/19/2063 12:00:00 AM  T687081C                 NY   \n",
       "WHITE          06/04/2064 12:00:00 AM    3497ZN                 WA   \n",
       "\n",
       "              Vehicle Make       Street Name  Date First Observed  \n",
       "Vehicle Color                                                      \n",
       "BK                   HONDA             43 ST                    0  \n",
       "BLK                  ME/BE          UNION ST                    0  \n",
       "BLACK                LEXUS   CLERMONT AVENUE                    0  \n",
       "NaN                  CHEVR      DIVISION AVE                    0  \n",
       "GREY                  JEEP          GRAND ST                    0  \n",
       "...                    ...               ...                  ...  \n",
       "BR                    FORD           3RD AVE                    0  \n",
       "BLK                  HONDA    PELHAM PARK DR                    0  \n",
       "GY                    FORD         LYDIG AVE                    0  \n",
       "BLK                  TOYOT       E 68 STREET                    0  \n",
       "WHITE                UTILI  W/S/O 182 STREET                    0  \n",
       "\n",
       "[12495734 rows x 6 columns]"
      ]
     },
     "execution_count": 72,
     "metadata": {},
     "output_type": "execute_result"
    }
   ],
   "source": [
    "df"
   ]
  },
  {
   "cell_type": "code",
   "execution_count": 77,
   "id": "648f884a-a009-4426-b53a-8e71f15c90dc",
   "metadata": {},
   "outputs": [
    {
     "data": {
      "text/plain": [
       "Vehicle Make\n",
       "HONDA    184271\n",
       "TOYOT    141817\n",
       "FORD     122911\n",
       "NISSA    117533\n",
       "CHEVR     64142\n",
       "          ...  \n",
       "WIBAC         1\n",
       "COPPE         1\n",
       "TENSC         1\n",
       "TESSL         1\n",
       "MITSB         1\n",
       "Name: count, Length: 655, dtype: int64"
      ]
     },
     "execution_count": 77,
     "metadata": {},
     "output_type": "execute_result"
    }
   ],
   "source": [
    "df.loc[['BL', 'RD'],'Vehicle Make'].value_counts()"
   ]
  },
  {
   "cell_type": "code",
   "execution_count": 79,
   "id": "7066d066-9274-461b-a499-c5fe328a26a8",
   "metadata": {},
   "outputs": [
    {
     "data": {
      "text/plain": [
       "Vehicle Make\n",
       "HONDA    39353\n",
       "FORD     30990\n",
       "TOYOT    30925\n",
       "NISSA    24950\n",
       "FRUEH    18506\n",
       "         ...  \n",
       "LASER        1\n",
       "HPAMO        1\n",
       "ZYMER        1\n",
       "PERMA        1\n",
       "BUDD         1\n",
       "Name: count, Length: 839, dtype: int64"
      ]
     },
     "execution_count": 79,
     "metadata": {},
     "output_type": "execute_result"
    }
   ],
   "source": [
    "df.loc[['BLUE', 'RED'],'Vehicle Make'].value_counts()"
   ]
  },
  {
   "cell_type": "code",
   "execution_count": 78,
   "id": "e3c6b922-190e-4ab5-b095-089ae5f6462d",
   "metadata": {},
   "outputs": [
    {
     "data": {
      "text/plain": [
       "Vehicle Make\n",
       "HONDA    39353\n",
       "Name: count, dtype: int64"
      ]
     },
     "execution_count": 78,
     "metadata": {},
     "output_type": "execute_result"
    }
   ],
   "source": [
    "df.loc[['BLUE', 'RED'], 'Vehicle Make'].value_counts().head(1)"
   ]
  },
  {
   "cell_type": "markdown",
   "id": "516e9cd7-9b2e-4977-9101-96f6f7785b34",
   "metadata": {},
   "source": [
    "### What three car makes were most often ticketed from January 2 through January 10?"
   ]
  },
  {
   "cell_type": "code",
   "execution_count": 82,
   "id": "712b5037-7062-412e-a71e-577d7717a41a",
   "metadata": {},
   "outputs": [
    {
     "data": {
      "text/html": [
       "<div>\n",
       "<style scoped>\n",
       "    .dataframe tbody tr th:only-of-type {\n",
       "        vertical-align: middle;\n",
       "    }\n",
       "\n",
       "    .dataframe tbody tr th {\n",
       "        vertical-align: top;\n",
       "    }\n",
       "\n",
       "    .dataframe thead th {\n",
       "        text-align: right;\n",
       "    }\n",
       "</style>\n",
       "<table border=\"1\" class=\"dataframe\">\n",
       "  <thead>\n",
       "    <tr style=\"text-align: right;\">\n",
       "      <th></th>\n",
       "      <th>Vehicle Color</th>\n",
       "      <th>Plate ID</th>\n",
       "      <th>Registration State</th>\n",
       "      <th>Vehicle Make</th>\n",
       "      <th>Street Name</th>\n",
       "      <th>Date First Observed</th>\n",
       "    </tr>\n",
       "    <tr>\n",
       "      <th>Issue Date</th>\n",
       "      <th></th>\n",
       "      <th></th>\n",
       "      <th></th>\n",
       "      <th></th>\n",
       "      <th></th>\n",
       "      <th></th>\n",
       "    </tr>\n",
       "  </thead>\n",
       "  <tbody>\n",
       "    <tr>\n",
       "      <th>05/08/1972 12:00:00 AM</th>\n",
       "      <td>BK</td>\n",
       "      <td>J58JKX</td>\n",
       "      <td>NJ</td>\n",
       "      <td>HONDA</td>\n",
       "      <td>43 ST</td>\n",
       "      <td>0</td>\n",
       "    </tr>\n",
       "    <tr>\n",
       "      <th>08/29/1977 12:00:00 AM</th>\n",
       "      <td>BLK</td>\n",
       "      <td>KRE6058</td>\n",
       "      <td>PA</td>\n",
       "      <td>ME/BE</td>\n",
       "      <td>UNION ST</td>\n",
       "      <td>0</td>\n",
       "    </tr>\n",
       "    <tr>\n",
       "      <th>10/03/1988 12:00:00 AM</th>\n",
       "      <td>BLACK</td>\n",
       "      <td>444326R</td>\n",
       "      <td>NJ</td>\n",
       "      <td>LEXUS</td>\n",
       "      <td>CLERMONT AVENUE</td>\n",
       "      <td>0</td>\n",
       "    </tr>\n",
       "    <tr>\n",
       "      <th>01/03/1990 12:00:00 AM</th>\n",
       "      <td>NaN</td>\n",
       "      <td>F728330</td>\n",
       "      <td>OH</td>\n",
       "      <td>CHEVR</td>\n",
       "      <td>DIVISION AVE</td>\n",
       "      <td>0</td>\n",
       "    </tr>\n",
       "    <tr>\n",
       "      <th>02/14/1990 12:00:00 AM</th>\n",
       "      <td>GREY</td>\n",
       "      <td>FMY9090</td>\n",
       "      <td>NY</td>\n",
       "      <td>JEEP</td>\n",
       "      <td>GRAND ST</td>\n",
       "      <td>0</td>\n",
       "    </tr>\n",
       "    <tr>\n",
       "      <th>...</th>\n",
       "      <td>...</td>\n",
       "      <td>...</td>\n",
       "      <td>...</td>\n",
       "      <td>...</td>\n",
       "      <td>...</td>\n",
       "      <td>...</td>\n",
       "    </tr>\n",
       "    <tr>\n",
       "      <th>01/03/2040 12:00:00 AM</th>\n",
       "      <td>BR</td>\n",
       "      <td>62161MM</td>\n",
       "      <td>NY</td>\n",
       "      <td>FORD</td>\n",
       "      <td>3RD AVE</td>\n",
       "      <td>0</td>\n",
       "    </tr>\n",
       "    <tr>\n",
       "      <th>04/19/2045 12:00:00 AM</th>\n",
       "      <td>BLK</td>\n",
       "      <td>GYE7330</td>\n",
       "      <td>NY</td>\n",
       "      <td>HONDA</td>\n",
       "      <td>PELHAM PARK DR</td>\n",
       "      <td>0</td>\n",
       "    </tr>\n",
       "    <tr>\n",
       "      <th>01/17/2049 12:00:00 AM</th>\n",
       "      <td>GY</td>\n",
       "      <td>HNY4802</td>\n",
       "      <td>NY</td>\n",
       "      <td>FORD</td>\n",
       "      <td>LYDIG AVE</td>\n",
       "      <td>0</td>\n",
       "    </tr>\n",
       "    <tr>\n",
       "      <th>12/19/2063 12:00:00 AM</th>\n",
       "      <td>BLK</td>\n",
       "      <td>T687081C</td>\n",
       "      <td>NY</td>\n",
       "      <td>TOYOT</td>\n",
       "      <td>E 68 STREET</td>\n",
       "      <td>0</td>\n",
       "    </tr>\n",
       "    <tr>\n",
       "      <th>06/04/2064 12:00:00 AM</th>\n",
       "      <td>WHITE</td>\n",
       "      <td>3497ZN</td>\n",
       "      <td>WA</td>\n",
       "      <td>UTILI</td>\n",
       "      <td>W/S/O 182 STREET</td>\n",
       "      <td>0</td>\n",
       "    </tr>\n",
       "  </tbody>\n",
       "</table>\n",
       "<p>12495734 rows × 6 columns</p>\n",
       "</div>"
      ],
      "text/plain": [
       "                       Vehicle Color  Plate ID Registration State  \\\n",
       "Issue Date                                                          \n",
       "05/08/1972 12:00:00 AM            BK    J58JKX                 NJ   \n",
       "08/29/1977 12:00:00 AM           BLK   KRE6058                 PA   \n",
       "10/03/1988 12:00:00 AM         BLACK   444326R                 NJ   \n",
       "01/03/1990 12:00:00 AM           NaN   F728330                 OH   \n",
       "02/14/1990 12:00:00 AM          GREY   FMY9090                 NY   \n",
       "...                              ...       ...                ...   \n",
       "01/03/2040 12:00:00 AM            BR   62161MM                 NY   \n",
       "04/19/2045 12:00:00 AM           BLK   GYE7330                 NY   \n",
       "01/17/2049 12:00:00 AM            GY   HNY4802                 NY   \n",
       "12/19/2063 12:00:00 AM           BLK  T687081C                 NY   \n",
       "06/04/2064 12:00:00 AM         WHITE    3497ZN                 WA   \n",
       "\n",
       "                       Vehicle Make       Street Name  Date First Observed  \n",
       "Issue Date                                                                  \n",
       "05/08/1972 12:00:00 AM        HONDA             43 ST                    0  \n",
       "08/29/1977 12:00:00 AM        ME/BE          UNION ST                    0  \n",
       "10/03/1988 12:00:00 AM        LEXUS   CLERMONT AVENUE                    0  \n",
       "01/03/1990 12:00:00 AM        CHEVR      DIVISION AVE                    0  \n",
       "02/14/1990 12:00:00 AM         JEEP          GRAND ST                    0  \n",
       "...                             ...               ...                  ...  \n",
       "01/03/2040 12:00:00 AM         FORD           3RD AVE                    0  \n",
       "04/19/2045 12:00:00 AM        HONDA    PELHAM PARK DR                    0  \n",
       "01/17/2049 12:00:00 AM         FORD         LYDIG AVE                    0  \n",
       "12/19/2063 12:00:00 AM        TOYOT       E 68 STREET                    0  \n",
       "06/04/2064 12:00:00 AM        UTILI  W/S/O 182 STREET                    0  \n",
       "\n",
       "[12495734 rows x 6 columns]"
      ]
     },
     "execution_count": 82,
     "metadata": {},
     "output_type": "execute_result"
    }
   ],
   "source": [
    "df"
   ]
  },
  {
   "cell_type": "code",
   "execution_count": null,
   "id": "1858f0b4-6877-4a2c-893b-ae16731634f9",
   "metadata": {},
   "outputs": [],
   "source": [
    "df = df.reset_index().set_index('Issue Date')"
   ]
  },
  {
   "cell_type": "code",
   "execution_count": 84,
   "id": "45c67bbc-81be-4a81-92a3-4f872d2899af",
   "metadata": {},
   "outputs": [],
   "source": [
    "df = df.sort_index()"
   ]
  },
  {
   "cell_type": "code",
   "execution_count": 87,
   "id": "486d108a-ee82-4ae8-a40b-2e8e5646b17a",
   "metadata": {},
   "outputs": [
    {
     "data": {
      "text/plain": [
       "Vehicle Make\n",
       "FORD     38958\n",
       "TOYOT    37096\n",
       "HONDA    35962\n",
       "NISSA    29583\n",
       "CHEVR    20018\n",
       "         ...  \n",
       "I NFI        1\n",
       "ZENGH        1\n",
       "OISUZ        1\n",
       "WESTR        1\n",
       "STUDE        1\n",
       "Name: count, Length: 575, dtype: int64"
      ]
     },
     "execution_count": 87,
     "metadata": {},
     "output_type": "execute_result"
    }
   ],
   "source": [
    "df.loc['01/02/2020 12:00:00 AM':'01/10/2020 12:00:00 AM']['Vehicle Make'].value_counts()"
   ]
  },
  {
   "cell_type": "code",
   "execution_count": 88,
   "id": "86819e41-39f9-4b9f-bf86-7fe28c0c8b11",
   "metadata": {},
   "outputs": [
    {
     "data": {
      "text/plain": [
       "Plate ID\n",
       "BLANKPLATE    8882\n",
       "2704819       1535\n",
       "86107MM       1429\n",
       "2703289       1364\n",
       "NS            1189\n",
       "              ... \n",
       "JSF1970          1\n",
       "JMK8935          1\n",
       "HZL1894          1\n",
       "NDJ9265          1\n",
       "M54FDG           1\n",
       "Name: count, Length: 3245467, dtype: int64"
      ]
     },
     "execution_count": 88,
     "metadata": {},
     "output_type": "execute_result"
    }
   ],
   "source": [
    "df['Plate ID'].value_counts()"
   ]
  },
  {
   "cell_type": "code",
   "execution_count": 90,
   "id": "8c4e4aea-0efe-49e7-a659-2c1451f122ea",
   "metadata": {},
   "outputs": [],
   "source": [
    "df = df.reset_index()\n"
   ]
  },
  {
   "cell_type": "code",
   "execution_count": 93,
   "id": "bdb492dd-ae3b-41ae-a0b0-1ffe635c834c",
   "metadata": {},
   "outputs": [],
   "source": [
    "df = df.set_index('Plate ID')"
   ]
  },
  {
   "cell_type": "code",
   "execution_count": 94,
   "id": "ce32da6f-1f97-41b5-b05a-e7db605b67d6",
   "metadata": {},
   "outputs": [
    {
     "data": {
      "text/html": [
       "<div>\n",
       "<style scoped>\n",
       "    .dataframe tbody tr th:only-of-type {\n",
       "        vertical-align: middle;\n",
       "    }\n",
       "\n",
       "    .dataframe tbody tr th {\n",
       "        vertical-align: top;\n",
       "    }\n",
       "\n",
       "    .dataframe thead th {\n",
       "        text-align: right;\n",
       "    }\n",
       "</style>\n",
       "<table border=\"1\" class=\"dataframe\">\n",
       "  <thead>\n",
       "    <tr style=\"text-align: right;\">\n",
       "      <th></th>\n",
       "      <th>Issue Date</th>\n",
       "      <th>Vehicle Color</th>\n",
       "      <th>Registration State</th>\n",
       "      <th>Vehicle Make</th>\n",
       "      <th>Street Name</th>\n",
       "      <th>Date First Observed</th>\n",
       "    </tr>\n",
       "    <tr>\n",
       "      <th>Plate ID</th>\n",
       "      <th></th>\n",
       "      <th></th>\n",
       "      <th></th>\n",
       "      <th></th>\n",
       "      <th></th>\n",
       "      <th></th>\n",
       "    </tr>\n",
       "  </thead>\n",
       "  <tbody>\n",
       "    <tr>\n",
       "      <th>2704819</th>\n",
       "      <td>01/02/2020 12:00:00 AM</td>\n",
       "      <td>WHITE</td>\n",
       "      <td>IN</td>\n",
       "      <td>FRUEH</td>\n",
       "      <td>9th Ave</td>\n",
       "      <td>0</td>\n",
       "    </tr>\n",
       "    <tr>\n",
       "      <th>2704819</th>\n",
       "      <td>01/02/2020 12:00:00 AM</td>\n",
       "      <td>WHITE</td>\n",
       "      <td>IN</td>\n",
       "      <td>FRUEH</td>\n",
       "      <td>9th Ave</td>\n",
       "      <td>0</td>\n",
       "    </tr>\n",
       "    <tr>\n",
       "      <th>2704819</th>\n",
       "      <td>01/02/2020 12:00:00 AM</td>\n",
       "      <td>WHITE</td>\n",
       "      <td>IN</td>\n",
       "      <td>FRUEH</td>\n",
       "      <td>8th Ave</td>\n",
       "      <td>0</td>\n",
       "    </tr>\n",
       "    <tr>\n",
       "      <th>2704819</th>\n",
       "      <td>01/02/2020 12:00:00 AM</td>\n",
       "      <td>WHITE</td>\n",
       "      <td>IN</td>\n",
       "      <td>FRUEH</td>\n",
       "      <td>8th Ave</td>\n",
       "      <td>0</td>\n",
       "    </tr>\n",
       "    <tr>\n",
       "      <th>2704819</th>\n",
       "      <td>01/02/2020 12:00:00 AM</td>\n",
       "      <td>WHITE</td>\n",
       "      <td>IN</td>\n",
       "      <td>FRUEH</td>\n",
       "      <td>8th Ave</td>\n",
       "      <td>0</td>\n",
       "    </tr>\n",
       "    <tr>\n",
       "      <th>...</th>\n",
       "      <td>...</td>\n",
       "      <td>...</td>\n",
       "      <td>...</td>\n",
       "      <td>...</td>\n",
       "      <td>...</td>\n",
       "      <td>...</td>\n",
       "    </tr>\n",
       "    <tr>\n",
       "      <th>2704819</th>\n",
       "      <td>12/31/2019 12:00:00 AM</td>\n",
       "      <td>WHITE</td>\n",
       "      <td>IN</td>\n",
       "      <td>FRUEH</td>\n",
       "      <td>Penn Plz</td>\n",
       "      <td>0</td>\n",
       "    </tr>\n",
       "    <tr>\n",
       "      <th>2704819</th>\n",
       "      <td>12/31/2019 12:00:00 AM</td>\n",
       "      <td>WHITE</td>\n",
       "      <td>IN</td>\n",
       "      <td>FRUEH</td>\n",
       "      <td>9th Ave</td>\n",
       "      <td>0</td>\n",
       "    </tr>\n",
       "    <tr>\n",
       "      <th>2704819</th>\n",
       "      <td>12/31/2019 12:00:00 AM</td>\n",
       "      <td>WHITE</td>\n",
       "      <td>IN</td>\n",
       "      <td>FRUEH</td>\n",
       "      <td>9th Ave</td>\n",
       "      <td>0</td>\n",
       "    </tr>\n",
       "    <tr>\n",
       "      <th>2704819</th>\n",
       "      <td>12/31/2019 12:00:00 AM</td>\n",
       "      <td>WHITE</td>\n",
       "      <td>IN</td>\n",
       "      <td>FRUEH</td>\n",
       "      <td>Penn Plz</td>\n",
       "      <td>0</td>\n",
       "    </tr>\n",
       "    <tr>\n",
       "      <th>2704819</th>\n",
       "      <td>12/31/2019 12:00:00 AM</td>\n",
       "      <td>WHITE</td>\n",
       "      <td>IN</td>\n",
       "      <td>FRUEH</td>\n",
       "      <td>Penn Plz</td>\n",
       "      <td>0</td>\n",
       "    </tr>\n",
       "  </tbody>\n",
       "</table>\n",
       "<p>1535 rows × 6 columns</p>\n",
       "</div>"
      ],
      "text/plain": [
       "                      Issue Date Vehicle Color Registration State  \\\n",
       "Plate ID                                                            \n",
       "2704819   01/02/2020 12:00:00 AM         WHITE                 IN   \n",
       "2704819   01/02/2020 12:00:00 AM         WHITE                 IN   \n",
       "2704819   01/02/2020 12:00:00 AM         WHITE                 IN   \n",
       "2704819   01/02/2020 12:00:00 AM         WHITE                 IN   \n",
       "2704819   01/02/2020 12:00:00 AM         WHITE                 IN   \n",
       "...                          ...           ...                ...   \n",
       "2704819   12/31/2019 12:00:00 AM         WHITE                 IN   \n",
       "2704819   12/31/2019 12:00:00 AM         WHITE                 IN   \n",
       "2704819   12/31/2019 12:00:00 AM         WHITE                 IN   \n",
       "2704819   12/31/2019 12:00:00 AM         WHITE                 IN   \n",
       "2704819   12/31/2019 12:00:00 AM         WHITE                 IN   \n",
       "\n",
       "         Vehicle Make Street Name  Date First Observed  \n",
       "Plate ID                                                \n",
       "2704819         FRUEH     9th Ave                    0  \n",
       "2704819         FRUEH     9th Ave                    0  \n",
       "2704819         FRUEH     8th Ave                    0  \n",
       "2704819         FRUEH     8th Ave                    0  \n",
       "2704819         FRUEH     8th Ave                    0  \n",
       "...               ...         ...                  ...  \n",
       "2704819         FRUEH    Penn Plz                    0  \n",
       "2704819         FRUEH     9th Ave                    0  \n",
       "2704819         FRUEH     9th Ave                    0  \n",
       "2704819         FRUEH    Penn Plz                    0  \n",
       "2704819         FRUEH    Penn Plz                    0  \n",
       "\n",
       "[1535 rows x 6 columns]"
      ]
     },
     "execution_count": 94,
     "metadata": {},
     "output_type": "execute_result"
    }
   ],
   "source": [
    "df.loc['2704819'] "
   ]
  },
  {
   "cell_type": "code",
   "execution_count": 96,
   "id": "ccabf479-9171-4595-ae59-9755555f0243",
   "metadata": {},
   "outputs": [
    {
     "data": {
      "text/plain": [
       "Street Name\n",
       "8th Ave              395\n",
       "Penn Plz             230\n",
       "7th Ave               92\n",
       "9th Ave               63\n",
       "Broadway              57\n",
       "                    ... \n",
       "6TH AVE                1\n",
       "W 54TH ST              1\n",
       "E 39th St              1\n",
       "N/S NW C/O W 30TH      1\n",
       "E 49th St              1\n",
       "Name: count, Length: 113, dtype: int64"
      ]
     },
     "execution_count": 96,
     "metadata": {},
     "output_type": "execute_result"
    }
   ],
   "source": [
    "df.loc['2704819', 'Street Name'].value_counts()"
   ]
  },
  {
   "cell_type": "code",
   "execution_count": null,
   "id": "94516ac9-eea8-4e0c-9f21-33199c44044c",
   "metadata": {},
   "outputs": [],
   "source": []
  }
 ],
 "metadata": {
  "kernelspec": {
   "display_name": "Python [conda env:py311b]",
   "language": "python",
   "name": "conda-env-py311b-py"
  },
  "language_info": {
   "codemirror_mode": {
    "name": "ipython",
    "version": 3
   },
   "file_extension": ".py",
   "mimetype": "text/x-python",
   "name": "python",
   "nbconvert_exporter": "python",
   "pygments_lexer": "ipython3",
   "version": "3.11.13"
  },
  "widgets": {
   "application/vnd.jupyter.widget-state+json": {
    "state": {},
    "version_major": 2,
    "version_minor": 0
   }
  }
 },
 "nbformat": 4,
 "nbformat_minor": 5
}
