{
 "cells": [
  {
   "cell_type": "code",
   "execution_count": 1,
   "id": "a073d594-6150-4523-8df9-28e4ddedfc23",
   "metadata": {},
   "outputs": [],
   "source": [
    "import pandas as pd\n",
    "import numpy as np"
   ]
  },
  {
   "cell_type": "code",
   "execution_count": 14,
   "id": "fdf97d5b-5405-49f0-967a-de5c99743324",
   "metadata": {},
   "outputs": [],
   "source": [
    "df = pd.read_csv('../data/nyc_taxi_2020-01.csv',\n",
    "            usecols=['passenger_count',\n",
    "            'total_amount' , 'payment_type'],\n",
    "            dtype={'passenger_count': np.float32, \n",
    "            'total_amount': np.float32, \n",
    "            'payment_type': np.float32})"
   ]
  },
  {
   "cell_type": "code",
   "execution_count": 15,
   "id": "6c73a569-42be-452f-839b-3a32ca1cae47",
   "metadata": {},
   "outputs": [
    {
     "data": {
      "text/plain": [
       "(6405008, 3)"
      ]
     },
     "execution_count": 15,
     "metadata": {},
     "output_type": "execute_result"
    }
   ],
   "source": [
    "df.shape"
   ]
  },
  {
   "cell_type": "code",
   "execution_count": 16,
   "id": "5222fd6d-a8be-4e05-90b4-9f91080960c4",
   "metadata": {},
   "outputs": [
    {
     "data": {
      "text/plain": [
       "passenger_count    6339567\n",
       "payment_type       6339567\n",
       "total_amount       6405008\n",
       "dtype: int64"
      ]
     },
     "execution_count": 16,
     "metadata": {},
     "output_type": "execute_result"
    }
   ],
   "source": [
    "df.count()"
   ]
  },
  {
   "cell_type": "code",
   "execution_count": 17,
   "id": "8411929a-11de-4545-bc73-49f245759340",
   "metadata": {},
   "outputs": [],
   "source": [
    "df = df.dropna().copy()"
   ]
  },
  {
   "cell_type": "code",
   "execution_count": 18,
   "id": "b80fb9f1-4b6e-47d1-8dea-d8d9ff4ff91b",
   "metadata": {},
   "outputs": [
    {
     "data": {
      "text/plain": [
       "passenger_count    6339567\n",
       "payment_type       6339567\n",
       "total_amount       6339567\n",
       "dtype: int64"
      ]
     },
     "execution_count": 18,
     "metadata": {},
     "output_type": "execute_result"
    }
   ],
   "source": [
    "df.count()"
   ]
  },
  {
   "cell_type": "code",
   "execution_count": 19,
   "id": "6e0f1db3-b2bd-427c-8818-d1f8d2ed9c7b",
   "metadata": {},
   "outputs": [],
   "source": [
    "df['passenger_count'] = df['passenger_count'].astype(np.int8)"
   ]
  },
  {
   "cell_type": "code",
   "execution_count": 20,
   "id": "d3502bd6-dd73-4509-8cef-d1378f3e3ec2",
   "metadata": {},
   "outputs": [],
   "source": [
    "df['payment_type'] = df['payment_type'].astype(np.int8)"
   ]
  },
  {
   "cell_type": "code",
   "execution_count": 21,
   "id": "e241709a-3ce8-4f1e-8e18-c741c35ba990",
   "metadata": {},
   "outputs": [
    {
     "name": "stdout",
     "output_type": "stream",
     "text": [
      "<class 'pandas.core.frame.DataFrame'>\n",
      "Index: 6339567 entries, 0 to 6339566\n",
      "Data columns (total 3 columns):\n",
      " #   Column           Dtype  \n",
      "---  ------           -----  \n",
      " 0   passenger_count  int8   \n",
      " 1   payment_type     int8   \n",
      " 2   total_amount     float32\n",
      "dtypes: float32(1), int8(2)\n",
      "memory usage: 84.6 MB\n"
     ]
    }
   ],
   "source": [
    "df.info()"
   ]
  },
  {
   "cell_type": "markdown",
   "id": "68251647-327a-4894-84ec-8e5479547006",
   "metadata": {},
   "source": [
    "## Create a data frame from four other columns (VendorID, trip_distance, tip_amount, and total_amount), specifying the dtype for each. What types are most appropriate? Can you use them directly, or must you first clean the data?"
   ]
  },
  {
   "cell_type": "code",
   "execution_count": 25,
   "id": "6fa24af3-f98c-4345-92e5-ca7155c03d23",
   "metadata": {},
   "outputs": [],
   "source": [
    "df = pd.read_csv('../data/nyc_taxi_2020-01.csv',\n",
    "            usecols=['VendorID',\n",
    "            'trip_distance', 'tip_amount', 'total_amount'],\n",
    "            dtype={'VendorID': np.float32, \n",
    "            'trip_distance': np.float32, \n",
    "            'tip_amount': np.float32, \n",
    "            'total_amount': np.float32})"
   ]
  },
  {
   "cell_type": "code",
   "execution_count": 30,
   "id": "77edd37a-ba74-480f-89c9-0ed920f89eeb",
   "metadata": {},
   "outputs": [
    {
     "data": {
      "text/plain": [
       "(6405008, 4)"
      ]
     },
     "execution_count": 30,
     "metadata": {},
     "output_type": "execute_result"
    }
   ],
   "source": [
    "df.shape"
   ]
  },
  {
   "cell_type": "code",
   "execution_count": 31,
   "id": "1d68f767-98b0-4cdf-bec0-df7b98cc1b9b",
   "metadata": {},
   "outputs": [
    {
     "data": {
      "text/plain": [
       "VendorID         6339567\n",
       "trip_distance    6405008\n",
       "tip_amount       6405008\n",
       "total_amount     6405008\n",
       "dtype: int64"
      ]
     },
     "execution_count": 31,
     "metadata": {},
     "output_type": "execute_result"
    }
   ],
   "source": [
    "df.count()"
   ]
  },
  {
   "cell_type": "code",
   "execution_count": 27,
   "id": "4396da2d-3632-43aa-8871-1ce2f55b616d",
   "metadata": {},
   "outputs": [
    {
     "name": "stdout",
     "output_type": "stream",
     "text": [
      "<class 'pandas.core.frame.DataFrame'>\n",
      "RangeIndex: 6405008 entries, 0 to 6405007\n",
      "Data columns (total 4 columns):\n",
      " #   Column         Dtype  \n",
      "---  ------         -----  \n",
      " 0   VendorID       float32\n",
      " 1   trip_distance  float32\n",
      " 2   tip_amount     float32\n",
      " 3   total_amount   float32\n",
      "dtypes: float32(4)\n",
      "memory usage: 97.7 MB\n"
     ]
    }
   ],
   "source": [
    "df.info()"
   ]
  },
  {
   "cell_type": "code",
   "execution_count": 33,
   "id": "431219ed-4bca-42c9-84de-c178a885576e",
   "metadata": {},
   "outputs": [],
   "source": [
    "df = df.dropna().copy()"
   ]
  },
  {
   "cell_type": "code",
   "execution_count": 34,
   "id": "b5945465-e21d-49e8-acd6-15c1b1d20639",
   "metadata": {},
   "outputs": [
    {
     "data": {
      "text/html": [
       "<div>\n",
       "<style scoped>\n",
       "    .dataframe tbody tr th:only-of-type {\n",
       "        vertical-align: middle;\n",
       "    }\n",
       "\n",
       "    .dataframe tbody tr th {\n",
       "        vertical-align: top;\n",
       "    }\n",
       "\n",
       "    .dataframe thead th {\n",
       "        text-align: right;\n",
       "    }\n",
       "</style>\n",
       "<table border=\"1\" class=\"dataframe\">\n",
       "  <thead>\n",
       "    <tr style=\"text-align: right;\">\n",
       "      <th></th>\n",
       "      <th>VendorID</th>\n",
       "      <th>trip_distance</th>\n",
       "      <th>tip_amount</th>\n",
       "      <th>total_amount</th>\n",
       "    </tr>\n",
       "  </thead>\n",
       "  <tbody>\n",
       "    <tr>\n",
       "      <th>0</th>\n",
       "      <td>1.0</td>\n",
       "      <td>1.20</td>\n",
       "      <td>1.47</td>\n",
       "      <td>11.270000</td>\n",
       "    </tr>\n",
       "    <tr>\n",
       "      <th>1</th>\n",
       "      <td>1.0</td>\n",
       "      <td>1.20</td>\n",
       "      <td>1.50</td>\n",
       "      <td>12.300000</td>\n",
       "    </tr>\n",
       "    <tr>\n",
       "      <th>2</th>\n",
       "      <td>1.0</td>\n",
       "      <td>0.60</td>\n",
       "      <td>1.00</td>\n",
       "      <td>10.800000</td>\n",
       "    </tr>\n",
       "    <tr>\n",
       "      <th>3</th>\n",
       "      <td>1.0</td>\n",
       "      <td>0.80</td>\n",
       "      <td>1.36</td>\n",
       "      <td>8.160000</td>\n",
       "    </tr>\n",
       "    <tr>\n",
       "      <th>4</th>\n",
       "      <td>2.0</td>\n",
       "      <td>0.00</td>\n",
       "      <td>0.00</td>\n",
       "      <td>4.800000</td>\n",
       "    </tr>\n",
       "    <tr>\n",
       "      <th>...</th>\n",
       "      <td>...</td>\n",
       "      <td>...</td>\n",
       "      <td>...</td>\n",
       "      <td>...</td>\n",
       "    </tr>\n",
       "    <tr>\n",
       "      <th>6339562</th>\n",
       "      <td>2.0</td>\n",
       "      <td>2.10</td>\n",
       "      <td>2.96</td>\n",
       "      <td>17.760000</td>\n",
       "    </tr>\n",
       "    <tr>\n",
       "      <th>6339563</th>\n",
       "      <td>2.0</td>\n",
       "      <td>2.13</td>\n",
       "      <td>3.36</td>\n",
       "      <td>20.160000</td>\n",
       "    </tr>\n",
       "    <tr>\n",
       "      <th>6339564</th>\n",
       "      <td>2.0</td>\n",
       "      <td>2.55</td>\n",
       "      <td>3.26</td>\n",
       "      <td>19.559999</td>\n",
       "    </tr>\n",
       "    <tr>\n",
       "      <th>6339565</th>\n",
       "      <td>2.0</td>\n",
       "      <td>1.61</td>\n",
       "      <td>0.00</td>\n",
       "      <td>12.300000</td>\n",
       "    </tr>\n",
       "    <tr>\n",
       "      <th>6339566</th>\n",
       "      <td>2.0</td>\n",
       "      <td>0.00</td>\n",
       "      <td>0.00</td>\n",
       "      <td>0.000000</td>\n",
       "    </tr>\n",
       "  </tbody>\n",
       "</table>\n",
       "<p>6339567 rows × 4 columns</p>\n",
       "</div>"
      ],
      "text/plain": [
       "         VendorID  trip_distance  tip_amount  total_amount\n",
       "0             1.0           1.20        1.47     11.270000\n",
       "1             1.0           1.20        1.50     12.300000\n",
       "2             1.0           0.60        1.00     10.800000\n",
       "3             1.0           0.80        1.36      8.160000\n",
       "4             2.0           0.00        0.00      4.800000\n",
       "...           ...            ...         ...           ...\n",
       "6339562       2.0           2.10        2.96     17.760000\n",
       "6339563       2.0           2.13        3.36     20.160000\n",
       "6339564       2.0           2.55        3.26     19.559999\n",
       "6339565       2.0           1.61        0.00     12.300000\n",
       "6339566       2.0           0.00        0.00      0.000000\n",
       "\n",
       "[6339567 rows x 4 columns]"
      ]
     },
     "execution_count": 34,
     "metadata": {},
     "output_type": "execute_result"
    }
   ],
   "source": [
    "df"
   ]
  },
  {
   "cell_type": "code",
   "execution_count": 35,
   "id": "d8a8e09c-0476-44ba-b1fd-6389d0a6ea66",
   "metadata": {},
   "outputs": [],
   "source": [
    "df['VendorID'] = df['VendorID'].astype(np.int8)"
   ]
  },
  {
   "cell_type": "code",
   "execution_count": 36,
   "id": "11be892f-9cc2-44e4-a48d-0294d96dde2a",
   "metadata": {},
   "outputs": [
    {
     "name": "stdout",
     "output_type": "stream",
     "text": [
      "<class 'pandas.core.frame.DataFrame'>\n",
      "Index: 6339567 entries, 0 to 6339566\n",
      "Data columns (total 4 columns):\n",
      " #   Column         Dtype  \n",
      "---  ------         -----  \n",
      " 0   VendorID       int8   \n",
      " 1   trip_distance  float32\n",
      " 2   tip_amount     float32\n",
      " 3   total_amount   float32\n",
      "dtypes: float32(3), int8(1)\n",
      "memory usage: 127.0 MB\n"
     ]
    }
   ],
   "source": [
    "df.info()"
   ]
  },
  {
   "cell_type": "markdown",
   "id": "91ae81be-3bed-4d07-8a84-fb5f79b6899f",
   "metadata": {},
   "source": [
    "## Instead of removing NaN values from the VendorID column, set it to a new value: 3. How does that affect your specifications and cleaning of the data?"
   ]
  },
  {
   "cell_type": "code",
   "execution_count": 51,
   "id": "399e2233-eddd-4e94-8af8-269b16ac4704",
   "metadata": {},
   "outputs": [],
   "source": [
    "df = pd.read_csv('../data/nyc_taxi_2020-01.csv',\n",
    "            usecols=['VendorID',\n",
    "            'trip_distance', 'tip_amount', 'total_amount'],\n",
    "            dtype={'VendorID': np.float32, \n",
    "            'trip_distance': np.float32, \n",
    "            'tip_amount': np.float32, \n",
    "            'total_amount': np.float32})"
   ]
  },
  {
   "cell_type": "code",
   "execution_count": 55,
   "id": "81932b72-65e8-4a33-add1-b776e01af146",
   "metadata": {},
   "outputs": [],
   "source": [
    "df['VendorID'] = df['VendorID'].fillna(3)\n",
    "df['VendorID'] = df['VendorID'].astype(np.int8)"
   ]
  },
  {
   "cell_type": "markdown",
   "id": "2153307c-51d5-4729-85d5-e0fa48c43408",
   "metadata": {},
   "source": [
    "## the memory_usage method allows you to see how much memory is being used by each column in a data frame. memory_usage() returns a series of integers in which the index lists the columns, and the values represent the memory used by each column. Compare the memory used by the data frame with float16 (which you’ve already used) and when you use float64 instead for the final three columns."
   ]
  },
  {
   "cell_type": "code",
   "execution_count": 56,
   "id": "8678658f-98ac-4272-a5db-5f0564c6154e",
   "metadata": {},
   "outputs": [
    {
     "name": "stdout",
     "output_type": "stream",
     "text": [
      "83,265,236\n"
     ]
    }
   ],
   "source": [
    "print(f\"{df.memory_usage().sum():,}\")"
   ]
  },
  {
   "cell_type": "code",
   "execution_count": 41,
   "id": "d9ce22d8-f97d-46b7-85f0-d47f8706a14b",
   "metadata": {},
   "outputs": [],
   "source": [
    "df = pd.read_csv('../data/nyc_taxi_2020-01.csv',\n",
    "            usecols=['VendorID',\n",
    "            'trip_distance', 'tip_amount', 'total_amount'],\n",
    "            dtype={'VendorID': np.float32, \n",
    "            'trip_distance': np.float32, \n",
    "            'tip_amount': np.float32, \n",
    "            'total_amount': np.float32})"
   ]
  },
  {
   "cell_type": "code",
   "execution_count": 57,
   "id": "670788e8-3a29-4b9d-982e-4b63baa5160c",
   "metadata": {},
   "outputs": [],
   "source": [
    "df['VendorID'] = df['VendorID'].fillna(3)\n",
    "df['VendorID'] = df['VendorID'].astype(np.int8)"
   ]
  },
  {
   "cell_type": "code",
   "execution_count": 58,
   "id": "6cc610f8-e251-4d9f-94ce-b25d2384a2bc",
   "metadata": {},
   "outputs": [
    {
     "data": {
      "text/plain": [
       "(6405008, 4)"
      ]
     },
     "execution_count": 58,
     "metadata": {},
     "output_type": "execute_result"
    }
   ],
   "source": [
    "df.shape"
   ]
  },
  {
   "cell_type": "code",
   "execution_count": 59,
   "id": "bc7089df-17ea-48dd-b966-a3cd12029742",
   "metadata": {},
   "outputs": [],
   "source": [
    "df = pd.read_csv('../data/nyc_taxi_2020-01.csv',\n",
    "            usecols=['VendorID',\n",
    "            'trip_distance', 'tip_amount', 'total_amount'],\n",
    "            dtype={'VendorID': np.float32, \n",
    "            'trip_distance': np.float64, \n",
    "            'tip_amount': np.float64, \n",
    "            'total_amount': np.float64})"
   ]
  },
  {
   "cell_type": "code",
   "execution_count": 60,
   "id": "8e3ff47e-de20-482e-9a78-934636ef2e4d",
   "metadata": {},
   "outputs": [
    {
     "name": "stdout",
     "output_type": "stream",
     "text": [
      "179,340,356\n"
     ]
    }
   ],
   "source": [
    "print(f\"{df.memory_usage().sum():,}\")"
   ]
  },
  {
   "cell_type": "code",
   "execution_count": null,
   "id": "95cca360-7740-4699-960f-a8704b56621f",
   "metadata": {},
   "outputs": [],
   "source": []
  }
 ],
 "metadata": {
  "kernelspec": {
   "display_name": "Python [conda env:py311b]",
   "language": "python",
   "name": "conda-env-py311b-py"
  },
  "language_info": {
   "codemirror_mode": {
    "name": "ipython",
    "version": 3
   },
   "file_extension": ".py",
   "mimetype": "text/x-python",
   "name": "python",
   "nbconvert_exporter": "python",
   "pygments_lexer": "ipython3",
   "version": "3.11.13"
  },
  "widgets": {
   "application/vnd.jupyter.widget-state+json": {
    "state": {},
    "version_major": 2,
    "version_minor": 0
   }
  }
 },
 "nbformat": 4,
 "nbformat_minor": 5
}
