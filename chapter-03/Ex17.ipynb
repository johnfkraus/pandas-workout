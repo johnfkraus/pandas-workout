{
 "cells": [
  {
   "cell_type": "code",
   "execution_count": 1,
   "id": "a073d594-6150-4523-8df9-28e4ddedfc23",
   "metadata": {},
   "outputs": [],
   "source": [
    "import pandas as pd\n",
    "import numpy as np"
   ]
  },
  {
   "cell_type": "code",
   "execution_count": 5,
   "id": "fdf97d5b-5405-49f0-967a-de5c99743324",
   "metadata": {},
   "outputs": [],
   "source": [
    "\n",
    "df = pd.read_csv('../data/nyc_taxi_2020-01.csv',\n",
    "            usecols=['passenger_count',\n",
    "             'total_amount' , 'payment_type'],\n",
    "                dtype={'passenger_count': np.float32, \n",
    "                       'total_amount': np.float32, \n",
    "                       'payment_type': np.float32})"
   ]
  },
  {
   "cell_type": "code",
   "execution_count": 6,
   "id": "6c73a569-42be-452f-839b-3a32ca1cae47",
   "metadata": {},
   "outputs": [
    {
     "data": {
      "text/plain": [
       "(6405008, 3)"
      ]
     },
     "execution_count": 6,
     "metadata": {},
     "output_type": "execute_result"
    }
   ],
   "source": [
    "df.shape"
   ]
  },
  {
   "cell_type": "code",
   "execution_count": 7,
   "id": "5222fd6d-a8be-4e05-90b4-9f91080960c4",
   "metadata": {},
   "outputs": [
    {
     "data": {
      "text/plain": [
       "passenger_count    6339567\n",
       "payment_type       6339567\n",
       "total_amount       6405008\n",
       "dtype: int64"
      ]
     },
     "execution_count": 7,
     "metadata": {},
     "output_type": "execute_result"
    }
   ],
   "source": [
    "df.count()"
   ]
  },
  {
   "cell_type": "code",
   "execution_count": 8,
   "id": "8411929a-11de-4545-bc73-49f245759340",
   "metadata": {},
   "outputs": [],
   "source": [
    "df = df.dropna().copy()"
   ]
  },
  {
   "cell_type": "code",
   "execution_count": 9,
   "id": "b80fb9f1-4b6e-47d1-8dea-d8d9ff4ff91b",
   "metadata": {},
   "outputs": [
    {
     "data": {
      "text/plain": [
       "passenger_count    6339567\n",
       "payment_type       6339567\n",
       "total_amount       6339567\n",
       "dtype: int64"
      ]
     },
     "execution_count": 9,
     "metadata": {},
     "output_type": "execute_result"
    }
   ],
   "source": [
    "df.count()"
   ]
  },
  {
   "cell_type": "code",
   "execution_count": 10,
   "id": "6e0f1db3-b2bd-427c-8818-d1f8d2ed9c7b",
   "metadata": {},
   "outputs": [],
   "source": [
    "df['passenger_count'] = df['passenger_count'].astype(np.int8)"
   ]
  },
  {
   "cell_type": "code",
   "execution_count": 12,
   "id": "d3502bd6-dd73-4509-8cef-d1378f3e3ec2",
   "metadata": {},
   "outputs": [],
   "source": [
    "df['payment_type'] = df['payment_type'].astype(np.int8)"
   ]
  },
  {
   "cell_type": "code",
   "execution_count": 13,
   "id": "e241709a-3ce8-4f1e-8e18-c741c35ba990",
   "metadata": {},
   "outputs": [
    {
     "name": "stdout",
     "output_type": "stream",
     "text": [
      "<class 'pandas.core.frame.DataFrame'>\n",
      "Index: 6339567 entries, 0 to 6339566\n",
      "Data columns (total 3 columns):\n",
      " #   Column           Dtype  \n",
      "---  ------           -----  \n",
      " 0   passenger_count  int8   \n",
      " 1   payment_type     int8   \n",
      " 2   total_amount     float32\n",
      "dtypes: float32(1), int8(2)\n",
      "memory usage: 84.6 MB\n"
     ]
    }
   ],
   "source": [
    "df.info()"
   ]
  },
  {
   "cell_type": "code",
   "execution_count": null,
   "id": "084faad1-8e14-4bda-bfb4-616446525ecb",
   "metadata": {},
   "outputs": [],
   "source": []
  }
 ],
 "metadata": {
  "kernelspec": {
   "display_name": "Python [conda env:py311b]",
   "language": "python",
   "name": "conda-env-py311b-py"
  },
  "language_info": {
   "codemirror_mode": {
    "name": "ipython",
    "version": 3
   },
   "file_extension": ".py",
   "mimetype": "text/x-python",
   "name": "python",
   "nbconvert_exporter": "python",
   "pygments_lexer": "ipython3",
   "version": "3.11.13"
  },
  "widgets": {
   "application/vnd.jupyter.widget-state+json": {
    "state": {},
    "version_major": 2,
    "version_minor": 0
   }
  }
 },
 "nbformat": 4,
 "nbformat_minor": 5
}
