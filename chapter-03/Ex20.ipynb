{
 "cells": [
  {
   "cell_type": "code",
   "execution_count": 76,
   "id": "4adaf9f7-03e0-4779-a312-eb98ccfb2d3e",
   "metadata": {},
   "outputs": [],
   "source": [
    "import pandas as pd\n",
    "import numpy as np\n",
    "pd.options.display.float_format = '{:,.2f}'.format"
   ]
  },
  {
   "cell_type": "code",
   "execution_count": 77,
   "id": "5d353caa-18d6-4380-9840-4cef4cf548e2",
   "metadata": {},
   "outputs": [],
   "source": [
    "df = pd.read_json('../data/cities.json')"
   ]
  },
  {
   "cell_type": "code",
   "execution_count": 78,
   "id": "a8f23f8b-879d-491c-b83e-537065760b79",
   "metadata": {},
   "outputs": [
    {
     "data": {
      "text/html": [
       "<div>\n",
       "<style scoped>\n",
       "    .dataframe tbody tr th:only-of-type {\n",
       "        vertical-align: middle;\n",
       "    }\n",
       "\n",
       "    .dataframe tbody tr th {\n",
       "        vertical-align: top;\n",
       "    }\n",
       "\n",
       "    .dataframe thead th {\n",
       "        text-align: right;\n",
       "    }\n",
       "</style>\n",
       "<table border=\"1\" class=\"dataframe\">\n",
       "  <thead>\n",
       "    <tr style=\"text-align: right;\">\n",
       "      <th></th>\n",
       "      <th>city</th>\n",
       "      <th>growth_from_2000_to_2013</th>\n",
       "      <th>latitude</th>\n",
       "      <th>longitude</th>\n",
       "      <th>population</th>\n",
       "      <th>rank</th>\n",
       "      <th>state</th>\n",
       "    </tr>\n",
       "  </thead>\n",
       "  <tbody>\n",
       "    <tr>\n",
       "      <th>507</th>\n",
       "      <td>Eau Claire</td>\n",
       "      <td>8.7%</td>\n",
       "      <td>44.81</td>\n",
       "      <td>-91.50</td>\n",
       "      <td>67545</td>\n",
       "      <td>508</td>\n",
       "      <td>Wisconsin</td>\n",
       "    </tr>\n",
       "  </tbody>\n",
       "</table>\n",
       "</div>"
      ],
      "text/plain": [
       "           city growth_from_2000_to_2013  latitude  longitude  population  \\\n",
       "507  Eau Claire                     8.7%     44.81     -91.50       67545   \n",
       "\n",
       "     rank      state  \n",
       "507   508  Wisconsin  "
      ]
     },
     "execution_count": 78,
     "metadata": {},
     "output_type": "execute_result"
    }
   ],
   "source": [
    "df.loc[df['city']=='Eau Claire']"
   ]
  },
  {
   "cell_type": "code",
   "execution_count": 79,
   "id": "db0f000e-45a7-4109-986e-bad35e67a5d9",
   "metadata": {},
   "outputs": [
    {
     "name": "stdout",
     "output_type": "stream",
     "text": [
      "<class 'pandas.core.frame.DataFrame'>\n",
      "RangeIndex: 1000 entries, 0 to 999\n",
      "Data columns (total 7 columns):\n",
      " #   Column                    Non-Null Count  Dtype  \n",
      "---  ------                    --------------  -----  \n",
      " 0   city                      1000 non-null   object \n",
      " 1   growth_from_2000_to_2013  1000 non-null   object \n",
      " 2   latitude                  1000 non-null   float64\n",
      " 3   longitude                 1000 non-null   float64\n",
      " 4   population                1000 non-null   int64  \n",
      " 5   rank                      1000 non-null   int64  \n",
      " 6   state                     1000 non-null   object \n",
      "dtypes: float64(2), int64(2), object(3)\n",
      "memory usage: 54.8+ KB\n"
     ]
    }
   ],
   "source": [
    "df.info()"
   ]
  },
  {
   "cell_type": "markdown",
   "id": "495932d2-7ab5-419e-b37b-b21fbc0f95f2",
   "metadata": {},
   "source": [
    "### What are the mean and median populations for these 1,000 largest cities? What does that tell you?"
   ]
  },
  {
   "cell_type": "code",
   "execution_count": 82,
   "id": "d88cd2d6-6f0b-4ce7-8b25-7810f92223b5",
   "metadata": {},
   "outputs": [
    {
     "data": {
      "text/plain": [
       "mean   131,132.44\n",
       "50%     68,207.00\n",
       "Name: population, dtype: float64"
      ]
     },
     "execution_count": 82,
     "metadata": {},
     "output_type": "execute_result"
    }
   ],
   "source": [
    "df['population'].describe()[['mean', '50%']]"
   ]
  },
  {
   "cell_type": "code",
   "execution_count": 42,
   "id": "c5ad1d38-3ffd-44bd-8349-d06b80a2de8b",
   "metadata": {},
   "outputs": [
    {
     "data": {
      "text/plain": [
       "mean   131,132.44\n",
       "50%     68,207.00\n",
       "Name: population, dtype: float64"
      ]
     },
     "execution_count": 42,
     "metadata": {},
     "output_type": "execute_result"
    }
   ],
   "source": [
    "df['population'].describe()[['mean', '50%']]"
   ]
  },
  {
   "cell_type": "code",
   "execution_count": 83,
   "id": "83d1db90-1b17-4269-80e6-b2fdb758dd75",
   "metadata": {},
   "outputs": [
    {
     "data": {
      "text/html": [
       "<div>\n",
       "<style scoped>\n",
       "    .dataframe tbody tr th:only-of-type {\n",
       "        vertical-align: middle;\n",
       "    }\n",
       "\n",
       "    .dataframe tbody tr th {\n",
       "        vertical-align: top;\n",
       "    }\n",
       "\n",
       "    .dataframe thead th {\n",
       "        text-align: right;\n",
       "    }\n",
       "</style>\n",
       "<table border=\"1\" class=\"dataframe\">\n",
       "  <thead>\n",
       "    <tr style=\"text-align: right;\">\n",
       "      <th></th>\n",
       "      <th>city</th>\n",
       "      <th>growth_from_2000_to_2013</th>\n",
       "      <th>latitude</th>\n",
       "      <th>longitude</th>\n",
       "      <th>population</th>\n",
       "      <th>rank</th>\n",
       "      <th>state</th>\n",
       "    </tr>\n",
       "  </thead>\n",
       "  <tbody>\n",
       "    <tr>\n",
       "      <th>0</th>\n",
       "      <td>New York</td>\n",
       "      <td>4.8%</td>\n",
       "      <td>40.71</td>\n",
       "      <td>-74.01</td>\n",
       "      <td>8405837</td>\n",
       "      <td>1</td>\n",
       "      <td>New York</td>\n",
       "    </tr>\n",
       "    <tr>\n",
       "      <th>1</th>\n",
       "      <td>Los Angeles</td>\n",
       "      <td>4.8%</td>\n",
       "      <td>34.05</td>\n",
       "      <td>-118.24</td>\n",
       "      <td>3884307</td>\n",
       "      <td>2</td>\n",
       "      <td>California</td>\n",
       "    </tr>\n",
       "    <tr>\n",
       "      <th>2</th>\n",
       "      <td>Chicago</td>\n",
       "      <td>-6.1%</td>\n",
       "      <td>41.88</td>\n",
       "      <td>-87.63</td>\n",
       "      <td>2718782</td>\n",
       "      <td>3</td>\n",
       "      <td>Illinois</td>\n",
       "    </tr>\n",
       "    <tr>\n",
       "      <th>3</th>\n",
       "      <td>Houston</td>\n",
       "      <td>11.0%</td>\n",
       "      <td>29.76</td>\n",
       "      <td>-95.37</td>\n",
       "      <td>2195914</td>\n",
       "      <td>4</td>\n",
       "      <td>Texas</td>\n",
       "    </tr>\n",
       "    <tr>\n",
       "      <th>4</th>\n",
       "      <td>Philadelphia</td>\n",
       "      <td>2.6%</td>\n",
       "      <td>39.95</td>\n",
       "      <td>-75.17</td>\n",
       "      <td>1553165</td>\n",
       "      <td>5</td>\n",
       "      <td>Pennsylvania</td>\n",
       "    </tr>\n",
       "    <tr>\n",
       "      <th>...</th>\n",
       "      <td>...</td>\n",
       "      <td>...</td>\n",
       "      <td>...</td>\n",
       "      <td>...</td>\n",
       "      <td>...</td>\n",
       "      <td>...</td>\n",
       "      <td>...</td>\n",
       "    </tr>\n",
       "    <tr>\n",
       "      <th>995</th>\n",
       "      <td>Weslaco</td>\n",
       "      <td>28.8%</td>\n",
       "      <td>26.16</td>\n",
       "      <td>-97.99</td>\n",
       "      <td>37093</td>\n",
       "      <td>996</td>\n",
       "      <td>Texas</td>\n",
       "    </tr>\n",
       "    <tr>\n",
       "      <th>996</th>\n",
       "      <td>Keizer</td>\n",
       "      <td>14.4%</td>\n",
       "      <td>44.99</td>\n",
       "      <td>-123.03</td>\n",
       "      <td>37064</td>\n",
       "      <td>997</td>\n",
       "      <td>Oregon</td>\n",
       "    </tr>\n",
       "    <tr>\n",
       "      <th>997</th>\n",
       "      <td>Spanish Fork</td>\n",
       "      <td>78.1%</td>\n",
       "      <td>40.11</td>\n",
       "      <td>-111.65</td>\n",
       "      <td>36956</td>\n",
       "      <td>998</td>\n",
       "      <td>Utah</td>\n",
       "    </tr>\n",
       "    <tr>\n",
       "      <th>998</th>\n",
       "      <td>Beloit</td>\n",
       "      <td>2.9%</td>\n",
       "      <td>42.51</td>\n",
       "      <td>-89.03</td>\n",
       "      <td>36888</td>\n",
       "      <td>999</td>\n",
       "      <td>Wisconsin</td>\n",
       "    </tr>\n",
       "    <tr>\n",
       "      <th>999</th>\n",
       "      <td>Panama City</td>\n",
       "      <td>0.1%</td>\n",
       "      <td>30.16</td>\n",
       "      <td>-85.66</td>\n",
       "      <td>36877</td>\n",
       "      <td>1000</td>\n",
       "      <td>Florida</td>\n",
       "    </tr>\n",
       "  </tbody>\n",
       "</table>\n",
       "<p>1000 rows × 7 columns</p>\n",
       "</div>"
      ],
      "text/plain": [
       "             city growth_from_2000_to_2013  latitude  longitude  population  \\\n",
       "0        New York                     4.8%     40.71     -74.01     8405837   \n",
       "1     Los Angeles                     4.8%     34.05    -118.24     3884307   \n",
       "2         Chicago                    -6.1%     41.88     -87.63     2718782   \n",
       "3         Houston                    11.0%     29.76     -95.37     2195914   \n",
       "4    Philadelphia                     2.6%     39.95     -75.17     1553165   \n",
       "..            ...                      ...       ...        ...         ...   \n",
       "995       Weslaco                    28.8%     26.16     -97.99       37093   \n",
       "996        Keizer                    14.4%     44.99    -123.03       37064   \n",
       "997  Spanish Fork                    78.1%     40.11    -111.65       36956   \n",
       "998        Beloit                     2.9%     42.51     -89.03       36888   \n",
       "999   Panama City                     0.1%     30.16     -85.66       36877   \n",
       "\n",
       "     rank         state  \n",
       "0       1      New York  \n",
       "1       2    California  \n",
       "2       3      Illinois  \n",
       "3       4         Texas  \n",
       "4       5  Pennsylvania  \n",
       "..    ...           ...  \n",
       "995   996         Texas  \n",
       "996   997        Oregon  \n",
       "997   998          Utah  \n",
       "998   999     Wisconsin  \n",
       "999  1000       Florida  \n",
       "\n",
       "[1000 rows x 7 columns]"
      ]
     },
     "execution_count": 83,
     "metadata": {},
     "output_type": "execute_result"
    }
   ],
   "source": [
    "df"
   ]
  },
  {
   "cell_type": "markdown",
   "id": "10ad8491-e47f-4c72-b230-397cd9627096",
   "metadata": {},
   "source": [
    "### if you remove the 50 most populous cities, what happens to the mean population? What happens to the median?"
   ]
  },
  {
   "cell_type": "code",
   "execution_count": 84,
   "id": "17e191e1-33b2-4d0f-826d-f00051aeabcb",
   "metadata": {},
   "outputs": [
    {
     "data": {
      "text/plain": [
       "True"
      ]
     },
     "execution_count": 84,
     "metadata": {},
     "output_type": "execute_result"
    }
   ],
   "source": [
    "df['population'].is_monotonic_decreasing"
   ]
  },
  {
   "cell_type": "code",
   "execution_count": 85,
   "id": "868a3c65-d6a0-4dda-b18b-79372322a84f",
   "metadata": {},
   "outputs": [
    {
     "data": {
      "text/plain": [
       "87027.38736842106"
      ]
     },
     "execution_count": 85,
     "metadata": {},
     "output_type": "execute_result"
    }
   ],
   "source": [
    "df[50:]['population'].mean()  # down from 131K"
   ]
  },
  {
   "cell_type": "code",
   "execution_count": 86,
   "id": "42369d77-4072-42f8-913a-53c3d0891b92",
   "metadata": {},
   "outputs": [
    {
     "data": {
      "text/plain": [
       "65796.0"
      ]
     },
     "execution_count": 86,
     "metadata": {},
     "output_type": "execute_result"
    }
   ],
   "source": [
    "df[50:]['population'].quantile(.5)  # down from 67,207"
   ]
  },
  {
   "cell_type": "code",
   "execution_count": 87,
   "id": "c0d9e6ca-bbcc-48d3-a278-6b5bfb0862bc",
   "metadata": {},
   "outputs": [
    {
     "data": {
      "text/plain": [
       "mean   87,027.39\n",
       "50%    65,796.00\n",
       "Name: population, dtype: float64"
      ]
     },
     "execution_count": 87,
     "metadata": {},
     "output_type": "execute_result"
    }
   ],
   "source": [
    "df.loc[50:,'population'].describe()[['mean', '50%']]"
   ]
  },
  {
   "cell_type": "markdown",
   "id": "0e71f388-7039-40b8-997b-38b01b8b63e1",
   "metadata": {},
   "source": [
    "### What is the northernmost city, and where does it rank?"
   ]
  },
  {
   "cell_type": "code",
   "execution_count": 88,
   "id": "69f85269-d0ed-4d4a-9497-fd32bbdeb434",
   "metadata": {},
   "outputs": [
    {
     "data": {
      "text/plain": [
       "city                        Anchorage\n",
       "growth_from_2000_to_2013        15.4%\n",
       "latitude                        61.22\n",
       "longitude                     -149.90\n",
       "population                     300950\n",
       "rank                               63\n",
       "state                          Alaska\n",
       "Name: 62, dtype: object"
      ]
     },
     "execution_count": 88,
     "metadata": {},
     "output_type": "execute_result"
    }
   ],
   "source": [
    "df.loc[df['latitude'].idxmax()]"
   ]
  },
  {
   "cell_type": "code",
   "execution_count": 89,
   "id": "5e7bb0df-b3b4-4315-886b-653495a6edc1",
   "metadata": {},
   "outputs": [
    {
     "data": {
      "text/html": [
       "<div>\n",
       "<style scoped>\n",
       "    .dataframe tbody tr th:only-of-type {\n",
       "        vertical-align: middle;\n",
       "    }\n",
       "\n",
       "    .dataframe tbody tr th {\n",
       "        vertical-align: top;\n",
       "    }\n",
       "\n",
       "    .dataframe thead th {\n",
       "        text-align: right;\n",
       "    }\n",
       "</style>\n",
       "<table border=\"1\" class=\"dataframe\">\n",
       "  <thead>\n",
       "    <tr style=\"text-align: right;\">\n",
       "      <th></th>\n",
       "      <th>city</th>\n",
       "      <th>state</th>\n",
       "      <th>rank</th>\n",
       "    </tr>\n",
       "  </thead>\n",
       "  <tbody>\n",
       "    <tr>\n",
       "      <th>62</th>\n",
       "      <td>Anchorage</td>\n",
       "      <td>Alaska</td>\n",
       "      <td>63</td>\n",
       "    </tr>\n",
       "  </tbody>\n",
       "</table>\n",
       "</div>"
      ],
      "text/plain": [
       "         city   state  rank\n",
       "62  Anchorage  Alaska    63"
      ]
     },
     "execution_count": 89,
     "metadata": {},
     "output_type": "execute_result"
    }
   ],
   "source": [
    "df.loc[df['latitude'] == df['latitude'].max(), ['city', 'state', 'rank']]"
   ]
  },
  {
   "cell_type": "markdown",
   "id": "d56689c1-b1d8-45bf-981d-dbc002e22876",
   "metadata": {},
   "source": [
    "### Which state has the largest number of cities on this list?"
   ]
  },
  {
   "cell_type": "code",
   "execution_count": 90,
   "id": "24fa977e-b832-4bdc-be7b-191add5f2d39",
   "metadata": {},
   "outputs": [
    {
     "data": {
      "text/html": [
       "<div>\n",
       "<style scoped>\n",
       "    .dataframe tbody tr th:only-of-type {\n",
       "        vertical-align: middle;\n",
       "    }\n",
       "\n",
       "    .dataframe tbody tr th {\n",
       "        vertical-align: top;\n",
       "    }\n",
       "\n",
       "    .dataframe thead th {\n",
       "        text-align: right;\n",
       "    }\n",
       "</style>\n",
       "<table border=\"1\" class=\"dataframe\">\n",
       "  <thead>\n",
       "    <tr style=\"text-align: right;\">\n",
       "      <th></th>\n",
       "      <th>city</th>\n",
       "      <th>growth_from_2000_to_2013</th>\n",
       "      <th>latitude</th>\n",
       "      <th>longitude</th>\n",
       "      <th>population</th>\n",
       "      <th>rank</th>\n",
       "    </tr>\n",
       "    <tr>\n",
       "      <th>state</th>\n",
       "      <th></th>\n",
       "      <th></th>\n",
       "      <th></th>\n",
       "      <th></th>\n",
       "      <th></th>\n",
       "      <th></th>\n",
       "    </tr>\n",
       "  </thead>\n",
       "  <tbody>\n",
       "    <tr>\n",
       "      <th>California</th>\n",
       "      <td>212</td>\n",
       "      <td>212</td>\n",
       "      <td>212</td>\n",
       "      <td>212</td>\n",
       "      <td>212</td>\n",
       "      <td>212</td>\n",
       "    </tr>\n",
       "    <tr>\n",
       "      <th>Texas</th>\n",
       "      <td>83</td>\n",
       "      <td>83</td>\n",
       "      <td>83</td>\n",
       "      <td>83</td>\n",
       "      <td>83</td>\n",
       "      <td>83</td>\n",
       "    </tr>\n",
       "    <tr>\n",
       "      <th>Florida</th>\n",
       "      <td>73</td>\n",
       "      <td>73</td>\n",
       "      <td>73</td>\n",
       "      <td>73</td>\n",
       "      <td>73</td>\n",
       "      <td>73</td>\n",
       "    </tr>\n",
       "    <tr>\n",
       "      <th>Illinois</th>\n",
       "      <td>52</td>\n",
       "      <td>52</td>\n",
       "      <td>52</td>\n",
       "      <td>52</td>\n",
       "      <td>52</td>\n",
       "      <td>52</td>\n",
       "    </tr>\n",
       "    <tr>\n",
       "      <th>Massachusetts</th>\n",
       "      <td>36</td>\n",
       "      <td>36</td>\n",
       "      <td>36</td>\n",
       "      <td>36</td>\n",
       "      <td>36</td>\n",
       "      <td>36</td>\n",
       "    </tr>\n",
       "  </tbody>\n",
       "</table>\n",
       "</div>"
      ],
      "text/plain": [
       "               city  growth_from_2000_to_2013  latitude  longitude  \\\n",
       "state                                                                \n",
       "California      212                       212       212        212   \n",
       "Texas            83                        83        83         83   \n",
       "Florida          73                        73        73         73   \n",
       "Illinois         52                        52        52         52   \n",
       "Massachusetts    36                        36        36         36   \n",
       "\n",
       "               population  rank  \n",
       "state                            \n",
       "California            212   212  \n",
       "Texas                  83    83  \n",
       "Florida                73    73  \n",
       "Illinois               52    52  \n",
       "Massachusetts          36    36  "
      ]
     },
     "execution_count": 90,
     "metadata": {},
     "output_type": "execute_result"
    }
   ],
   "source": [
    "df.groupby('state').count().sort_values(by='city', ascending=False).head()"
   ]
  },
  {
   "cell_type": "code",
   "execution_count": 91,
   "id": "47a0a028-0263-401c-921f-14ccbe6c60c0",
   "metadata": {},
   "outputs": [
    {
     "data": {
      "text/plain": [
       "state\n",
       "California    212\n",
       "Name: count, dtype: int64"
      ]
     },
     "execution_count": 91,
     "metadata": {},
     "output_type": "execute_result"
    }
   ],
   "source": [
    "df['state'].value_counts().head(1)"
   ]
  },
  {
   "cell_type": "markdown",
   "id": "e9b95640-1388-4e4d-9adb-343e7168d21e",
   "metadata": {},
   "source": [
    "### Which state has the smallest number of cities on this list?"
   ]
  },
  {
   "cell_type": "code",
   "execution_count": 92,
   "id": "e170d7b3-e653-420e-9642-14d63f34aea3",
   "metadata": {},
   "outputs": [
    {
     "data": {
      "text/html": [
       "<div>\n",
       "<style scoped>\n",
       "    .dataframe tbody tr th:only-of-type {\n",
       "        vertical-align: middle;\n",
       "    }\n",
       "\n",
       "    .dataframe tbody tr th {\n",
       "        vertical-align: top;\n",
       "    }\n",
       "\n",
       "    .dataframe thead th {\n",
       "        text-align: right;\n",
       "    }\n",
       "</style>\n",
       "<table border=\"1\" class=\"dataframe\">\n",
       "  <thead>\n",
       "    <tr style=\"text-align: right;\">\n",
       "      <th></th>\n",
       "      <th>city</th>\n",
       "      <th>growth_from_2000_to_2013</th>\n",
       "      <th>latitude</th>\n",
       "      <th>longitude</th>\n",
       "      <th>population</th>\n",
       "      <th>rank</th>\n",
       "    </tr>\n",
       "    <tr>\n",
       "      <th>state</th>\n",
       "      <th></th>\n",
       "      <th></th>\n",
       "      <th></th>\n",
       "      <th></th>\n",
       "      <th></th>\n",
       "      <th></th>\n",
       "    </tr>\n",
       "  </thead>\n",
       "  <tbody>\n",
       "    <tr>\n",
       "      <th>Alaska</th>\n",
       "      <td>1</td>\n",
       "      <td>1</td>\n",
       "      <td>1</td>\n",
       "      <td>1</td>\n",
       "      <td>1</td>\n",
       "      <td>1</td>\n",
       "    </tr>\n",
       "    <tr>\n",
       "      <th>Vermont</th>\n",
       "      <td>1</td>\n",
       "      <td>1</td>\n",
       "      <td>1</td>\n",
       "      <td>1</td>\n",
       "      <td>1</td>\n",
       "      <td>1</td>\n",
       "    </tr>\n",
       "    <tr>\n",
       "      <th>District of Columbia</th>\n",
       "      <td>1</td>\n",
       "      <td>1</td>\n",
       "      <td>1</td>\n",
       "      <td>1</td>\n",
       "      <td>1</td>\n",
       "      <td>1</td>\n",
       "    </tr>\n",
       "    <tr>\n",
       "      <th>Maine</th>\n",
       "      <td>1</td>\n",
       "      <td>1</td>\n",
       "      <td>1</td>\n",
       "      <td>1</td>\n",
       "      <td>1</td>\n",
       "      <td>1</td>\n",
       "    </tr>\n",
       "    <tr>\n",
       "      <th>Hawaii</th>\n",
       "      <td>1</td>\n",
       "      <td>1</td>\n",
       "      <td>1</td>\n",
       "      <td>1</td>\n",
       "      <td>1</td>\n",
       "      <td>1</td>\n",
       "    </tr>\n",
       "  </tbody>\n",
       "</table>\n",
       "</div>"
      ],
      "text/plain": [
       "                      city  growth_from_2000_to_2013  latitude  longitude  \\\n",
       "state                                                                       \n",
       "Alaska                   1                         1         1          1   \n",
       "Vermont                  1                         1         1          1   \n",
       "District of Columbia     1                         1         1          1   \n",
       "Maine                    1                         1         1          1   \n",
       "Hawaii                   1                         1         1          1   \n",
       "\n",
       "                      population  rank  \n",
       "state                                   \n",
       "Alaska                         1     1  \n",
       "Vermont                        1     1  \n",
       "District of Columbia           1     1  \n",
       "Maine                          1     1  \n",
       "Hawaii                         1     1  "
      ]
     },
     "execution_count": 92,
     "metadata": {},
     "output_type": "execute_result"
    }
   ],
   "source": [
    "df.groupby('state').count().sort_values(by='city', ascending=True).head(5)"
   ]
  },
  {
   "cell_type": "code",
   "execution_count": 93,
   "id": "538c38e0-e22e-41a9-bcd5-61fd40005bea",
   "metadata": {},
   "outputs": [
    {
     "data": {
      "text/plain": [
       "state\n",
       "Alaska                  1\n",
       "Hawaii                  1\n",
       "District of Columbia    1\n",
       "Maine                   1\n",
       "Vermont                 1\n",
       "Name: count, dtype: int64"
      ]
     },
     "execution_count": 93,
     "metadata": {},
     "output_type": "execute_result"
    }
   ],
   "source": [
    "df['state'].value_counts().tail(5)"
   ]
  },
  {
   "cell_type": "markdown",
   "id": "b56aa71a-d891-4b50-9c2c-a10b5c0ceb20",
   "metadata": {},
   "source": [
    "### Convert the growth_from_2000_to_2013 column into a floating-point number.  Then find the mean and median changes in city size between 2000 and 2013. If a city has no recorded growth, set it to 0."
   ]
  },
  {
   "cell_type": "code",
   "execution_count": 94,
   "id": "285fb8fd-cba4-4799-b168-cac113956033",
   "metadata": {},
   "outputs": [
    {
     "name": "stdout",
     "output_type": "stream",
     "text": [
      "<class 'pandas.core.frame.DataFrame'>\n",
      "RangeIndex: 1000 entries, 0 to 999\n",
      "Data columns (total 7 columns):\n",
      " #   Column                    Non-Null Count  Dtype  \n",
      "---  ------                    --------------  -----  \n",
      " 0   city                      1000 non-null   object \n",
      " 1   growth_from_2000_to_2013  1000 non-null   object \n",
      " 2   latitude                  1000 non-null   float64\n",
      " 3   longitude                 1000 non-null   float64\n",
      " 4   population                1000 non-null   int64  \n",
      " 5   rank                      1000 non-null   int64  \n",
      " 6   state                     1000 non-null   object \n",
      "dtypes: float64(2), int64(2), object(3)\n",
      "memory usage: 54.8+ KB\n"
     ]
    }
   ],
   "source": [
    "df.info()"
   ]
  },
  {
   "cell_type": "code",
   "execution_count": 95,
   "id": "2ffb4089-5354-465f-b3cb-a30e63362622",
   "metadata": {},
   "outputs": [
    {
     "data": {
      "text/plain": [
       "growth_from_2000_to_2013\n",
       "2.9%     13\n",
       "7.5%      9\n",
       "5.7%      8\n",
       "5.8%      8\n",
       "1.9%      8\n",
       "         ..\n",
       "28.3%     1\n",
       "37.4%     1\n",
       "38.7%     1\n",
       "17.3%     1\n",
       "78.1%     1\n",
       "Name: count, Length: 502, dtype: int64"
      ]
     },
     "execution_count": 95,
     "metadata": {},
     "output_type": "execute_result"
    }
   ],
   "source": [
    "df['growth_from_2000_to_2013'].value_counts()  # = df['growth_from_2000_to_2013'].str.replace(\"%\",\"\").astype(np.float32)\n"
   ]
  },
  {
   "cell_type": "code",
   "execution_count": 96,
   "id": "ec62cf0c-b0d4-49d2-9af8-fdc1da9e8c23",
   "metadata": {},
   "outputs": [
    {
     "data": {
      "text/plain": [
       "0       4.8\n",
       "1       4.8\n",
       "2      -6.1\n",
       "3      11.0\n",
       "4       2.6\n",
       "       ... \n",
       "995    28.8\n",
       "996    14.4\n",
       "997    78.1\n",
       "998     2.9\n",
       "999     0.1\n",
       "Name: growth2, Length: 1000, dtype: object"
      ]
     },
     "execution_count": 96,
     "metadata": {},
     "output_type": "execute_result"
    }
   ],
   "source": [
    "df['growth2'] = df['growth_from_2000_to_2013'].str.replace(\"%\",\"\")  # .astype(np.float32)\n",
    "df['growth2']"
   ]
  },
  {
   "cell_type": "code",
   "execution_count": 97,
   "id": "b29ba6e6-cc73-4948-ae16-d49c38ffd92b",
   "metadata": {},
   "outputs": [],
   "source": [
    "def fix_growth(x):\n",
    "    if x == '':\n",
    "        return 0.0\n",
    "    else:\n",
    "        return float(x)"
   ]
  },
  {
   "cell_type": "code",
   "execution_count": 125,
   "id": "af06d151-db99-4915-ae51-05c769521047",
   "metadata": {},
   "outputs": [],
   "source": [
    "def fix_growth2(x):\n",
    "    x = x.rstrip(\"% \")\n",
    "    if x == '':\n",
    "        return 0.0\n",
    "    else:\n",
    "        return float(x)"
   ]
  },
  {
   "cell_type": "code",
   "execution_count": 98,
   "id": "2c4de32e-0c12-4937-960f-3ac4d91c6300",
   "metadata": {},
   "outputs": [],
   "source": [
    "df['growth%'] = df['growth2'].apply(lambda x: fix_growth(x)) #astype(np.float32)\n"
   ]
  },
  {
   "cell_type": "code",
   "execution_count": 127,
   "id": "fe0d3864-ec4d-43d9-8d5b-6a73b4379312",
   "metadata": {},
   "outputs": [],
   "source": [
    "df['growth%2'] = df['growth_from_2000_to_2013'].apply(lambda x: fix_growth2(x)) #astype(np.float32)\n"
   ]
  },
  {
   "cell_type": "code",
   "execution_count": 128,
   "id": "551a1419-d75d-4eb8-82e8-d2320cdb875e",
   "metadata": {},
   "outputs": [
    {
     "data": {
      "text/html": [
       "<div>\n",
       "<style scoped>\n",
       "    .dataframe tbody tr th:only-of-type {\n",
       "        vertical-align: middle;\n",
       "    }\n",
       "\n",
       "    .dataframe tbody tr th {\n",
       "        vertical-align: top;\n",
       "    }\n",
       "\n",
       "    .dataframe thead th {\n",
       "        text-align: right;\n",
       "    }\n",
       "</style>\n",
       "<table border=\"1\" class=\"dataframe\">\n",
       "  <thead>\n",
       "    <tr style=\"text-align: right;\">\n",
       "      <th></th>\n",
       "      <th>city</th>\n",
       "      <th>growth_from_2000_to_2013</th>\n",
       "      <th>latitude</th>\n",
       "      <th>longitude</th>\n",
       "      <th>population</th>\n",
       "      <th>rank</th>\n",
       "      <th>state</th>\n",
       "      <th>growth2</th>\n",
       "      <th>growth%</th>\n",
       "      <th>growth%2</th>\n",
       "    </tr>\n",
       "  </thead>\n",
       "  <tbody>\n",
       "    <tr>\n",
       "      <th>0</th>\n",
       "      <td>New York</td>\n",
       "      <td>4.8%</td>\n",
       "      <td>40.71</td>\n",
       "      <td>-74.01</td>\n",
       "      <td>8405837</td>\n",
       "      <td>1</td>\n",
       "      <td>New York</td>\n",
       "      <td>4.8</td>\n",
       "      <td>4.80</td>\n",
       "      <td>4.80</td>\n",
       "    </tr>\n",
       "    <tr>\n",
       "      <th>1</th>\n",
       "      <td>Los Angeles</td>\n",
       "      <td>4.8%</td>\n",
       "      <td>34.05</td>\n",
       "      <td>-118.24</td>\n",
       "      <td>3884307</td>\n",
       "      <td>2</td>\n",
       "      <td>California</td>\n",
       "      <td>4.8</td>\n",
       "      <td>4.80</td>\n",
       "      <td>4.80</td>\n",
       "    </tr>\n",
       "    <tr>\n",
       "      <th>2</th>\n",
       "      <td>Chicago</td>\n",
       "      <td>-6.1%</td>\n",
       "      <td>41.88</td>\n",
       "      <td>-87.63</td>\n",
       "      <td>2718782</td>\n",
       "      <td>3</td>\n",
       "      <td>Illinois</td>\n",
       "      <td>-6.1</td>\n",
       "      <td>-6.10</td>\n",
       "      <td>-6.10</td>\n",
       "    </tr>\n",
       "    <tr>\n",
       "      <th>3</th>\n",
       "      <td>Houston</td>\n",
       "      <td>11.0%</td>\n",
       "      <td>29.76</td>\n",
       "      <td>-95.37</td>\n",
       "      <td>2195914</td>\n",
       "      <td>4</td>\n",
       "      <td>Texas</td>\n",
       "      <td>11.0</td>\n",
       "      <td>11.00</td>\n",
       "      <td>11.00</td>\n",
       "    </tr>\n",
       "    <tr>\n",
       "      <th>4</th>\n",
       "      <td>Philadelphia</td>\n",
       "      <td>2.6%</td>\n",
       "      <td>39.95</td>\n",
       "      <td>-75.17</td>\n",
       "      <td>1553165</td>\n",
       "      <td>5</td>\n",
       "      <td>Pennsylvania</td>\n",
       "      <td>2.6</td>\n",
       "      <td>2.60</td>\n",
       "      <td>2.60</td>\n",
       "    </tr>\n",
       "    <tr>\n",
       "      <th>...</th>\n",
       "      <td>...</td>\n",
       "      <td>...</td>\n",
       "      <td>...</td>\n",
       "      <td>...</td>\n",
       "      <td>...</td>\n",
       "      <td>...</td>\n",
       "      <td>...</td>\n",
       "      <td>...</td>\n",
       "      <td>...</td>\n",
       "      <td>...</td>\n",
       "    </tr>\n",
       "    <tr>\n",
       "      <th>995</th>\n",
       "      <td>Weslaco</td>\n",
       "      <td>28.8%</td>\n",
       "      <td>26.16</td>\n",
       "      <td>-97.99</td>\n",
       "      <td>37093</td>\n",
       "      <td>996</td>\n",
       "      <td>Texas</td>\n",
       "      <td>28.8</td>\n",
       "      <td>28.80</td>\n",
       "      <td>28.80</td>\n",
       "    </tr>\n",
       "    <tr>\n",
       "      <th>996</th>\n",
       "      <td>Keizer</td>\n",
       "      <td>14.4%</td>\n",
       "      <td>44.99</td>\n",
       "      <td>-123.03</td>\n",
       "      <td>37064</td>\n",
       "      <td>997</td>\n",
       "      <td>Oregon</td>\n",
       "      <td>14.4</td>\n",
       "      <td>14.40</td>\n",
       "      <td>14.40</td>\n",
       "    </tr>\n",
       "    <tr>\n",
       "      <th>997</th>\n",
       "      <td>Spanish Fork</td>\n",
       "      <td>78.1%</td>\n",
       "      <td>40.11</td>\n",
       "      <td>-111.65</td>\n",
       "      <td>36956</td>\n",
       "      <td>998</td>\n",
       "      <td>Utah</td>\n",
       "      <td>78.1</td>\n",
       "      <td>78.10</td>\n",
       "      <td>78.10</td>\n",
       "    </tr>\n",
       "    <tr>\n",
       "      <th>998</th>\n",
       "      <td>Beloit</td>\n",
       "      <td>2.9%</td>\n",
       "      <td>42.51</td>\n",
       "      <td>-89.03</td>\n",
       "      <td>36888</td>\n",
       "      <td>999</td>\n",
       "      <td>Wisconsin</td>\n",
       "      <td>2.9</td>\n",
       "      <td>2.90</td>\n",
       "      <td>2.90</td>\n",
       "    </tr>\n",
       "    <tr>\n",
       "      <th>999</th>\n",
       "      <td>Panama City</td>\n",
       "      <td>0.1%</td>\n",
       "      <td>30.16</td>\n",
       "      <td>-85.66</td>\n",
       "      <td>36877</td>\n",
       "      <td>1000</td>\n",
       "      <td>Florida</td>\n",
       "      <td>0.1</td>\n",
       "      <td>0.10</td>\n",
       "      <td>0.10</td>\n",
       "    </tr>\n",
       "  </tbody>\n",
       "</table>\n",
       "<p>1000 rows × 10 columns</p>\n",
       "</div>"
      ],
      "text/plain": [
       "             city growth_from_2000_to_2013  latitude  longitude  population  \\\n",
       "0        New York                     4.8%     40.71     -74.01     8405837   \n",
       "1     Los Angeles                     4.8%     34.05    -118.24     3884307   \n",
       "2         Chicago                    -6.1%     41.88     -87.63     2718782   \n",
       "3         Houston                    11.0%     29.76     -95.37     2195914   \n",
       "4    Philadelphia                     2.6%     39.95     -75.17     1553165   \n",
       "..            ...                      ...       ...        ...         ...   \n",
       "995       Weslaco                    28.8%     26.16     -97.99       37093   \n",
       "996        Keizer                    14.4%     44.99    -123.03       37064   \n",
       "997  Spanish Fork                    78.1%     40.11    -111.65       36956   \n",
       "998        Beloit                     2.9%     42.51     -89.03       36888   \n",
       "999   Panama City                     0.1%     30.16     -85.66       36877   \n",
       "\n",
       "     rank         state growth2  growth%  growth%2  \n",
       "0       1      New York     4.8     4.80      4.80  \n",
       "1       2    California     4.8     4.80      4.80  \n",
       "2       3      Illinois    -6.1    -6.10     -6.10  \n",
       "3       4         Texas    11.0    11.00     11.00  \n",
       "4       5  Pennsylvania     2.6     2.60      2.60  \n",
       "..    ...           ...     ...      ...       ...  \n",
       "995   996         Texas    28.8    28.80     28.80  \n",
       "996   997        Oregon    14.4    14.40     14.40  \n",
       "997   998          Utah    78.1    78.10     78.10  \n",
       "998   999     Wisconsin     2.9     2.90      2.90  \n",
       "999  1000       Florida     0.1     0.10      0.10  \n",
       "\n",
       "[1000 rows x 10 columns]"
      ]
     },
     "execution_count": 128,
     "metadata": {},
     "output_type": "execute_result"
    }
   ],
   "source": [
    "df"
   ]
  },
  {
   "cell_type": "code",
   "execution_count": 99,
   "id": "d5cbd432-5354-4046-9cf4-d4ac2daffa47",
   "metadata": {},
   "outputs": [
    {
     "name": "stdout",
     "output_type": "stream",
     "text": [
      "<class 'pandas.core.frame.DataFrame'>\n",
      "RangeIndex: 1000 entries, 0 to 999\n",
      "Data columns (total 9 columns):\n",
      " #   Column                    Non-Null Count  Dtype  \n",
      "---  ------                    --------------  -----  \n",
      " 0   city                      1000 non-null   object \n",
      " 1   growth_from_2000_to_2013  1000 non-null   object \n",
      " 2   latitude                  1000 non-null   float64\n",
      " 3   longitude                 1000 non-null   float64\n",
      " 4   population                1000 non-null   int64  \n",
      " 5   rank                      1000 non-null   int64  \n",
      " 6   state                     1000 non-null   object \n",
      " 7   growth2                   1000 non-null   object \n",
      " 8   growth%                   1000 non-null   float64\n",
      "dtypes: float64(3), int64(2), object(4)\n",
      "memory usage: 70.4+ KB\n"
     ]
    }
   ],
   "source": [
    "df.info()"
   ]
  },
  {
   "cell_type": "code",
   "execution_count": 130,
   "id": "ab4ed3b7-40c1-48db-8e27-868b3b7c84d3",
   "metadata": {},
   "outputs": [],
   "source": [
    "df['growth%'] = df['growth%'].astype(np.float32)\n",
    "df['growth%2'] = df['growth%2'].astype(np.float32)"
   ]
  },
  {
   "cell_type": "code",
   "execution_count": 131,
   "id": "a57d4f0e-3c4d-4cc1-9237-0b98177c439c",
   "metadata": {},
   "outputs": [
    {
     "name": "stdout",
     "output_type": "stream",
     "text": [
      "<class 'pandas.core.frame.DataFrame'>\n",
      "RangeIndex: 1000 entries, 0 to 999\n",
      "Data columns (total 10 columns):\n",
      " #   Column                    Non-Null Count  Dtype  \n",
      "---  ------                    --------------  -----  \n",
      " 0   city                      1000 non-null   object \n",
      " 1   growth_from_2000_to_2013  1000 non-null   object \n",
      " 2   latitude                  1000 non-null   float64\n",
      " 3   longitude                 1000 non-null   float64\n",
      " 4   population                1000 non-null   int64  \n",
      " 5   rank                      1000 non-null   int64  \n",
      " 6   state                     1000 non-null   object \n",
      " 7   growth2                   1000 non-null   object \n",
      " 8   growth%                   1000 non-null   float32\n",
      " 9   growth%2                  1000 non-null   float32\n",
      "dtypes: float32(2), float64(2), int64(2), object(4)\n",
      "memory usage: 70.4+ KB\n"
     ]
    }
   ],
   "source": [
    "df.info()"
   ]
  },
  {
   "cell_type": "code",
   "execution_count": 102,
   "id": "a2ecf66d-b41e-4548-89bd-44dcece33e50",
   "metadata": {},
   "outputs": [
    {
     "data": {
      "text/plain": [
       "mean   22.94\n",
       "50%     9.65\n",
       "Name: growth%, dtype: float64"
      ]
     },
     "execution_count": 102,
     "metadata": {},
     "output_type": "execute_result"
    }
   ],
   "source": [
    "df['growth%'].describe()[['mean', '50%']]"
   ]
  },
  {
   "cell_type": "markdown",
   "id": "a6f06a4e-abbb-4a6f-a710-6a21ee63fefb",
   "metadata": {},
   "source": [
    "### How many cities had positive growth in this period, and how many had negative growth?"
   ]
  },
  {
   "cell_type": "code",
   "execution_count": 134,
   "id": "856b7018-2325-46f3-b188-2faced34b4b1",
   "metadata": {},
   "outputs": [
    {
     "data": {
      "text/plain": [
       "city       847\n",
       "growth%    847\n",
       "dtype: int64"
      ]
     },
     "execution_count": 134,
     "metadata": {},
     "output_type": "execute_result"
    }
   ],
   "source": [
    "df.loc[df['growth%2'] > 0, ['city','growth%']].sort_values(by='growth%').count()"
   ]
  },
  {
   "cell_type": "code",
   "execution_count": 132,
   "id": "84207d98-c90f-4faf-91c8-67e98b584b31",
   "metadata": {},
   "outputs": [
    {
     "data": {
      "text/plain": [
       "city       142\n",
       "growth%    142\n",
       "dtype: int64"
      ]
     },
     "execution_count": 132,
     "metadata": {},
     "output_type": "execute_result"
    }
   ],
   "source": [
    "df.loc[df['growth%2'] < 0, ['city','growth%']].sort_values(by='growth%').count()"
   ]
  },
  {
   "cell_type": "code",
   "execution_count": 133,
   "id": "2ac869b4-78b9-4be2-a39f-c400b7946d2e",
   "metadata": {},
   "outputs": [
    {
     "data": {
      "text/plain": [
       "city                        11\n",
       "growth_from_2000_to_2013    11\n",
       "latitude                    11\n",
       "longitude                   11\n",
       "population                  11\n",
       "rank                        11\n",
       "state                       11\n",
       "growth2                     11\n",
       "growth%                     11\n",
       "growth%2                    11\n",
       "dtype: int64"
      ]
     },
     "execution_count": 133,
     "metadata": {},
     "output_type": "execute_result"
    }
   ],
   "source": [
    "df.loc[df['growth%2'] == 0].sort_values(by='growth%').count()"
   ]
  },
  {
   "cell_type": "code",
   "execution_count": 112,
   "id": "d0fd905f-5899-42cc-8140-5de2e4cdc24b",
   "metadata": {},
   "outputs": [
    {
     "data": {
      "text/plain": [
       "city                        142\n",
       "growth_from_2000_to_2013    142\n",
       "latitude                    142\n",
       "longitude                   142\n",
       "population                  142\n",
       "rank                        142\n",
       "state                       142\n",
       "growth2                     142\n",
       "growth%                     142\n",
       "dtype: int64"
      ]
     },
     "execution_count": 112,
     "metadata": {},
     "output_type": "execute_result"
    }
   ],
   "source": [
    "df.loc[df['growth%'] < 0].sort_values(by='growth%').count()"
   ]
  },
  {
   "cell_type": "code",
   "execution_count": 138,
   "id": "9b414cf4-80df-41b0-b2d7-8e14d36cfd86",
   "metadata": {},
   "outputs": [
    {
     "data": {
      "text/plain": [
       "growth%2\n",
       "+    847\n",
       "-    142\n",
       "0     11\n",
       "Name: count, dtype: int64"
      ]
     },
     "execution_count": 138,
     "metadata": {},
     "output_type": "execute_result"
    }
   ],
   "source": [
    "pd.cut(df['growth%2'],\n",
    "        bins=[df['growth%2'].min(), -0.0000001, 0.0000001, df['growth%2'].max()],\n",
    "        include_lowest=True,\n",
    "        labels=['-','0' ,'+']).value_counts()"
   ]
  },
  {
   "cell_type": "markdown",
   "id": "c7c6797a-9d64-42ed-8e79-e409622c787c",
   "metadata": {},
   "source": [
    "### Find the city or cities with latitudes more than two standard deviations from the mean."
   ]
  },
  {
   "cell_type": "code",
   "execution_count": 115,
   "id": "28473cbb-2e10-4160-a238-f9b2a4d6880a",
   "metadata": {},
   "outputs": [
    {
     "data": {
      "text/plain": [
       "37.338240701500006"
      ]
     },
     "execution_count": 115,
     "metadata": {},
     "output_type": "execute_result"
    }
   ],
   "source": [
    "mean_lat = df['latitude'].mean()\n",
    "mean_lat"
   ]
  },
  {
   "cell_type": "code",
   "execution_count": 118,
   "id": "9de81556-5bf3-4843-95e7-20c401bfe756",
   "metadata": {},
   "outputs": [
    {
     "data": {
      "text/plain": [
       "5.279126620896825"
      ]
     },
     "execution_count": 118,
     "metadata": {},
     "output_type": "execute_result"
    }
   ],
   "source": [
    "std_lat = df['latitude'].std()\n",
    "std_lat"
   ]
  },
  {
   "cell_type": "code",
   "execution_count": 124,
   "id": "61b100d3-5658-4564-9fd5-f3e9bd5a036f",
   "metadata": {},
   "outputs": [
    {
     "data": {
      "text/plain": [
       "city                        6\n",
       "growth_from_2000_to_2013    6\n",
       "latitude                    6\n",
       "longitude                   6\n",
       "population                  6\n",
       "rank                        6\n",
       "state                       6\n",
       "growth2                     6\n",
       "growth%                     6\n",
       "dtype: int64"
      ]
     },
     "execution_count": 124,
     "metadata": {},
     "output_type": "execute_result"
    }
   ],
   "source": [
    "df.loc[df['latitude'] > (mean_lat + 2 * std_lat)].count()"
   ]
  },
  {
   "cell_type": "code",
   "execution_count": 123,
   "id": "fa2beac5-2ed8-4a3a-8d7e-177a0bdff123",
   "metadata": {},
   "outputs": [
    {
     "data": {
      "text/plain": [
       "city                        46\n",
       "growth_from_2000_to_2013    46\n",
       "latitude                    46\n",
       "longitude                   46\n",
       "population                  46\n",
       "rank                        46\n",
       "state                       46\n",
       "growth2                     46\n",
       "growth%                     46\n",
       "dtype: int64"
      ]
     },
     "execution_count": 123,
     "metadata": {},
     "output_type": "execute_result"
    }
   ],
   "source": [
    "df.loc[df['latitude'] < (mean_lat - 2 * std_lat)].count()"
   ]
  },
  {
   "cell_type": "code",
   "execution_count": 141,
   "id": "53429b26-725d-4824-a0f1-a38b5cf46154",
   "metadata": {},
   "outputs": [],
   "source": [
    "sd2df = df.loc[(df['latitude'] > df['latitude'].mean() + 2*df['latitude'].std()) |\n",
    "   (df['latitude'] < df['latitude'].mean() - 2*df['latitude'].std()) ]"
   ]
  },
  {
   "cell_type": "code",
   "execution_count": 144,
   "id": "291db31c-c57f-4733-a8c9-24c859387098",
   "metadata": {},
   "outputs": [
    {
     "data": {
      "text/plain": [
       "(52, 10)"
      ]
     },
     "execution_count": 144,
     "metadata": {},
     "output_type": "execute_result"
    }
   ],
   "source": [
    "sd2df.shape"
   ]
  },
  {
   "cell_type": "code",
   "execution_count": null,
   "id": "ccdbcffe-e458-48c2-ae20-1b1380979702",
   "metadata": {},
   "outputs": [],
   "source": []
  }
 ],
 "metadata": {
  "kernelspec": {
   "display_name": "Python [conda env:py311b]",
   "language": "python",
   "name": "conda-env-py311b-py"
  },
  "language_info": {
   "codemirror_mode": {
    "name": "ipython",
    "version": 3
   },
   "file_extension": ".py",
   "mimetype": "text/x-python",
   "name": "python",
   "nbconvert_exporter": "python",
   "pygments_lexer": "ipython3",
   "version": "3.11.13"
  },
  "widgets": {
   "application/vnd.jupyter.widget-state+json": {
    "state": {},
    "version_major": 2,
    "version_minor": 0
   }
  }
 },
 "nbformat": 4,
 "nbformat_minor": 5
}
