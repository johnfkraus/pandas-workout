{
 "cells": [
  {
   "cell_type": "markdown",
   "id": "9ad7dcfa-9677-4e35-b064-c6220e391769",
   "metadata": {},
   "source": [
    " create a data frame from two different CSV files containing New York taxi data: one from July 2019 (before the pandemic) and a second\n",
    "from July 2020 (near the height of the pandemic, at least in New York). \n",
    "\n",
    "The dataframe should contain three columns from the files: passenger_count, total_amount, and payment_type. \n",
    "\n",
    "The DataFrame should also include a fifth column, year, which should be set to 2019 or 2020, depending on the file from which the data was loaded."
   ]
  },
  {
   "cell_type": "code",
   "execution_count": 94,
   "id": "01fc75fc-1b5a-4e8d-ab35-0df9c750e573",
   "metadata": {},
   "outputs": [],
   "source": [
    "import pandas as pd\n",
    "import numpy as np\n",
    "from pandas import DataFrame, Series"
   ]
  },
  {
   "cell_type": "code",
   "execution_count": 4,
   "id": "b7931f8f-3c25-4e71-8033-496106b5083c",
   "metadata": {},
   "outputs": [],
   "source": [
    "df2019 = pd.read_csv('../data/nyc_taxi_2019-07.csv', \n",
    "        usecols=['passenger_count','total_amount', 'payment_type'])"
   ]
  },
  {
   "cell_type": "code",
   "execution_count": 5,
   "id": "b136c3fc-77d3-42af-9ebf-703727511cf6",
   "metadata": {},
   "outputs": [],
   "source": [
    "df2019['year'] = 2019"
   ]
  },
  {
   "cell_type": "code",
   "execution_count": 6,
   "id": "6032a04e-8df2-4f79-840a-75e51472597e",
   "metadata": {},
   "outputs": [
    {
     "data": {
      "text/plain": [
       "(6310419, 4)"
      ]
     },
     "execution_count": 6,
     "metadata": {},
     "output_type": "execute_result"
    }
   ],
   "source": [
    "df2019.shape"
   ]
  },
  {
   "cell_type": "code",
   "execution_count": 7,
   "id": "1b4e206d-c7ea-4896-9c71-61e588becb2e",
   "metadata": {},
   "outputs": [
    {
     "data": {
      "text/html": [
       "<div>\n",
       "<style scoped>\n",
       "    .dataframe tbody tr th:only-of-type {\n",
       "        vertical-align: middle;\n",
       "    }\n",
       "\n",
       "    .dataframe tbody tr th {\n",
       "        vertical-align: top;\n",
       "    }\n",
       "\n",
       "    .dataframe thead th {\n",
       "        text-align: right;\n",
       "    }\n",
       "</style>\n",
       "<table border=\"1\" class=\"dataframe\">\n",
       "  <thead>\n",
       "    <tr style=\"text-align: right;\">\n",
       "      <th></th>\n",
       "      <th>passenger_count</th>\n",
       "      <th>payment_type</th>\n",
       "      <th>total_amount</th>\n",
       "      <th>year</th>\n",
       "    </tr>\n",
       "  </thead>\n",
       "  <tbody>\n",
       "    <tr>\n",
       "      <th>0</th>\n",
       "      <td>1.0</td>\n",
       "      <td>1.0</td>\n",
       "      <td>4.94</td>\n",
       "      <td>2019</td>\n",
       "    </tr>\n",
       "    <tr>\n",
       "      <th>1</th>\n",
       "      <td>1.0</td>\n",
       "      <td>2.0</td>\n",
       "      <td>20.30</td>\n",
       "      <td>2019</td>\n",
       "    </tr>\n",
       "    <tr>\n",
       "      <th>2</th>\n",
       "      <td>1.0</td>\n",
       "      <td>1.0</td>\n",
       "      <td>70.67</td>\n",
       "      <td>2019</td>\n",
       "    </tr>\n",
       "    <tr>\n",
       "      <th>3</th>\n",
       "      <td>1.0</td>\n",
       "      <td>1.0</td>\n",
       "      <td>66.36</td>\n",
       "      <td>2019</td>\n",
       "    </tr>\n",
       "    <tr>\n",
       "      <th>4</th>\n",
       "      <td>0.0</td>\n",
       "      <td>1.0</td>\n",
       "      <td>15.30</td>\n",
       "      <td>2019</td>\n",
       "    </tr>\n",
       "  </tbody>\n",
       "</table>\n",
       "</div>"
      ],
      "text/plain": [
       "   passenger_count  payment_type  total_amount  year\n",
       "0              1.0           1.0          4.94  2019\n",
       "1              1.0           2.0         20.30  2019\n",
       "2              1.0           1.0         70.67  2019\n",
       "3              1.0           1.0         66.36  2019\n",
       "4              0.0           1.0         15.30  2019"
      ]
     },
     "execution_count": 7,
     "metadata": {},
     "output_type": "execute_result"
    }
   ],
   "source": [
    "df2019.head()"
   ]
  },
  {
   "cell_type": "code",
   "execution_count": 8,
   "id": "63a25c13-7392-4c6d-9c06-37c1a6d1e015",
   "metadata": {},
   "outputs": [],
   "source": [
    "df2020 = pd.read_csv('../data/nyc_taxi_2020-07.csv', \n",
    "        usecols=['passenger_count','total_amount', 'payment_type'])\n",
    "df2020['year'] = 2020"
   ]
  },
  {
   "cell_type": "code",
   "execution_count": 9,
   "id": "630f6c5f-4edd-4c46-9783-9cf42ebca6de",
   "metadata": {},
   "outputs": [
    {
     "data": {
      "text/plain": [
       "(800412, 4)"
      ]
     },
     "execution_count": 9,
     "metadata": {},
     "output_type": "execute_result"
    }
   ],
   "source": [
    "df2020.shape"
   ]
  },
  {
   "cell_type": "code",
   "execution_count": 47,
   "id": "beea41d3-d3c4-4958-bfb2-cbf51c7bf8b4",
   "metadata": {},
   "outputs": [],
   "source": [
    "df_all = pd.concat([df2019, df2020])"
   ]
  },
  {
   "cell_type": "code",
   "execution_count": 16,
   "id": "fb95deb2-e876-48ea-8222-82e507e520d8",
   "metadata": {},
   "outputs": [],
   "source": [
    "num_rides_2019 = df2019.shape[0]\n",
    "num_rides_2020 = df2020.shape[0]\n",
    "diff = num_rides_2020 - num_rides_2019"
   ]
  },
  {
   "cell_type": "code",
   "execution_count": 50,
   "id": "0f8cebbb-d231-41e5-97b1-768e65624e6a",
   "metadata": {},
   "outputs": [
    {
     "name": "stdout",
     "output_type": "stream",
     "text": [
      "diff = $-5,510,007.00\n"
     ]
    }
   ],
   "source": [
    "print(f\"diff = ${diff:,.2f}\")"
   ]
  },
  {
   "cell_type": "code",
   "execution_count": 18,
   "id": "e77b07cd-71a6-48c5-b805-5b556307220c",
   "metadata": {},
   "outputs": [
    {
     "data": {
      "text/plain": [
       "-87.31602449853172"
      ]
     },
     "execution_count": 18,
     "metadata": {},
     "output_type": "execute_result"
    }
   ],
   "source": [
    "pct_change = diff / num_rides_2019 * 100\n",
    "pct_change"
   ]
  },
  {
   "cell_type": "code",
   "execution_count": 53,
   "id": "802bd2e2-738b-40e0-9ff5-2c70bcd88061",
   "metadata": {},
   "outputs": [
    {
     "name": "stdout",
     "output_type": "stream",
     "text": [
      "2019$: $123,761,823.33\n"
     ]
    }
   ],
   "source": [
    "print(f\"2019$: ${df2019['total_amount'].sum():,.2f}\")"
   ]
  },
  {
   "cell_type": "code",
   "execution_count": 54,
   "id": "ef1c3c2d-d68b-42d8-943a-bdb811d6d12b",
   "metadata": {},
   "outputs": [
    {
     "name": "stdout",
     "output_type": "stream",
     "text": [
      "2020$: $14,912,844.09\n"
     ]
    }
   ],
   "source": [
    "print(f\"2020$: ${df2020['total_amount'].sum():,.2f}\")"
   ]
  },
  {
   "cell_type": "code",
   "execution_count": 55,
   "id": "da8a2900-f0d3-47ff-b243-259780655d62",
   "metadata": {},
   "outputs": [
    {
     "name": "stdout",
     "output_type": "stream",
     "text": [
      "diff_dollars = $-108,848,979.24\n"
     ]
    }
   ],
   "source": [
    "diff_dollars = (df2020['total_amount'].sum() - \n",
    "         df2019['total_amount'].sum())\n",
    "print(f\"diff_dollars = ${diff_dollars:,.2f}\")"
   ]
  },
  {
   "cell_type": "code",
   "execution_count": 56,
   "id": "5a78ca69-0c58-417d-ad02-85a7b1b5930b",
   "metadata": {},
   "outputs": [],
   "source": [
    "diff_pct = (df2020['total_amount'].sum() - \n",
    "         df2019['total_amount'].sum())/df2019['total_amount'].sum()"
   ]
  },
  {
   "cell_type": "code",
   "execution_count": 59,
   "id": "4c7b9b40-2a23-4355-9f0c-f1c73f4f5a88",
   "metadata": {},
   "outputs": [
    {
     "name": "stdout",
     "output_type": "stream",
     "text": [
      "total amount change pct = -0.88%\n"
     ]
    }
   ],
   "source": [
    "print(f\"total amount change pct = {diff_pct:,.2f}%\")"
   ]
  },
  {
   "cell_type": "code",
   "execution_count": 60,
   "id": "7be8565b-43b3-4a9b-8306-5a7883ced98f",
   "metadata": {},
   "outputs": [
    {
     "data": {
      "text/plain": [
       "passenger_count\n",
       "0.0    0.018623\n",
       "1.0    0.697987\n",
       "2.0    0.151958\n",
       "3.0    0.044481\n",
       "4.0    0.022259\n",
       "5.0    0.040510\n",
       "6.0    0.024171\n",
       "7.0    0.000005\n",
       "8.0    0.000004\n",
       "9.0    0.000003\n",
       "Name: proportion, dtype: float64"
      ]
     },
     "execution_count": 60,
     "metadata": {},
     "output_type": "execute_result"
    }
   ],
   "source": [
    "df2019['passenger_count'].value_counts(normalize=True).sort_index()"
   ]
  },
  {
   "cell_type": "code",
   "execution_count": 69,
   "id": "07aceb80-84f4-42ed-8d83-7d0daa8e2b78",
   "metadata": {},
   "outputs": [
    {
     "name": "stdout",
     "output_type": "stream",
     "text": [
      "2019 multi-pass ride count = 0.2833900000955953\n"
     ]
    }
   ],
   "source": [
    "print(f\"2019 multi-pass ride count = {df2019['passenger_count'].value_counts(normalize=True).sort_index().loc[2:].sum()}\")"
   ]
  },
  {
   "cell_type": "code",
   "execution_count": 70,
   "id": "3aa8194c-be94-4fb0-8b10-c5c92a149785",
   "metadata": {},
   "outputs": [
    {
     "name": "stdout",
     "output_type": "stream",
     "text": [
      "2020 pass count % = passenger_count\n",
      "0.0    0.026446\n",
      "1.0    0.767402\n",
      "2.0    0.123243\n",
      "3.0    0.029527\n",
      "4.0    0.010589\n",
      "5.0    0.023194\n",
      "6.0    0.019587\n",
      "7.0    0.000007\n",
      "8.0    0.000003\n",
      "9.0    0.000001\n",
      "Name: proportion, dtype: float64\n"
     ]
    }
   ],
   "source": [
    "print(f\"2020 pass count % = {df2020['passenger_count'].value_counts(normalize=True).sort_index()}\")\n",
    "\n",
    "      "
   ]
  },
  {
   "cell_type": "code",
   "execution_count": 84,
   "id": "396718ee-22b8-4253-a7ee-f505481d2d79",
   "metadata": {},
   "outputs": [
    {
     "name": "stdout",
     "output_type": "stream",
     "text": [
      "2020 multi-pass ride count = 0.2061513222563435\n"
     ]
    }
   ],
   "source": [
    "print(f\"2020 multi-pass ride count = {df2020['passenger_count'].value_counts(normalize=True).sort_index().loc[2:].sum()}\")"
   ]
  },
  {
   "cell_type": "code",
   "execution_count": 68,
   "id": "daf71373-f311-4e99-9563-d1c879dd6cd3",
   "metadata": {},
   "outputs": [
    {
     "data": {
      "text/plain": [
       "0.2870595845428793"
      ]
     },
     "execution_count": 68,
     "metadata": {},
     "output_type": "execute_result"
    }
   ],
   "source": [
    "df2019['payment_type'].value_counts(normalize=True)[2]  #.loc[2:].sum()"
   ]
  },
  {
   "cell_type": "code",
   "execution_count": 45,
   "id": "e49874ee-13a9-4f2b-b11c-8656925a394f",
   "metadata": {},
   "outputs": [
    {
     "data": {
      "text/plain": [
       "0.320558865998251"
      ]
     },
     "execution_count": 45,
     "metadata": {},
     "output_type": "execute_result"
    }
   ],
   "source": [
    "df2020['payment_type'].value_counts(normalize=True)[2]  #.loc[2:].sum()"
   ]
  },
  {
   "cell_type": "code",
   "execution_count": 85,
   "id": "3ffa8ee8-78fc-4283-8cf1-af375ecd8883",
   "metadata": {},
   "outputs": [
    {
     "data": {
      "text/plain": [
       "0.2061513222563435"
      ]
     },
     "execution_count": 85,
     "metadata": {},
     "output_type": "execute_result"
    }
   ],
   "source": [
    "df_all.loc[(df_all['year'] == 2020) & \n",
    "       (df_all['passenger_count'] > 1), 'passenger_count'].count() / \\\n",
    "        df_all.loc[df_all['year'] == 2020, 'payment_type'].count()"
   ]
  },
  {
   "cell_type": "code",
   "execution_count": 86,
   "id": "65540300-a321-49b5-ba1f-20851aff3861",
   "metadata": {},
   "outputs": [
    {
     "data": {
      "text/plain": [
       "0.2061513222563435"
      ]
     },
     "execution_count": 86,
     "metadata": {},
     "output_type": "execute_result"
    }
   ],
   "source": [
    "# corrected\n",
    "df_all.loc[\n",
    "        (df_all['year'] == 2020) & \n",
    "       (df_all['passenger_count'] > 1), 'passenger_count'].count() / \\\n",
    "        df_all.loc[df_all['year'] == 2020, 'passenger_count'].count()\n",
    "\n"
   ]
  },
  {
   "cell_type": "code",
   "execution_count": 87,
   "id": "ccc52a2c-f24d-4e5d-88e0-0bef600a4a78",
   "metadata": {},
   "outputs": [
    {
     "data": {
      "text/html": [
       "<div>\n",
       "<style scoped>\n",
       "    .dataframe tbody tr th:only-of-type {\n",
       "        vertical-align: middle;\n",
       "    }\n",
       "\n",
       "    .dataframe tbody tr th {\n",
       "        vertical-align: top;\n",
       "    }\n",
       "\n",
       "    .dataframe thead th {\n",
       "        text-align: right;\n",
       "    }\n",
       "</style>\n",
       "<table border=\"1\" class=\"dataframe\">\n",
       "  <thead>\n",
       "    <tr style=\"text-align: right;\">\n",
       "      <th></th>\n",
       "      <th>passenger_count</th>\n",
       "      <th>payment_type</th>\n",
       "      <th>total_amount</th>\n",
       "      <th>year</th>\n",
       "    </tr>\n",
       "  </thead>\n",
       "  <tbody>\n",
       "    <tr>\n",
       "      <th>passenger_count</th>\n",
       "      <td>1.000000</td>\n",
       "      <td>0.016410</td>\n",
       "      <td>0.014943</td>\n",
       "      <td>-0.049558</td>\n",
       "    </tr>\n",
       "    <tr>\n",
       "      <th>payment_type</th>\n",
       "      <td>0.016410</td>\n",
       "      <td>1.000000</td>\n",
       "      <td>-0.138561</td>\n",
       "      <td>0.029277</td>\n",
       "    </tr>\n",
       "    <tr>\n",
       "      <th>total_amount</th>\n",
       "      <td>0.014943</td>\n",
       "      <td>-0.138561</td>\n",
       "      <td>1.000000</td>\n",
       "      <td>-0.019706</td>\n",
       "    </tr>\n",
       "    <tr>\n",
       "      <th>year</th>\n",
       "      <td>-0.049558</td>\n",
       "      <td>0.029277</td>\n",
       "      <td>-0.019706</td>\n",
       "      <td>1.000000</td>\n",
       "    </tr>\n",
       "  </tbody>\n",
       "</table>\n",
       "</div>"
      ],
      "text/plain": [
       "                 passenger_count  payment_type  total_amount      year\n",
       "passenger_count         1.000000      0.016410      0.014943 -0.049558\n",
       "payment_type            0.016410      1.000000     -0.138561  0.029277\n",
       "total_amount            0.014943     -0.138561      1.000000 -0.019706\n",
       "year                   -0.049558      0.029277     -0.019706  1.000000"
      ]
     },
     "execution_count": 87,
     "metadata": {},
     "output_type": "execute_result"
    }
   ],
   "source": [
    "df_all.corr()"
   ]
  },
  {
   "cell_type": "code",
   "execution_count": 88,
   "id": "507f5e19-259a-4a3d-8bfc-2e299377b1de",
   "metadata": {},
   "outputs": [
    {
     "data": {
      "text/plain": [
       "count   -5510007.00\n",
       "mean          -0.98\n",
       "std           -0.75\n",
       "min           53.20\n",
       "25%           -0.50\n",
       "50%           -0.60\n",
       "75%           -0.75\n",
       "max        -4672.45\n",
       "Name: total_amount, dtype: float64"
      ]
     },
     "execution_count": 88,
     "metadata": {},
     "output_type": "execute_result"
    }
   ],
   "source": [
    "(\n",
    "    df_all.loc[df_all['year'] == 2020, 'total_amount'].describe().round(2) - \n",
    "    df_all.loc[df_all['year'] == 2019, 'total_amount'].describe().round(2)\n",
    ")"
   ]
  },
  {
   "cell_type": "code",
   "execution_count": 91,
   "id": "7c2d2646-e5ed-4ea3-8fd9-c763144ab4eb",
   "metadata": {},
   "outputs": [
    {
     "data": {
      "text/plain": [
       "passenger_count\n",
       "0.0     19506\n",
       "1.0    566009\n",
       "2.0     90900\n",
       "3.0     21778\n",
       "4.0      7810\n",
       "5.0     17107\n",
       "6.0     14447\n",
       "7.0         5\n",
       "8.0         2\n",
       "9.0         1\n",
       "Name: count, dtype: int64"
      ]
     },
     "execution_count": 91,
     "metadata": {},
     "output_type": "execute_result"
    }
   ],
   "source": [
    "df2020['passenger_count'].value_counts().sort_index()"
   ]
  },
  {
   "cell_type": "code",
   "execution_count": 92,
   "id": "70515188-fd26-40d6-8a50-a303a9344029",
   "metadata": {},
   "outputs": [
    {
     "data": {
      "text/plain": [
       "passenger_count\n",
       "0.0     116884\n",
       "1.0    4380890\n",
       "2.0     953756\n",
       "3.0     279181\n",
       "4.0     139710\n",
       "5.0     254262\n",
       "6.0     151710\n",
       "7.0         29\n",
       "8.0         22\n",
       "9.0         16\n",
       "Name: count, dtype: int64"
      ]
     },
     "execution_count": 92,
     "metadata": {},
     "output_type": "execute_result"
    }
   ],
   "source": [
    "df2019['passenger_count'].value_counts().sort_index()"
   ]
  },
  {
   "cell_type": "code",
   "execution_count": 100,
   "id": "6be9fa87-5131-468a-a674-0487eb30c28c",
   "metadata": {},
   "outputs": [],
   "source": [
    "df_2019_jul = pd.read_csv('../data/nyc_taxi_2019-07.csv',\n",
    "    usecols=['passenger_count', 'total_amount', 'payment_type'])\n",
    "# ,\n",
    "#     dtype={'passenger_count':np.int8, 'total_amount':np.float32, 'payment_type':np.float64})"
   ]
  },
  {
   "cell_type": "code",
   "execution_count": 110,
   "id": "a11969de-d869-414b-b17f-35f96486033e",
   "metadata": {},
   "outputs": [
    {
     "data": {
      "text/plain": [
       "6276460   NaN\n",
       "6276461   NaN\n",
       "6276462   NaN\n",
       "6276463   NaN\n",
       "6276464   NaN\n",
       "           ..\n",
       "6310414   NaN\n",
       "6310415   NaN\n",
       "6310416   NaN\n",
       "6310417   NaN\n",
       "6310418   NaN\n",
       "Name: passenger_count, Length: 33959, dtype: float64"
      ]
     },
     "execution_count": 110,
     "metadata": {},
     "output_type": "execute_result"
    }
   ],
   "source": [
    "df_2019_jul.loc[df_2019_jul['passenger_count'].isnull()]['passenger_count']"
   ]
  },
  {
   "cell_type": "code",
   "execution_count": 111,
   "id": "64dd5843-3542-4963-b6b7-fe749e5d244b",
   "metadata": {},
   "outputs": [
    {
     "data": {
      "text/plain": [
       "6276460   NaN\n",
       "6276461   NaN\n",
       "6276462   NaN\n",
       "6276463   NaN\n",
       "6276464   NaN\n",
       "           ..\n",
       "6310414   NaN\n",
       "6310415   NaN\n",
       "6310416   NaN\n",
       "6310417   NaN\n",
       "6310418   NaN\n",
       "Name: payment_type, Length: 33959, dtype: float64"
      ]
     },
     "execution_count": 111,
     "metadata": {},
     "output_type": "execute_result"
    }
   ],
   "source": [
    "df_2019_jul.loc[df_2019_jul['payment_type'].isnull()]['payment_type']"
   ]
  },
  {
   "cell_type": "code",
   "execution_count": 113,
   "id": "a6c9cc4e-155e-4ccd-8a84-593e3629e62e",
   "metadata": {},
   "outputs": [
    {
     "data": {
      "text/plain": [
       "0"
      ]
     },
     "execution_count": 113,
     "metadata": {},
     "output_type": "execute_result"
    }
   ],
   "source": [
    "df_2019_jul.loc[df_2019_jul['total_amount'].isnull()]['total_amount'].count()"
   ]
  },
  {
   "cell_type": "code",
   "execution_count": 102,
   "id": "366a6d18-550f-48d9-be59-dd08fe130124",
   "metadata": {},
   "outputs": [
    {
     "name": "stdout",
     "output_type": "stream",
     "text": [
      "<class 'pandas.core.frame.DataFrame'>\n",
      "RangeIndex: 6310419 entries, 0 to 6310418\n",
      "Data columns (total 3 columns):\n",
      " #   Column           Dtype  \n",
      "---  ------           -----  \n",
      " 0   passenger_count  float64\n",
      " 1   payment_type     float64\n",
      " 2   total_amount     float64\n",
      "dtypes: float64(3)\n",
      "memory usage: 144.4 MB\n"
     ]
    }
   ],
   "source": [
    "df_2019_jul.info()"
   ]
  },
  {
   "cell_type": "code",
   "execution_count": 103,
   "id": "baf7f192-2754-4ef0-9174-a329a917312f",
   "metadata": {},
   "outputs": [
    {
     "data": {
      "text/html": [
       "<div>\n",
       "<style scoped>\n",
       "    .dataframe tbody tr th:only-of-type {\n",
       "        vertical-align: middle;\n",
       "    }\n",
       "\n",
       "    .dataframe tbody tr th {\n",
       "        vertical-align: top;\n",
       "    }\n",
       "\n",
       "    .dataframe thead th {\n",
       "        text-align: right;\n",
       "    }\n",
       "</style>\n",
       "<table border=\"1\" class=\"dataframe\">\n",
       "  <thead>\n",
       "    <tr style=\"text-align: right;\">\n",
       "      <th></th>\n",
       "      <th>passenger_count</th>\n",
       "      <th>payment_type</th>\n",
       "      <th>total_amount</th>\n",
       "    </tr>\n",
       "  </thead>\n",
       "  <tbody>\n",
       "    <tr>\n",
       "      <th>count</th>\n",
       "      <td>6.276460e+06</td>\n",
       "      <td>6.276460e+06</td>\n",
       "      <td>6.310419e+06</td>\n",
       "    </tr>\n",
       "    <tr>\n",
       "      <th>mean</th>\n",
       "      <td>1.572045e+00</td>\n",
       "      <td>1.305580e+00</td>\n",
       "      <td>1.961230e+01</td>\n",
       "    </tr>\n",
       "    <tr>\n",
       "      <th>std</th>\n",
       "      <td>1.214311e+00</td>\n",
       "      <td>4.877842e-01</td>\n",
       "      <td>1.581046e+01</td>\n",
       "    </tr>\n",
       "    <tr>\n",
       "      <th>min</th>\n",
       "      <td>0.000000e+00</td>\n",
       "      <td>1.000000e+00</td>\n",
       "      <td>-4.508000e+02</td>\n",
       "    </tr>\n",
       "    <tr>\n",
       "      <th>25%</th>\n",
       "      <td>1.000000e+00</td>\n",
       "      <td>1.000000e+00</td>\n",
       "      <td>1.130000e+01</td>\n",
       "    </tr>\n",
       "    <tr>\n",
       "      <th>50%</th>\n",
       "      <td>1.000000e+00</td>\n",
       "      <td>1.000000e+00</td>\n",
       "      <td>1.476000e+01</td>\n",
       "    </tr>\n",
       "    <tr>\n",
       "      <th>75%</th>\n",
       "      <td>2.000000e+00</td>\n",
       "      <td>2.000000e+00</td>\n",
       "      <td>2.130000e+01</td>\n",
       "    </tr>\n",
       "    <tr>\n",
       "      <th>max</th>\n",
       "      <td>9.000000e+00</td>\n",
       "      <td>4.000000e+00</td>\n",
       "      <td>6.667450e+03</td>\n",
       "    </tr>\n",
       "  </tbody>\n",
       "</table>\n",
       "</div>"
      ],
      "text/plain": [
       "       passenger_count  payment_type  total_amount\n",
       "count     6.276460e+06  6.276460e+06  6.310419e+06\n",
       "mean      1.572045e+00  1.305580e+00  1.961230e+01\n",
       "std       1.214311e+00  4.877842e-01  1.581046e+01\n",
       "min       0.000000e+00  1.000000e+00 -4.508000e+02\n",
       "25%       1.000000e+00  1.000000e+00  1.130000e+01\n",
       "50%       1.000000e+00  1.000000e+00  1.476000e+01\n",
       "75%       2.000000e+00  2.000000e+00  2.130000e+01\n",
       "max       9.000000e+00  4.000000e+00  6.667450e+03"
      ]
     },
     "execution_count": 103,
     "metadata": {},
     "output_type": "execute_result"
    }
   ],
   "source": [
    "df_2019_jul.describe()"
   ]
  },
  {
   "cell_type": "code",
   "execution_count": null,
   "id": "9d1581fe-c156-44c8-88dd-57bef627cef6",
   "metadata": {},
   "outputs": [],
   "source": []
  }
 ],
 "metadata": {
  "kernelspec": {
   "display_name": "Python [conda env:py311b]",
   "language": "python",
   "name": "conda-env-py311b-py"
  },
  "language_info": {
   "codemirror_mode": {
    "name": "ipython",
    "version": 3
   },
   "file_extension": ".py",
   "mimetype": "text/x-python",
   "name": "python",
   "nbconvert_exporter": "python",
   "pygments_lexer": "ipython3",
   "version": "3.11.13"
  },
  "widgets": {
   "application/vnd.jupyter.widget-state+json": {
    "state": {},
    "version_major": 2,
    "version_minor": 0
   }
  }
 },
 "nbformat": 4,
 "nbformat_minor": 5
}
