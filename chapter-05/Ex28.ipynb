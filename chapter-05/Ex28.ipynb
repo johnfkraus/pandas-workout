{
 "cells": [
  {
   "cell_type": "markdown",
   "id": "3886fb4e-0f38-4d4b-ab2e-4ea8ccf8674e",
   "metadata": {},
   "source": [
    "# Ex 28 - Inconsistent data\n"
   ]
  },
  {
   "cell_type": "code",
   "execution_count": null,
   "id": "b5031554-3ac3-4d8d-bf53-9892d6f130e7",
   "metadata": {},
   "outputs": [],
   "source": []
  }
 ],
 "metadata": {
  "kernelspec": {
   "display_name": "Python [conda env:py311b]",
   "language": "python",
   "name": "conda-env-py311b-py"
  },
  "language_info": {
   "codemirror_mode": {
    "name": "ipython",
    "version": 3
   },
   "file_extension": ".py",
   "mimetype": "text/x-python",
   "name": "python",
   "nbconvert_exporter": "python",
   "pygments_lexer": "ipython3",
   "version": "3.11.13"
  },
  "widgets": {
   "application/vnd.jupyter.widget-state+json": {
    "state": {},
    "version_major": 2,
    "version_minor": 0
   }
  }
 },
 "nbformat": 4,
 "nbformat_minor": 5
}
