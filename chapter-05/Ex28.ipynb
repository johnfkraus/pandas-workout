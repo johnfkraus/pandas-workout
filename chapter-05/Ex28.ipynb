{
 "cells": [
  {
   "cell_type": "markdown",
   "id": "3886fb4e-0f38-4d4b-ab2e-4ea8ccf8674e",
   "metadata": {},
   "source": [
    "# Ex 28 - Inconsistent data\n",
    "pg. 154"
   ]
  },
  {
   "cell_type": "code",
   "execution_count": 2,
   "id": "29548d00-cb07-419c-865c-89f7b0d63255",
   "metadata": {},
   "outputs": [],
   "source": [
    "import pandas as pd"
   ]
  },
  {
   "cell_type": "code",
   "execution_count": 3,
   "id": "b5031554-3ac3-4d8d-bf53-9892d6f130e7",
   "metadata": {},
   "outputs": [],
   "source": [
    "cols = ['Plate ID', 'Registration State', 'Vehicle Make', 'Vehicle Color', 'Street Name']"
   ]
  },
  {
   "cell_type": "code",
   "execution_count": 52,
   "id": "499046a2-f59f-4047-9b99-3863591a1b7f",
   "metadata": {},
   "outputs": [],
   "source": [
    "df = pd.read_csv('../data/nyc-parking-violations-2020.csv', header=0,\n",
    "            usecols=cols)"
   ]
  },
  {
   "cell_type": "code",
   "execution_count": 53,
   "id": "7b729686-5f40-443c-a72f-4b30e564c5f4",
   "metadata": {},
   "outputs": [
    {
     "data": {
      "text/plain": [
       "(1897,)"
      ]
     },
     "execution_count": 53,
     "metadata": {},
     "output_type": "execute_result"
    }
   ],
   "source": [
    "df['Vehicle Color'].unique().shape"
   ]
  },
  {
   "cell_type": "code",
   "execution_count": 54,
   "id": "25141907-ea04-4a4d-a433-40f3d6696d9e",
   "metadata": {},
   "outputs": [
    {
     "data": {
      "text/plain": [
       "Vehicle Color\n",
       "WH       2344858\n",
       "GY       2307704\n",
       "BK       2066374\n",
       "WHITE    1061234\n",
       "BL        775124\n",
       "RD        483298\n",
       "BLACK     465110\n",
       "GREY      306787\n",
       "BROWN     292348\n",
       "SILVE     191477\n",
       "GR        182929\n",
       "BLUE      178298\n",
       "RED       161693\n",
       "TN        120576\n",
       "BR        102204\n",
       "YW         98700\n",
       "BLK        91539\n",
       "OTHER      60245\n",
       "GREEN      58765\n",
       "GL         54851\n",
       "GRY        46527\n",
       "MR         42812\n",
       "GRAY       40854\n",
       "WHT        35433\n",
       "YELLO      32792\n",
       "WHI        29760\n",
       "OR         28100\n",
       "BK.        27830\n",
       "WT         25583\n",
       "WT.        24593\n",
       "Name: count, dtype: int64"
      ]
     },
     "execution_count": 54,
     "metadata": {},
     "output_type": "execute_result"
    }
   ],
   "source": [
    "df['Vehicle Color'].value_counts()[:30]"
   ]
  },
  {
   "cell_type": "code",
   "execution_count": 55,
   "id": "0f77d54d-30b1-4531-8094-734a2449ffae",
   "metadata": {},
   "outputs": [
    {
     "data": {
      "text/plain": [
       "{'WT': 'WHITE',\n",
       " 'WT.': 'WHITE',\n",
       " 'WHI': 'WHITE',\n",
       " 'WH': 'WHITE',\n",
       " 'WHT': 'WHITE',\n",
       " 'WH.': 'WHITE',\n",
       " 'TN': 'TAN',\n",
       " 'BK': 'BLACK',\n",
       " 'BLK': 'BLACK',\n",
       " 'BK.': 'BLACK',\n",
       " 'BLACK': 'BLACK',\n",
       " 'BLK.': 'BLACK',\n",
       " 'GY': 'GREY',\n",
       " 'GY.': 'GREY',\n",
       " 'GRY': 'GREY',\n",
       " 'BRO': 'BROWN',\n",
       " 'GRAY': 'GREY',\n",
       " 'BL': 'BLUE',\n",
       " 'BL.': 'BLUE',\n",
       " 'BLU': 'BLUE',\n",
       " 'SILVE': 'SILVE',\n",
       " 'SIL': 'SILVE',\n",
       " 'SL.': 'SILVE',\n",
       " 'BR': 'BROWN',\n",
       " 'BRN': 'BROWN',\n",
       " 'OR': 'ORANG',\n",
       " 'GR': 'GREEN',\n",
       " 'GRN': 'GREEN',\n",
       " 'YW': 'YELLO',\n",
       " 'YELLO': 'YELLO',\n",
       " 'RD': 'RED',\n",
       " 'RD.': 'RED'}"
      ]
     },
     "execution_count": 55,
     "metadata": {},
     "output_type": "execute_result"
    }
   ],
   "source": [
    "colors = { 'WT': 'WHITE', 'WT.': 'WHITE', 'WHI': 'WHITE', 'WH': 'WHITE', \n",
    "          'WHT':'WHITE', 'WH.':'WHITE', 'TN':'TAN',\n",
    "         'BK':'BLACK', 'BLK':'BLACK', 'BK.': 'BLACK', 'BLACK':'BLACK', 'BLK.':'BLACK', \n",
    "          'GY': 'GREY', \n",
    "          'GY.':'GREY', 'GRY':'GREY', 'BRO':'BROWN',\n",
    "          'GRAY':'GREY', 'BL':'BLUE', 'BL.': 'BLUE', \n",
    "          'BLU':'BLUE', 'SILVE':'SILVE', 'SIL':'SILVE', 'SL.':'SILVE', \n",
    "          'BR': 'BROWN', 'BRN':'BROWN', 'OR':'ORANG', \n",
    "          'GR':'GREEN', 'GRN':'GREEN', 'YW': 'YELLO', 'YELLO':'YELLO', 'BL':'BLUE', 'RD':'RED', 'RD.':'RED'\n",
    "         }\n",
    "colors"
   ]
  },
  {
   "cell_type": "code",
   "execution_count": 56,
   "id": "28f45e93-81d6-465a-b0c1-19311a1c9d09",
   "metadata": {},
   "outputs": [],
   "source": [
    "df['Vehicle Color'] = df['Vehicle Color'].replace(colors)"
   ]
  },
  {
   "cell_type": "code",
   "execution_count": 57,
   "id": "6ff34d88-5747-4665-accd-8100e93ba69e",
   "metadata": {},
   "outputs": [
    {
     "data": {
      "text/plain": [
       "(1868,)"
      ]
     },
     "execution_count": 57,
     "metadata": {},
     "output_type": "execute_result"
    }
   ],
   "source": [
    "df['Vehicle Color'].unique().shape"
   ]
  },
  {
   "cell_type": "code",
   "execution_count": 58,
   "id": "d069ff9d-0346-4b4b-bfae-149e2713ec68",
   "metadata": {},
   "outputs": [
    {
     "data": {
      "text/plain": [
       "Vehicle Color\n",
       "WHITE    3525272\n",
       "GREY     2724332\n",
       "BLACK    2655706\n",
       "BLUE      978311\n",
       "RED       652119\n",
       "BROWN     401936\n",
       "GREEN     246523\n",
       "SILVE     224738\n",
       "TAN       141667\n",
       "YELLO     131492\n",
       "OTHER      60245\n",
       "GL         54851\n",
       "MR         42812\n",
       "ORANG      39606\n",
       "GOLD       21687\n",
       "LTGY       13055\n",
       "SL         10343\n",
       "LTG        10093\n",
       "LT/         8976\n",
       "PR          7518\n",
       "DK/         7498\n",
       "W           7367\n",
       "DKGY        6004\n",
       "GYGY        5039\n",
       "B           4145\n",
       "DKG         3702\n",
       "PURPL       3635\n",
       "BKGY        3504\n",
       "WHBL        3489\n",
       "DKBL        2912\n",
       "Name: count, dtype: int64"
      ]
     },
     "execution_count": 58,
     "metadata": {},
     "output_type": "execute_result"
    }
   ],
   "source": [
    "df['Vehicle Color'].value_counts()[:30]"
   ]
  },
  {
   "cell_type": "markdown",
   "id": "1f8286b9-c4d3-40a2-a2e6-5f58e50af892",
   "metadata": {},
   "source": [
    "## Beyond 1\n",
    "\n",
    "Run value_counts on the Vehicle Make column, and look at some vehicle\n",
    "names. (There are more than 5,200 distinct makes, which almost certainly indi-\n",
    "cates a lot of inconsistency in this data.) What problems do you see? Write a\n",
    "function that, given a value, cleans up the data: putting the name in all caps,\n",
    "removing punctuation, and standardizing whatever names you can. Then use\n",
    "the apply method to fix the column. How many distinct vehicle makes are\n",
    "there when you’re done?"
   ]
  },
  {
   "cell_type": "code",
   "execution_count": 73,
   "id": "1695b368-4a34-46a6-baa7-ebca2723de20",
   "metadata": {},
   "outputs": [
    {
     "data": {
      "text/plain": [
       "5211"
      ]
     },
     "execution_count": 73,
     "metadata": {},
     "output_type": "execute_result"
    }
   ],
   "source": [
    "len(df['Vehicle Make'].unique())\n"
   ]
  },
  {
   "cell_type": "code",
   "execution_count": 74,
   "id": "3b73e288-c2f6-4e13-af18-ac6409869b6d",
   "metadata": {},
   "outputs": [
    {
     "data": {
      "text/plain": [
       "Vehicle Make\n",
       ",IT      1\n",
       "-VL      3\n",
       ".        1\n",
       ".IA      1\n",
       ".SUB     1\n",
       "        ..\n",
       "ZVWIE    2\n",
       "ZYMER    1\n",
       "ZYNTE    2\n",
       "ZYWIE    5\n",
       "ken      1\n",
       "Name: count, Length: 5210, dtype: int64"
      ]
     },
     "execution_count": 74,
     "metadata": {},
     "output_type": "execute_result"
    }
   ],
   "source": [
    "df['Vehicle Make'].value_counts().sort_index()"
   ]
  },
  {
   "cell_type": "code",
   "execution_count": 75,
   "id": "158e3f9b-4431-4ff2-815d-6fbdfe3874f8",
   "metadata": {},
   "outputs": [],
   "source": [
    "# I could have used regular expressions, but decided to make it a bit easier to follow\n",
    "\n",
    "import string\n",
    "\n",
    "def clean_name(one_string):\n",
    "\n",
    "    if not isinstance(one_string, str):\n",
    "        return one_string\n",
    "\n",
    "    output = ''\n",
    "    \n",
    "    for one_character in one_string.strip().upper():\n",
    "        if one_character in string.ascii_uppercase:\n",
    "            output += one_character\n",
    "\n",
    "    return output\n"
   ]
  },
  {
   "cell_type": "code",
   "execution_count": 76,
   "id": "e91a8f5f-d12c-4dee-be2c-948828d4367c",
   "metadata": {},
   "outputs": [
    {
     "name": "stdout",
     "output_type": "stream",
     "text": [
      "5210\n",
      "4915\n"
     ]
    }
   ],
   "source": [
    "print(len(df['Vehicle Make'].value_counts()))\n",
    "df['Vehicle Make'] = df['Vehicle Make'].apply(clean_name)\n",
    "print(len(df['Vehicle Make'].value_counts()))"
   ]
  },
  {
   "cell_type": "markdown",
   "id": "47df4b94-d247-44ce-8547-3132f82215b0",
   "metadata": {},
   "source": [
    "How standardized are the street names in the data set? What changes could you\n",
    "apply to improve things?"
   ]
  },
  {
   "cell_type": "code",
   "execution_count": null,
   "id": "c201acd7-efbd-4bac-bf34-9c9b4d859dd9",
   "metadata": {},
   "outputs": [],
   "source": [
    "s = df['Street Name'].dropna()"
   ]
  },
  {
   "cell_type": "code",
   "execution_count": 84,
   "id": "670a2dfb-4f1c-4669-adf8-e072801c73b7",
   "metadata": {},
   "outputs": [
    {
     "data": {
      "text/plain": [
       "Street Name\n",
       "W 110th St              2970\n",
       "110th St                2388\n",
       "E 110th St              2048\n",
       "WB 110TH AVE/BRINKER     922\n",
       "110th Ave                704\n",
       "110 ST                    94\n",
       "110th Rd                  93\n",
       "W 110 ST                  87\n",
       "E 110 ST                  71\n",
       "SB 110TH ST @ 67TH D      65\n",
       "Beach 110th St            43\n",
       "110 STREET                36\n",
       "EAST 110 STREET           36\n",
       "110 AVE                   33\n",
       "E 110 STREET              23\n",
       "W 110TH ST                14\n",
       "110 AVENUE                13\n",
       "EAST 110 ST               11\n",
       "E 110TH ST                10\n",
       "WEST 110 ST                9\n",
       "W 110 STREET               5\n",
       "110TH ST                   5\n",
       "S/S E 110 ST               4\n",
       "110TH AVE                  4\n",
       "E 110                      4\n",
       "S/E/C 110 STREET           4\n",
       "110TH STREET               3\n",
       "C/O 110 AVE                3\n",
       "S/S/O 110 ST               3\n",
       "110TH AVENUE               3\n",
       "E 110TH STREET             3\n",
       "N/E/C 110 STREET           3\n",
       "BEACH 110 ST               3\n",
       "WEST 110 STREET            2\n",
       "S/S 110 ST                 2\n",
       "R/O 1110 STADIUM AVE       2\n",
       "W/S 110 ST                 2\n",
       "110                        2\n",
       "N/S E 110 ST               2\n",
       "W 110TH STREET             2\n",
       "Name: count, dtype: int64"
      ]
     },
     "execution_count": 84,
     "metadata": {},
     "output_type": "execute_result"
    }
   ],
   "source": [
    "s[s.str.contains('110')].value_counts()[:40]"
   ]
  },
  {
   "cell_type": "code",
   "execution_count": 79,
   "id": "859b2675-c957-4a79-bfd5-ab8dd52f60eb",
   "metadata": {},
   "outputs": [
    {
     "data": {
      "text/plain": [
       "Street Name\n",
       "Broadway                180225\n",
       "3rd Ave                 133003\n",
       "5th Ave                  78211\n",
       "2nd Ave                  75533\n",
       "Madison Ave              75419\n",
       "Lexington Ave            62859\n",
       "1st Ave                  58491\n",
       "Queens Blvd              58423\n",
       "8th Ave                  54641\n",
       "WB ATLANTIC AVE @ CL     54298\n",
       "WB SEAGIRT BLVD @ CR     53142\n",
       "7th Ave                  51583\n",
       "6th Ave                  50750\n",
       "EB HORACE HARDING EX     50263\n",
       "Amsterdam Ave            46657\n",
       "EB CONDUIT BLVD @ GL     46185\n",
       "SB MAIN ST @ 82ND DR     45274\n",
       "NB SPRINGFIELD BLVD      44446\n",
       "Jamaica Ave              42859\n",
       "EB E 233RD ST @ KATO     42727\n",
       "37th Ave                 39865\n",
       "Park Ave                 36140\n",
       "WB ATLANTIC AVE @ SH     34989\n",
       "Roosevelt Ave            34702\n",
       "WB GOETHALS RD N @ J     34210\n",
       "WB LINDEN BLVD @ LIN     34187\n",
       "SB FRANCIS LEWIS BLV     34026\n",
       "Fulton St                33491\n",
       "EB HILLSIDE AVE @ 25     33382\n",
       "Columbus Ave             32971\n",
       "SB WEST ST @ LEROY S     32225\n",
       "White Plains Rd          31940\n",
       "WB HEMPSTEAD AVE @ 9     28145\n",
       "WB QUEENS BLVD @ 62N     27895\n",
       "St Nicholas Ave          27889\n",
       "9th Ave                  27822\n",
       "Main St                  27762\n",
       "Coney Island Ave         27735\n",
       "EB E TREMONT AVE @ B     27461\n",
       "SB HOWARD AVE @ E NE     27183\n",
       "Name: count, dtype: int64"
      ]
     },
     "execution_count": 79,
     "metadata": {},
     "output_type": "execute_result"
    }
   ],
   "source": [
    "df['Street Name'].value_counts()[:40]"
   ]
  },
  {
   "cell_type": "code",
   "execution_count": 85,
   "id": "10dd0007-5e90-40f0-8ae3-e7fa5ae86dea",
   "metadata": {},
   "outputs": [
    {
     "data": {
      "text/plain": [
       "Street Name\n",
       "SB BROADWAY @ 252ND     21939\n",
       "NB BROADWAY @ W 228T    13367\n",
       "BROADWAY                10771\n",
       "SB BROADWAY @ W 196T     6623\n",
       "NB BROADWAY @ W 120T     5691\n",
       "                        ...  \n",
       "S/B BWAY                    1\n",
       "BROADWAY PL                 1\n",
       "S/S BWAY                    1\n",
       "S/O 1350 BROADWAY           1\n",
       "N/E 220 BROADWAY            1\n",
       "Name: count, Length: 181, dtype: int64"
      ]
     },
     "execution_count": 85,
     "metadata": {},
     "output_type": "execute_result"
    }
   ],
   "source": [
    "s[s.str.contains('BWAY') | s.str.contains('BROADWAY')].value_counts()"
   ]
  },
  {
   "cell_type": "code",
   "execution_count": 92,
   "id": "88c7dd06-68f0-4c61-ac15-6f60afc84c65",
   "metadata": {},
   "outputs": [
    {
     "data": {
      "text/plain": [
       "Registration State\n",
       "NY    9753643\n",
       "NJ    1096110\n",
       "PA     338779\n",
       "FL     174056\n",
       "CT     165205\n",
       "IN     138824\n",
       "MA      83726\n",
       "VA      78272\n",
       "NC      63687\n",
       "MD      59940\n",
       "TX      54600\n",
       "GA      43497\n",
       "ME      37158\n",
       "IL      32855\n",
       "OH      27309\n",
       "SC      26997\n",
       "AZ      26034\n",
       "99      24654\n",
       "CA      23897\n",
       "MN      23432\n",
       "GV      21283\n",
       "TN      20535\n",
       "OK      17213\n",
       "DE      15673\n",
       "MI      15170\n",
       "OR      14535\n",
       "WI      12776\n",
       "RI      11239\n",
       "AL      10727\n",
       "WA       9137\n",
       "NH       8944\n",
       "VT       8097\n",
       "ON       5548\n",
       "MO       5439\n",
       "LA       4441\n",
       "CO       4298\n",
       "KY       4285\n",
       "QB       3551\n",
       "DC       3448\n",
       "WV       3032\n",
       "DP       2904\n",
       "MS       2587\n",
       "IA       2277\n",
       "SD       2202\n",
       "AR       1912\n",
       "NV       1700\n",
       "KS       1382\n",
       "UT       1368\n",
       "ID       1328\n",
       "NE       1286\n",
       "NM       1248\n",
       "MT       1097\n",
       "Name: count, dtype: int64"
      ]
     },
     "execution_count": 92,
     "metadata": {},
     "output_type": "execute_result"
    }
   ],
   "source": [
    "df['Registration State'].value_counts()[0:52]"
   ]
  },
  {
   "cell_type": "code",
   "execution_count": null,
   "id": "9c100528-6c66-43f5-b9c9-cdfa22fa313e",
   "metadata": {},
   "outputs": [],
   "source": []
  }
 ],
 "metadata": {
  "kernelspec": {
   "display_name": "Python [conda env:py311b]",
   "language": "python",
   "name": "conda-env-py311b-py"
  },
  "language_info": {
   "codemirror_mode": {
    "name": "ipython",
    "version": 3
   },
   "file_extension": ".py",
   "mimetype": "text/x-python",
   "name": "python",
   "nbconvert_exporter": "python",
   "pygments_lexer": "ipython3",
   "version": "3.11.13"
  },
  "widgets": {
   "application/vnd.jupyter.widget-state+json": {
    "state": {},
    "version_major": 2,
    "version_minor": 0
   }
  }
 },
 "nbformat": 4,
 "nbformat_minor": 5
}
