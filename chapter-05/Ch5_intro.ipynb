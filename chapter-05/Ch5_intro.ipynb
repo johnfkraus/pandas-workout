{
 "cells": [
  {
   "cell_type": "markdown",
   "id": "2742adf3-2cee-46d1-8feb-304bc2ac632d",
   "metadata": {},
   "source": [
    "# Ch. 25 Intro - Cleaning Data\n",
    "\n",
    "Counting NaN values"
   ]
  },
  {
   "cell_type": "code",
   "execution_count": 3,
   "id": "431bdbe4-2b78-4362-969c-4b93d027f5ae",
   "metadata": {},
   "outputs": [],
   "source": [
    "import pandas as pd"
   ]
  },
  {
   "cell_type": "code",
   "execution_count": 4,
   "id": "9a571cc4-b119-4525-9097-74ae5e7b0efe",
   "metadata": {},
   "outputs": [],
   "source": [
    "cols = ['Plate ID', 'Registration State', 'Vehicle Make', \n",
    "        'Vehicle Color', 'Violation Time', 'Street Name']\n",
    "df = pd.read_csv('../data/nyc-parking-violations-2020.csv', \n",
    "            usecols=cols, header=0)"
   ]
  },
  {
   "cell_type": "code",
   "execution_count": 17,
   "id": "a80c44e8-6439-412a-8e2e-673aab3d2087",
   "metadata": {},
   "outputs": [
    {
     "name": "stdout",
     "output_type": "stream",
     "text": [
      "Missing in Plate ID: \t\t202, df[col].shape[0]=12495734\n",
      "Missing in Registration State: \t\t0, df[col].shape[0]=12495734\n",
      "Missing in Vehicle Make: \t\t62420, df[col].shape[0]=12495734\n",
      "Missing in Vehicle Color: \t\t391982, df[col].shape[0]=12495734\n",
      "Missing in Violation Time: \t\t278, df[col].shape[0]=12495734\n",
      "Missing in Street Name: \t\t1417, df[col].shape[0]=12495734\n"
     ]
    }
   ],
   "source": [
    "for col in cols:\n",
    "    missing_count = df[col].shape[0] - df[col].count()\n",
    "    print(f\"Missing in {col}: \\t\\t{missing_count}, {df[col].shape[0]=}\")"
   ]
  },
  {
   "cell_type": "code",
   "execution_count": 19,
   "id": "cc705d97-7eac-4423-ac04-a215c4c7f90e",
   "metadata": {},
   "outputs": [
    {
     "name": "stdout",
     "output_type": "stream",
     "text": [
      "Missing in Plate ID: \t\tdf[col].isnull().sum()=202\n",
      "Missing in Registration State: \t\tdf[col].isnull().sum()=0\n",
      "Missing in Vehicle Make: \t\tdf[col].isnull().sum()=62420\n",
      "Missing in Vehicle Color: \t\tdf[col].isnull().sum()=391982\n",
      "Missing in Violation Time: \t\tdf[col].isnull().sum()=278\n",
      "Missing in Street Name: \t\tdf[col].isnull().sum()=1417\n"
     ]
    }
   ],
   "source": [
    "for col in cols:\n",
    "    print(f\"Missing in {col}: \\t\\t{df[col].isnull().sum()=}\")"
   ]
  },
  {
   "cell_type": "code",
   "execution_count": 8,
   "id": "870c1fba-43d1-4d96-91b8-92734f1c59a0",
   "metadata": {},
   "outputs": [
    {
     "data": {
      "text/plain": [
       "Plate ID                 202\n",
       "Registration State         0\n",
       "Vehicle Make           62420\n",
       "Violation Time           278\n",
       "Street Name             1417\n",
       "Vehicle Color         391982\n",
       "dtype: int64"
      ]
     },
     "execution_count": 8,
     "metadata": {},
     "output_type": "execute_result"
    }
   ],
   "source": [
    "df.isnull().sum()"
   ]
  },
  {
   "cell_type": "code",
   "execution_count": 20,
   "id": "935c773e-abf5-4849-b790-c96026327269",
   "metadata": {},
   "outputs": [
    {
     "data": {
      "text/plain": [
       "Plate ID                 202\n",
       "Registration State         0\n",
       "Vehicle Make           62420\n",
       "Violation Time           278\n",
       "Street Name             1417\n",
       "Vehicle Color         391982\n",
       "dtype: int64"
      ]
     },
     "execution_count": 20,
     "metadata": {},
     "output_type": "execute_result"
    }
   ],
   "source": [
    "df.isna().sum()"
   ]
  },
  {
   "cell_type": "code",
   "execution_count": 6,
   "id": "91d23225-958d-42df-af00-c95180465025",
   "metadata": {},
   "outputs": [
    {
     "name": "stdout",
     "output_type": "stream",
     "text": [
      "<class 'pandas.core.frame.DataFrame'>\n",
      "RangeIndex: 12495734 entries, 0 to 12495733\n",
      "Data columns (total 6 columns):\n",
      " #   Column              Non-Null Count     Dtype \n",
      "---  ------              --------------     ----- \n",
      " 0   Plate ID            12495532 non-null  object\n",
      " 1   Registration State  12495734 non-null  object\n",
      " 2   Vehicle Make        12433314 non-null  object\n",
      " 3   Violation Time      12495456 non-null  object\n",
      " 4   Street Name         12494317 non-null  object\n",
      " 5   Vehicle Color       12103752 non-null  object\n",
      "dtypes: object(6)\n",
      "memory usage: 572.0+ MB\n"
     ]
    }
   ],
   "source": [
    "df.info(show_counts=True)"
   ]
  },
  {
   "cell_type": "code",
   "execution_count": null,
   "id": "fbd51521-b017-4420-8729-20ca650cd322",
   "metadata": {},
   "outputs": [],
   "source": []
  }
 ],
 "metadata": {
  "kernelspec": {
   "display_name": "Python [conda env:py311b]",
   "language": "python",
   "name": "conda-env-py311b-py"
  },
  "language_info": {
   "codemirror_mode": {
    "name": "ipython",
    "version": 3
   },
   "file_extension": ".py",
   "mimetype": "text/x-python",
   "name": "python",
   "nbconvert_exporter": "python",
   "pygments_lexer": "ipython3",
   "version": "3.11.13"
  },
  "widgets": {
   "application/vnd.jupyter.widget-state+json": {
    "state": {},
    "version_major": 2,
    "version_minor": 0
   }
  }
 },
 "nbformat": 4,
 "nbformat_minor": 5
}
