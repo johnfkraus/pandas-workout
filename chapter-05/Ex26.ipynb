{
 "cells": [
  {
   "cell_type": "markdown",
   "id": "ad584c7e-2732-4820-ba00-ff99d2b10f0a",
   "metadata": {},
   "source": [
    "# Exercise 26 - Celebrity Deaths"
   ]
  },
  {
   "cell_type": "markdown",
   "id": "116bc38d-c7f5-4220-a2a0-f21bd4fa769c",
   "metadata": {},
   "source": [
    "## Sidebar: Combining and Splitting Columns\n",
    "\n",
    "Remember that Python slices are always of the form [start:end+1]. So if we want the characters at index 3 and index 4, we ask for 3:5, which means “starting at 3, up to and not including 5.”"
   ]
  },
  {
   "cell_type": "code",
   "execution_count": 34,
   "id": "92367a79-0ebc-435c-ae29-b92488c6f154",
   "metadata": {},
   "outputs": [
    {
     "name": "stdout",
     "output_type": "stream",
     "text": [
      "11\n"
     ]
    }
   ],
   "source": [
    "s = '00:11:22'\n",
    "print(s[3:5]) # prints '11'"
   ]
  },
  {
   "cell_type": "markdown",
   "id": "52af122c-29c0-42e9-af8b-bf16259b9a28",
   "metadata": {},
   "source": [
    "### find the average age of celebrities who died February–July 2016. (page 144)"
   ]
  },
  {
   "cell_type": "code",
   "execution_count": 35,
   "id": "2a74eacc-ac71-4cdb-9303-52d95af32a4f",
   "metadata": {},
   "outputs": [
    {
     "name": "stdout",
     "output_type": "stream",
     "text": [
      "2016-12-27,Balasaheb Vikhe Patil,84,Indian politician.,,,unced on this date),euthanized,,20052010).\",,,).\",,,,stcards from the Edge) and mental health advocate.\",complications from a heart attack,,,,,of Appeals for the D.C. Circuit (19791994).\",complications from bladder cancer,,"
     ]
    }
   ],
   "source": [
    "!head ../data/celebrity_deaths_2016.csv\n"
   ]
  },
  {
   "cell_type": "code",
   "execution_count": 36,
   "id": "bdcbea13-b0f8-4191-b9fc-454775a196db",
   "metadata": {},
   "outputs": [
    {
     "name": "stdout",
     "output_type": "stream",
     "text": [
      "       0   48468  537921 ../data/celebrity_deaths_2016.csv\n"
     ]
    }
   ],
   "source": [
    "!wc ../data/celebrity_deaths_2016.csv\n"
   ]
  },
  {
   "cell_type": "code",
   "execution_count": 101,
   "id": "1869c23e-a1c8-48d6-9b7e-11c341ebc846",
   "metadata": {},
   "outputs": [],
   "source": [
    "import pandas as pd\n",
    "import numpy as np"
   ]
  },
  {
   "cell_type": "code",
   "execution_count": 38,
   "id": "bc6dcbb1-bfd0-459f-a8dc-c874d3be6f97",
   "metadata": {},
   "outputs": [],
   "source": [
    "df = pd.read_csv('../data/celebrity_deaths_2016.csv', header=0, usecols=['dateofdeath', 'age'])"
   ]
  },
  {
   "cell_type": "code",
   "execution_count": 39,
   "id": "2e3f9758-5bf4-4348-890b-e7cd0d1e0ed4",
   "metadata": {},
   "outputs": [],
   "source": [
    "df['month'] = df['dateofdeath'].str.slice(5,7)"
   ]
  },
  {
   "cell_type": "code",
   "execution_count": 40,
   "id": "9ebe492d-3a04-483a-b5f9-11decbed9161",
   "metadata": {},
   "outputs": [
    {
     "data": {
      "text/html": [
       "<div>\n",
       "<style scoped>\n",
       "    .dataframe tbody tr th:only-of-type {\n",
       "        vertical-align: middle;\n",
       "    }\n",
       "\n",
       "    .dataframe tbody tr th {\n",
       "        vertical-align: top;\n",
       "    }\n",
       "\n",
       "    .dataframe thead th {\n",
       "        text-align: right;\n",
       "    }\n",
       "</style>\n",
       "<table border=\"1\" class=\"dataframe\">\n",
       "  <thead>\n",
       "    <tr style=\"text-align: right;\">\n",
       "      <th></th>\n",
       "      <th>dateofdeath</th>\n",
       "      <th>age</th>\n",
       "      <th>month</th>\n",
       "    </tr>\n",
       "  </thead>\n",
       "  <tbody>\n",
       "    <tr>\n",
       "      <th>0</th>\n",
       "      <td>2016-01-01</td>\n",
       "      <td>71</td>\n",
       "      <td>01</td>\n",
       "    </tr>\n",
       "    <tr>\n",
       "      <th>1</th>\n",
       "      <td>2016-01-01</td>\n",
       "      <td>74</td>\n",
       "      <td>01</td>\n",
       "    </tr>\n",
       "    <tr>\n",
       "      <th>2</th>\n",
       "      <td>2016-01-01</td>\n",
       "      <td>79</td>\n",
       "      <td>01</td>\n",
       "    </tr>\n",
       "    <tr>\n",
       "      <th>3</th>\n",
       "      <td>2016-01-01</td>\n",
       "      <td>45</td>\n",
       "      <td>01</td>\n",
       "    </tr>\n",
       "    <tr>\n",
       "      <th>4</th>\n",
       "      <td>2016-01-01</td>\n",
       "      <td>83</td>\n",
       "      <td>01</td>\n",
       "    </tr>\n",
       "  </tbody>\n",
       "</table>\n",
       "</div>"
      ],
      "text/plain": [
       "  dateofdeath age month\n",
       "0  2016-01-01  71    01\n",
       "1  2016-01-01  74    01\n",
       "2  2016-01-01  79    01\n",
       "3  2016-01-01  45    01\n",
       "4  2016-01-01  83    01"
      ]
     },
     "execution_count": 40,
     "metadata": {},
     "output_type": "execute_result"
    }
   ],
   "source": [
    "df.head()"
   ]
  },
  {
   "cell_type": "code",
   "execution_count": 41,
   "id": "9cfa7685-778f-4065-82bd-efcbfb743fed",
   "metadata": {},
   "outputs": [
    {
     "data": {
      "text/plain": [
       "dateofdeath     0\n",
       "age            27\n",
       "month           0\n",
       "dtype: int64"
      ]
     },
     "execution_count": 41,
     "metadata": {},
     "output_type": "execute_result"
    }
   ],
   "source": [
    "df.isnull().sum()"
   ]
  },
  {
   "cell_type": "code",
   "execution_count": 42,
   "id": "e6cd68f0-7b2d-421e-a3de-dcd4a7f92c85",
   "metadata": {},
   "outputs": [],
   "source": [
    "df = df.set_index('month')"
   ]
  },
  {
   "cell_type": "code",
   "execution_count": 43,
   "id": "38b8fdfe-aa97-4b51-945c-65226aa66e65",
   "metadata": {},
   "outputs": [],
   "source": [
    "df = df.sort_index()"
   ]
  },
  {
   "cell_type": "code",
   "execution_count": 45,
   "id": "4fcc5e6a-3629-4de2-a046-6e37f65f12e3",
   "metadata": {},
   "outputs": [
    {
     "data": {
      "text/html": [
       "<div>\n",
       "<style scoped>\n",
       "    .dataframe tbody tr th:only-of-type {\n",
       "        vertical-align: middle;\n",
       "    }\n",
       "\n",
       "    .dataframe tbody tr th {\n",
       "        vertical-align: top;\n",
       "    }\n",
       "\n",
       "    .dataframe thead th {\n",
       "        text-align: right;\n",
       "    }\n",
       "</style>\n",
       "<table border=\"1\" class=\"dataframe\">\n",
       "  <thead>\n",
       "    <tr style=\"text-align: right;\">\n",
       "      <th></th>\n",
       "      <th>dateofdeath</th>\n",
       "      <th>age</th>\n",
       "    </tr>\n",
       "    <tr>\n",
       "      <th>month</th>\n",
       "      <th></th>\n",
       "      <th></th>\n",
       "    </tr>\n",
       "  </thead>\n",
       "  <tbody>\n",
       "    <tr>\n",
       "      <th>01</th>\n",
       "      <td>2016-01-01</td>\n",
       "      <td>71</td>\n",
       "    </tr>\n",
       "    <tr>\n",
       "      <th>01</th>\n",
       "      <td>2016-01-21</td>\n",
       "      <td>47</td>\n",
       "    </tr>\n",
       "    <tr>\n",
       "      <th>01</th>\n",
       "      <td>2016-01-21</td>\n",
       "      <td>87</td>\n",
       "    </tr>\n",
       "    <tr>\n",
       "      <th>01</th>\n",
       "      <td>2016-01-21</td>\n",
       "      <td>90</td>\n",
       "    </tr>\n",
       "    <tr>\n",
       "      <th>01</th>\n",
       "      <td>2016-01-21</td>\n",
       "      <td>73</td>\n",
       "    </tr>\n",
       "  </tbody>\n",
       "</table>\n",
       "</div>"
      ],
      "text/plain": [
       "      dateofdeath age\n",
       "month                \n",
       "01     2016-01-01  71\n",
       "01     2016-01-21  47\n",
       "01     2016-01-21  87\n",
       "01     2016-01-21  90\n",
       "01     2016-01-21  73"
      ]
     },
     "execution_count": 45,
     "metadata": {},
     "output_type": "execute_result"
    }
   ],
   "source": [
    "df.head()"
   ]
  },
  {
   "cell_type": "code",
   "execution_count": 46,
   "id": "e9197cb0-7e82-4154-a744-233ddb9c4445",
   "metadata": {},
   "outputs": [],
   "source": [
    "df = df.dropna(subset='age')"
   ]
  },
  {
   "cell_type": "code",
   "execution_count": 47,
   "id": "4d06b13e-1f64-4b3a-8ce7-d2bcb3afeb90",
   "metadata": {},
   "outputs": [
    {
     "data": {
      "text/plain": [
       "35"
      ]
     },
     "execution_count": 47,
     "metadata": {},
     "output_type": "execute_result"
    }
   ],
   "source": [
    "df['age'].count() - df['age'].str.isdigit().sum()"
   ]
  },
  {
   "cell_type": "code",
   "execution_count": 49,
   "id": "263d761e-2906-4b5a-b196-a0b42a1adaae",
   "metadata": {},
   "outputs": [
    {
     "data": {
      "text/html": [
       "<div>\n",
       "<style scoped>\n",
       "    .dataframe tbody tr th:only-of-type {\n",
       "        vertical-align: middle;\n",
       "    }\n",
       "\n",
       "    .dataframe tbody tr th {\n",
       "        vertical-align: top;\n",
       "    }\n",
       "\n",
       "    .dataframe thead th {\n",
       "        text-align: right;\n",
       "    }\n",
       "</style>\n",
       "<table border=\"1\" class=\"dataframe\">\n",
       "  <thead>\n",
       "    <tr style=\"text-align: right;\">\n",
       "      <th></th>\n",
       "      <th>dateofdeath</th>\n",
       "      <th>age</th>\n",
       "    </tr>\n",
       "    <tr>\n",
       "      <th>month</th>\n",
       "      <th></th>\n",
       "      <th></th>\n",
       "    </tr>\n",
       "  </thead>\n",
       "  <tbody>\n",
       "    <tr>\n",
       "      <th>01</th>\n",
       "      <td>2016-01-07</td>\n",
       "      <td>8889</td>\n",
       "    </tr>\n",
       "    <tr>\n",
       "      <th>02</th>\n",
       "      <td>2016-02-20</td>\n",
       "      <td>6869</td>\n",
       "    </tr>\n",
       "    <tr>\n",
       "      <th>02</th>\n",
       "      <td>2016-02-29</td>\n",
       "      <td>3031</td>\n",
       "    </tr>\n",
       "    <tr>\n",
       "      <th>02</th>\n",
       "      <td>2016-02-15</td>\n",
       "      <td>5253</td>\n",
       "    </tr>\n",
       "    <tr>\n",
       "      <th>02</th>\n",
       "      <td>2016-02-08</td>\n",
       "      <td>4445</td>\n",
       "    </tr>\n",
       "  </tbody>\n",
       "</table>\n",
       "</div>"
      ],
      "text/plain": [
       "      dateofdeath    age\n",
       "month                   \n",
       "01     2016-01-07   8889\n",
       "02     2016-02-20   6869\n",
       "02     2016-02-29   3031\n",
       "02     2016-02-15   5253\n",
       "02     2016-02-08   4445"
      ]
     },
     "execution_count": 49,
     "metadata": {},
     "output_type": "execute_result"
    }
   ],
   "source": [
    "df.loc[df['age'].str.isdigit() == False].head()"
   ]
  },
  {
   "cell_type": "code",
   "execution_count": 50,
   "id": "8f347af9-6d9f-40ad-a6d2-ee1695dd0534",
   "metadata": {},
   "outputs": [],
   "source": [
    "s = pd.to_numeric(df['age'], errors='coerce')"
   ]
  },
  {
   "cell_type": "code",
   "execution_count": 51,
   "id": "d43df062-3a08-4f43-87e3-dbd1367146f1",
   "metadata": {},
   "outputs": [
    {
     "name": "stderr",
     "output_type": "stream",
     "text": [
      "/var/folders/mm/h2z28vhs6cdbnsksl2fzl19w0000gn/T/ipykernel_25050/1702247557.py:1: SettingWithCopyWarning: \n",
      "A value is trying to be set on a copy of a slice from a DataFrame.\n",
      "Try using .loc[row_indexer,col_indexer] = value instead\n",
      "\n",
      "See the caveats in the documentation: https://pandas.pydata.org/pandas-docs/stable/user_guide/indexing.html#returning-a-view-versus-a-copy\n",
      "  df['age'] = s\n"
     ]
    }
   ],
   "source": [
    "df['age'] = s"
   ]
  },
  {
   "cell_type": "code",
   "execution_count": 52,
   "id": "e3d8c221-62ed-4810-90ba-70e96c841e23",
   "metadata": {},
   "outputs": [
    {
     "data": {
      "text/plain": [
       "count    6505.000000\n",
       "mean      100.960338\n",
       "std       413.994127\n",
       "min         7.000000\n",
       "25%        69.000000\n",
       "50%        81.000000\n",
       "75%        89.000000\n",
       "max      9394.000000\n",
       "Name: age, dtype: float64"
      ]
     },
     "execution_count": 52,
     "metadata": {},
     "output_type": "execute_result"
    }
   ],
   "source": [
    "df['age'].describe()"
   ]
  },
  {
   "cell_type": "code",
   "execution_count": 53,
   "id": "30f517b7-4cbb-4d01-b34c-93029cacf1ad",
   "metadata": {},
   "outputs": [],
   "source": [
    "df = df.loc[df['age'] < 120]"
   ]
  },
  {
   "cell_type": "code",
   "execution_count": 54,
   "id": "7cf9444a-1f92-441e-b012-9717e9bcbc31",
   "metadata": {},
   "outputs": [
    {
     "data": {
      "text/plain": [
       "count    6481.000000\n",
       "mean       77.019287\n",
       "std        16.428815\n",
       "min         7.000000\n",
       "25%        69.000000\n",
       "50%        81.000000\n",
       "75%        89.000000\n",
       "max       116.000000\n",
       "Name: age, dtype: float64"
      ]
     },
     "execution_count": 54,
     "metadata": {},
     "output_type": "execute_result"
    }
   ],
   "source": [
    "df['age'].describe()"
   ]
  },
  {
   "cell_type": "code",
   "execution_count": 55,
   "id": "0ed35019-0d76-471d-b941-fd32490d930e",
   "metadata": {},
   "outputs": [
    {
     "data": {
      "text/plain": [
       "77.17887409200968"
      ]
     },
     "execution_count": 55,
     "metadata": {},
     "output_type": "execute_result"
    }
   ],
   "source": [
    "df.loc['02':'07', 'age'].mean()"
   ]
  },
  {
   "cell_type": "markdown",
   "id": "b6928703-1672-430a-a23f-0792a91a18c7",
   "metadata": {},
   "source": [
    "### Add a new column, day, from the day of the month in which the celebrity died.  Then create a multi-index (from month and day). What was the average age of death from Feb. 15 through July 15?"
   ]
  },
  {
   "cell_type": "code",
   "execution_count": 119,
   "id": "9e9f3c4d-4a55-40cd-8101-73ec96505013",
   "metadata": {},
   "outputs": [],
   "source": [
    "df = pd.read_csv('../data/celebrity_deaths_2016.csv', header=0, usecols=['dateofdeath', 'age'])\n",
    "df['month'] = df['dateofdeath'].str.slice(5,7)\n",
    "df['day'] = df['dateofdeath'].str.slice(8,None)"
   ]
  },
  {
   "cell_type": "code",
   "execution_count": 120,
   "id": "36de5f01-f029-4d0f-9d0b-813bbd51197d",
   "metadata": {},
   "outputs": [
    {
     "data": {
      "text/html": [
       "<div>\n",
       "<style scoped>\n",
       "    .dataframe tbody tr th:only-of-type {\n",
       "        vertical-align: middle;\n",
       "    }\n",
       "\n",
       "    .dataframe tbody tr th {\n",
       "        vertical-align: top;\n",
       "    }\n",
       "\n",
       "    .dataframe thead th {\n",
       "        text-align: right;\n",
       "    }\n",
       "</style>\n",
       "<table border=\"1\" class=\"dataframe\">\n",
       "  <thead>\n",
       "    <tr style=\"text-align: right;\">\n",
       "      <th></th>\n",
       "      <th>dateofdeath</th>\n",
       "      <th>age</th>\n",
       "      <th>month</th>\n",
       "      <th>day</th>\n",
       "    </tr>\n",
       "  </thead>\n",
       "  <tbody>\n",
       "    <tr>\n",
       "      <th>0</th>\n",
       "      <td>2016-01-01</td>\n",
       "      <td>71</td>\n",
       "      <td>01</td>\n",
       "      <td>01</td>\n",
       "    </tr>\n",
       "    <tr>\n",
       "      <th>1</th>\n",
       "      <td>2016-01-01</td>\n",
       "      <td>74</td>\n",
       "      <td>01</td>\n",
       "      <td>01</td>\n",
       "    </tr>\n",
       "    <tr>\n",
       "      <th>2</th>\n",
       "      <td>2016-01-01</td>\n",
       "      <td>79</td>\n",
       "      <td>01</td>\n",
       "      <td>01</td>\n",
       "    </tr>\n",
       "    <tr>\n",
       "      <th>3</th>\n",
       "      <td>2016-01-01</td>\n",
       "      <td>45</td>\n",
       "      <td>01</td>\n",
       "      <td>01</td>\n",
       "    </tr>\n",
       "    <tr>\n",
       "      <th>4</th>\n",
       "      <td>2016-01-01</td>\n",
       "      <td>83</td>\n",
       "      <td>01</td>\n",
       "      <td>01</td>\n",
       "    </tr>\n",
       "  </tbody>\n",
       "</table>\n",
       "</div>"
      ],
      "text/plain": [
       "  dateofdeath age month day\n",
       "0  2016-01-01  71    01  01\n",
       "1  2016-01-01  74    01  01\n",
       "2  2016-01-01  79    01  01\n",
       "3  2016-01-01  45    01  01\n",
       "4  2016-01-01  83    01  01"
      ]
     },
     "execution_count": 120,
     "metadata": {},
     "output_type": "execute_result"
    }
   ],
   "source": [
    "df.head()"
   ]
  },
  {
   "cell_type": "code",
   "execution_count": 121,
   "id": "1e568b4d-08f1-47b2-9417-87f52cb7f0c4",
   "metadata": {},
   "outputs": [],
   "source": [
    "df = df.dropna(subset='age')"
   ]
  },
  {
   "cell_type": "code",
   "execution_count": 122,
   "id": "d60f97c4-ecc9-4f94-85e3-789bbb353be2",
   "metadata": {},
   "outputs": [],
   "source": [
    "df = df.loc[df['age'].str.isdigit()]"
   ]
  },
  {
   "cell_type": "code",
   "execution_count": 123,
   "id": "584ff244-5552-48e8-adc2-dc90c5fe0f5e",
   "metadata": {},
   "outputs": [],
   "source": [
    "# (2) Remove all non-digits\n",
    "# df = df[df['age'].str.isdigit()]\n",
    "df['age'] = df['age'].astype(np.int64)"
   ]
  },
  {
   "cell_type": "code",
   "execution_count": 124,
   "id": "09bf5654-97bb-4f01-bb15-285e2c11efa3",
   "metadata": {},
   "outputs": [
    {
     "data": {
      "text/html": [
       "<div>\n",
       "<style scoped>\n",
       "    .dataframe tbody tr th:only-of-type {\n",
       "        vertical-align: middle;\n",
       "    }\n",
       "\n",
       "    .dataframe tbody tr th {\n",
       "        vertical-align: top;\n",
       "    }\n",
       "\n",
       "    .dataframe thead th {\n",
       "        text-align: right;\n",
       "    }\n",
       "</style>\n",
       "<table border=\"1\" class=\"dataframe\">\n",
       "  <thead>\n",
       "    <tr style=\"text-align: right;\">\n",
       "      <th></th>\n",
       "      <th>dateofdeath</th>\n",
       "      <th>age</th>\n",
       "      <th>month</th>\n",
       "      <th>day</th>\n",
       "    </tr>\n",
       "  </thead>\n",
       "  <tbody>\n",
       "    <tr>\n",
       "      <th>0</th>\n",
       "      <td>2016-01-01</td>\n",
       "      <td>71</td>\n",
       "      <td>01</td>\n",
       "      <td>01</td>\n",
       "    </tr>\n",
       "    <tr>\n",
       "      <th>1</th>\n",
       "      <td>2016-01-01</td>\n",
       "      <td>74</td>\n",
       "      <td>01</td>\n",
       "      <td>01</td>\n",
       "    </tr>\n",
       "    <tr>\n",
       "      <th>2</th>\n",
       "      <td>2016-01-01</td>\n",
       "      <td>79</td>\n",
       "      <td>01</td>\n",
       "      <td>01</td>\n",
       "    </tr>\n",
       "    <tr>\n",
       "      <th>3</th>\n",
       "      <td>2016-01-01</td>\n",
       "      <td>45</td>\n",
       "      <td>01</td>\n",
       "      <td>01</td>\n",
       "    </tr>\n",
       "    <tr>\n",
       "      <th>4</th>\n",
       "      <td>2016-01-01</td>\n",
       "      <td>83</td>\n",
       "      <td>01</td>\n",
       "      <td>01</td>\n",
       "    </tr>\n",
       "  </tbody>\n",
       "</table>\n",
       "</div>"
      ],
      "text/plain": [
       "  dateofdeath  age month day\n",
       "0  2016-01-01   71    01  01\n",
       "1  2016-01-01   74    01  01\n",
       "2  2016-01-01   79    01  01\n",
       "3  2016-01-01   45    01  01\n",
       "4  2016-01-01   83    01  01"
      ]
     },
     "execution_count": 124,
     "metadata": {},
     "output_type": "execute_result"
    }
   ],
   "source": [
    "df.head()"
   ]
  },
  {
   "cell_type": "code",
   "execution_count": 142,
   "id": "3ebbae63-7514-4dfb-8d11-877fa671d7c0",
   "metadata": {},
   "outputs": [],
   "source": [
    "# df['month'].value_counts()"
   ]
  },
  {
   "cell_type": "code",
   "execution_count": 143,
   "id": "ecc7e51a-d3fe-4fa9-bbfa-4954b456d463",
   "metadata": {},
   "outputs": [],
   "source": [
    "# df['day'].value_counts()"
   ]
  },
  {
   "cell_type": "code",
   "execution_count": 128,
   "id": "d8f07fc1-69eb-4694-87f8-fef1fc3c091f",
   "metadata": {},
   "outputs": [
    {
     "name": "stdout",
     "output_type": "stream",
     "text": [
      "<class 'pandas.core.frame.DataFrame'>\n",
      "Index: 6481 entries, 0 to 6542\n",
      "Data columns (total 4 columns):\n",
      " #   Column       Non-Null Count  Dtype \n",
      "---  ------       --------------  ----- \n",
      " 0   dateofdeath  6481 non-null   object\n",
      " 1   age          6481 non-null   int64 \n",
      " 2   month        6481 non-null   object\n",
      " 3   day          6481 non-null   object\n",
      "dtypes: int64(1), object(3)\n",
      "memory usage: 253.2+ KB\n"
     ]
    }
   ],
   "source": [
    "df.info()"
   ]
  },
  {
   "cell_type": "code",
   "execution_count": 129,
   "id": "8441bd81-3ce4-411f-9507-e55666618d8e",
   "metadata": {},
   "outputs": [
    {
     "data": {
      "text/html": [
       "<div>\n",
       "<style scoped>\n",
       "    .dataframe tbody tr th:only-of-type {\n",
       "        vertical-align: middle;\n",
       "    }\n",
       "\n",
       "    .dataframe tbody tr th {\n",
       "        vertical-align: top;\n",
       "    }\n",
       "\n",
       "    .dataframe thead th {\n",
       "        text-align: right;\n",
       "    }\n",
       "</style>\n",
       "<table border=\"1\" class=\"dataframe\">\n",
       "  <thead>\n",
       "    <tr style=\"text-align: right;\">\n",
       "      <th></th>\n",
       "      <th>age</th>\n",
       "    </tr>\n",
       "  </thead>\n",
       "  <tbody>\n",
       "    <tr>\n",
       "      <th>count</th>\n",
       "      <td>6481.000000</td>\n",
       "    </tr>\n",
       "    <tr>\n",
       "      <th>mean</th>\n",
       "      <td>77.019287</td>\n",
       "    </tr>\n",
       "    <tr>\n",
       "      <th>std</th>\n",
       "      <td>16.428815</td>\n",
       "    </tr>\n",
       "    <tr>\n",
       "      <th>min</th>\n",
       "      <td>7.000000</td>\n",
       "    </tr>\n",
       "    <tr>\n",
       "      <th>25%</th>\n",
       "      <td>69.000000</td>\n",
       "    </tr>\n",
       "    <tr>\n",
       "      <th>50%</th>\n",
       "      <td>81.000000</td>\n",
       "    </tr>\n",
       "    <tr>\n",
       "      <th>75%</th>\n",
       "      <td>89.000000</td>\n",
       "    </tr>\n",
       "    <tr>\n",
       "      <th>max</th>\n",
       "      <td>116.000000</td>\n",
       "    </tr>\n",
       "  </tbody>\n",
       "</table>\n",
       "</div>"
      ],
      "text/plain": [
       "               age\n",
       "count  6481.000000\n",
       "mean     77.019287\n",
       "std      16.428815\n",
       "min       7.000000\n",
       "25%      69.000000\n",
       "50%      81.000000\n",
       "75%      89.000000\n",
       "max     116.000000"
      ]
     },
     "execution_count": 129,
     "metadata": {},
     "output_type": "execute_result"
    }
   ],
   "source": [
    "df.describe()"
   ]
  },
  {
   "cell_type": "code",
   "execution_count": 130,
   "id": "31f102f0-e5ae-4a9b-acd9-3e9ecbf5d6d7",
   "metadata": {},
   "outputs": [],
   "source": [
    "df = df.set_index(['month','day'])"
   ]
  },
  {
   "cell_type": "code",
   "execution_count": 131,
   "id": "a19dddc2-2e29-4659-8fbd-05a6bf7d81ad",
   "metadata": {},
   "outputs": [],
   "source": [
    "df = df.sort_index()"
   ]
  },
  {
   "cell_type": "code",
   "execution_count": 132,
   "id": "eb17cc9c-57ec-4e86-ad4c-bfb502727bbb",
   "metadata": {},
   "outputs": [
    {
     "data": {
      "text/html": [
       "<div>\n",
       "<style scoped>\n",
       "    .dataframe tbody tr th:only-of-type {\n",
       "        vertical-align: middle;\n",
       "    }\n",
       "\n",
       "    .dataframe tbody tr th {\n",
       "        vertical-align: top;\n",
       "    }\n",
       "\n",
       "    .dataframe thead th {\n",
       "        text-align: right;\n",
       "    }\n",
       "</style>\n",
       "<table border=\"1\" class=\"dataframe\">\n",
       "  <thead>\n",
       "    <tr style=\"text-align: right;\">\n",
       "      <th></th>\n",
       "      <th></th>\n",
       "      <th>dateofdeath</th>\n",
       "      <th>age</th>\n",
       "    </tr>\n",
       "    <tr>\n",
       "      <th>month</th>\n",
       "      <th>day</th>\n",
       "      <th></th>\n",
       "      <th></th>\n",
       "    </tr>\n",
       "  </thead>\n",
       "  <tbody>\n",
       "    <tr>\n",
       "      <th rowspan=\"5\" valign=\"top\">01</th>\n",
       "      <th>01</th>\n",
       "      <td>2016-01-01</td>\n",
       "      <td>71</td>\n",
       "    </tr>\n",
       "    <tr>\n",
       "      <th>01</th>\n",
       "      <td>2016-01-01</td>\n",
       "      <td>74</td>\n",
       "    </tr>\n",
       "    <tr>\n",
       "      <th>01</th>\n",
       "      <td>2016-01-01</td>\n",
       "      <td>79</td>\n",
       "    </tr>\n",
       "    <tr>\n",
       "      <th>01</th>\n",
       "      <td>2016-01-01</td>\n",
       "      <td>45</td>\n",
       "    </tr>\n",
       "    <tr>\n",
       "      <th>01</th>\n",
       "      <td>2016-01-01</td>\n",
       "      <td>83</td>\n",
       "    </tr>\n",
       "  </tbody>\n",
       "</table>\n",
       "</div>"
      ],
      "text/plain": [
       "          dateofdeath  age\n",
       "month day                 \n",
       "01    01   2016-01-01   71\n",
       "      01   2016-01-01   74\n",
       "      01   2016-01-01   79\n",
       "      01   2016-01-01   45\n",
       "      01   2016-01-01   83"
      ]
     },
     "execution_count": 132,
     "metadata": {},
     "output_type": "execute_result"
    }
   ],
   "source": [
    "df.head()"
   ]
  },
  {
   "cell_type": "code",
   "execution_count": 133,
   "id": "ba926c62-4b29-4891-99e1-ea5a6c53f222",
   "metadata": {},
   "outputs": [
    {
     "name": "stdout",
     "output_type": "stream",
     "text": [
      "<class 'pandas.core.frame.DataFrame'>\n",
      "MultiIndex: 6481 entries, ('01', '01') to ('12', '29')\n",
      "Data columns (total 2 columns):\n",
      " #   Column       Non-Null Count  Dtype \n",
      "---  ------       --------------  ----- \n",
      " 0   dateofdeath  6481 non-null   object\n",
      " 1   age          6481 non-null   int64 \n",
      "dtypes: int64(1), object(1)\n",
      "memory usage: 115.7+ KB\n"
     ]
    }
   ],
   "source": [
    "df.info()"
   ]
  },
  {
   "cell_type": "markdown",
   "id": "9b366e52-d16f-47ee-9ffe-4b34e90ec132",
   "metadata": {},
   "source": [
    "### Note leading '0's required in indexes"
   ]
  },
  {
   "cell_type": "code",
   "execution_count": 135,
   "id": "956fa691-3f69-4c24-b879-a0007d23a79c",
   "metadata": {},
   "outputs": [
    {
     "data": {
      "text/plain": [
       "77.05183037332367"
      ]
     },
     "execution_count": 135,
     "metadata": {},
     "output_type": "execute_result"
    }
   ],
   "source": [
    "df.loc[('02','15'):('07','15'), 'age'].mean()"
   ]
  },
  {
   "cell_type": "markdown",
   "id": "24d565aa-4b39-4488-be81-ad84cf8d64d4",
   "metadata": {},
   "source": [
    "### The CSV file contains another column, causeofdeath. Load it into a data frame, and find the five most common causes of death. Now replace any NaN values in that column with the string 'unknown', and again find the five most common causes of death."
   ]
  },
  {
   "cell_type": "code",
   "execution_count": 148,
   "id": "c5db22f3-156a-41e6-b1bc-e40b8428d7bd",
   "metadata": {},
   "outputs": [],
   "source": [
    "df = pd.read_csv('../data/celebrity_deaths_2016.csv', header=0, usecols=['causeofdeath'])"
   ]
  },
  {
   "cell_type": "code",
   "execution_count": 149,
   "id": "6c25238e-8c47-4867-a2fe-4509f4b0971b",
   "metadata": {},
   "outputs": [
    {
     "data": {
      "text/plain": [
       "causeofdeath     \n",
       "cancer               248\n",
       "heart attack         125\n",
       "traffic collision     56\n",
       "lung cancer           51\n",
       "pneumonia             50\n",
       "Name: count, dtype: int64"
      ]
     },
     "execution_count": 149,
     "metadata": {},
     "output_type": "execute_result"
    }
   ],
   "source": [
    "df.value_counts()[:5]"
   ]
  },
  {
   "cell_type": "code",
   "execution_count": 150,
   "id": "f67ccd91-edb3-4990-b7ce-22403ee5caac",
   "metadata": {},
   "outputs": [],
   "source": [
    "df['causeofdeath'] = df['causeofdeath'].replace(np.nan, 'unknown')"
   ]
  },
  {
   "cell_type": "code",
   "execution_count": 151,
   "id": "7a5bd814-6940-44f4-abc1-a55c7403ddb6",
   "metadata": {},
   "outputs": [
    {
     "data": {
      "text/plain": [
       "causeofdeath      \n",
       "unknown               5008\n",
       " cancer                248\n",
       " heart attack          125\n",
       " traffic collision      56\n",
       " lung cancer            51\n",
       "Name: count, dtype: int64"
      ]
     },
     "execution_count": 151,
     "metadata": {},
     "output_type": "execute_result"
    }
   ],
   "source": [
    "df.value_counts()[:5]"
   ]
  },
  {
   "cell_type": "markdown",
   "id": "6dd46f5e-c652-4a99-8862-a01745128987",
   "metadata": {},
   "source": [
    "### If someone asked whether cancer is in the top 10 causes, what would you say?  Can you be more specific than that?"
   ]
  },
  {
   "cell_type": "code",
   "execution_count": null,
   "id": "b846512a-5d19-421a-9df2-7be7dc10f6e2",
   "metadata": {},
   "outputs": [],
   "source": []
  }
 ],
 "metadata": {
  "kernelspec": {
   "display_name": "Python [conda env:py311b]",
   "language": "python",
   "name": "conda-env-py311b-py"
  },
  "language_info": {
   "codemirror_mode": {
    "name": "ipython",
    "version": 3
   },
   "file_extension": ".py",
   "mimetype": "text/x-python",
   "name": "python",
   "nbconvert_exporter": "python",
   "pygments_lexer": "ipython3",
   "version": "3.11.13"
  },
  "widgets": {
   "application/vnd.jupyter.widget-state+json": {
    "state": {},
    "version_major": 2,
    "version_minor": 0
   }
  }
 },
 "nbformat": 4,
 "nbformat_minor": 5
}
