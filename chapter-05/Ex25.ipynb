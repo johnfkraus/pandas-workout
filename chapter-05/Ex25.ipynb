{
 "cells": [
  {
   "cell_type": "code",
   "execution_count": 35,
   "id": "3367ff60-77cf-49e0-9fe1-3271b680dc7d",
   "metadata": {},
   "outputs": [],
   "source": [
    "import pandas as pd\n",
    "import numpy as np"
   ]
  },
  {
   "cell_type": "code",
   "execution_count": 36,
   "id": "4d371267-5160-47ef-afc0-bc064ed0e449",
   "metadata": {},
   "outputs": [
    {
     "data": {
      "text/plain": [
       "['Plate ID',\n",
       " 'Registration State',\n",
       " 'Vehicle Make',\n",
       " 'Vehicle Color',\n",
       " 'Violation Time',\n",
       " 'Street Name']"
      ]
     },
     "execution_count": 36,
     "metadata": {},
     "output_type": "execute_result"
    }
   ],
   "source": [
    "cols = ['Plate ID', 'Registration State', 'Vehicle Make', \n",
    "        'Vehicle Color', 'Violation Time', 'Street Name']\n",
    "cols"
   ]
  },
  {
   "cell_type": "code",
   "execution_count": 37,
   "id": "6fcc7c32-0d64-4ae4-854e-f6286e1476c5",
   "metadata": {},
   "outputs": [],
   "source": [
    "df = pd.read_csv('../data/nyc-parking-violations-2020.csv', \n",
    "            usecols=cols, header=0)"
   ]
  },
  {
   "cell_type": "code",
   "execution_count": 38,
   "id": "f1a24388-04c9-4177-9037-e88a31d345e4",
   "metadata": {},
   "outputs": [
    {
     "data": {
      "text/html": [
       "<div>\n",
       "<style scoped>\n",
       "    .dataframe tbody tr th:only-of-type {\n",
       "        vertical-align: middle;\n",
       "    }\n",
       "\n",
       "    .dataframe tbody tr th {\n",
       "        vertical-align: top;\n",
       "    }\n",
       "\n",
       "    .dataframe thead th {\n",
       "        text-align: right;\n",
       "    }\n",
       "</style>\n",
       "<table border=\"1\" class=\"dataframe\">\n",
       "  <thead>\n",
       "    <tr style=\"text-align: right;\">\n",
       "      <th></th>\n",
       "      <th>Plate ID</th>\n",
       "      <th>Registration State</th>\n",
       "      <th>Vehicle Make</th>\n",
       "      <th>Violation Time</th>\n",
       "      <th>Street Name</th>\n",
       "      <th>Vehicle Color</th>\n",
       "    </tr>\n",
       "  </thead>\n",
       "  <tbody>\n",
       "    <tr>\n",
       "      <th>0</th>\n",
       "      <td>J58JKX</td>\n",
       "      <td>NJ</td>\n",
       "      <td>HONDA</td>\n",
       "      <td>0523P</td>\n",
       "      <td>43 ST</td>\n",
       "      <td>BK</td>\n",
       "    </tr>\n",
       "    <tr>\n",
       "      <th>1</th>\n",
       "      <td>KRE6058</td>\n",
       "      <td>PA</td>\n",
       "      <td>ME/BE</td>\n",
       "      <td>0428P</td>\n",
       "      <td>UNION ST</td>\n",
       "      <td>BLK</td>\n",
       "    </tr>\n",
       "    <tr>\n",
       "      <th>2</th>\n",
       "      <td>444326R</td>\n",
       "      <td>NJ</td>\n",
       "      <td>LEXUS</td>\n",
       "      <td>0625A</td>\n",
       "      <td>CLERMONT AVENUE</td>\n",
       "      <td>BLACK</td>\n",
       "    </tr>\n",
       "    <tr>\n",
       "      <th>3</th>\n",
       "      <td>F728330</td>\n",
       "      <td>OH</td>\n",
       "      <td>CHEVR</td>\n",
       "      <td>1106A</td>\n",
       "      <td>DIVISION AVE</td>\n",
       "      <td>NaN</td>\n",
       "    </tr>\n",
       "    <tr>\n",
       "      <th>4</th>\n",
       "      <td>FMY9090</td>\n",
       "      <td>NY</td>\n",
       "      <td>JEEP</td>\n",
       "      <td>1253A</td>\n",
       "      <td>GRAND ST</td>\n",
       "      <td>GREY</td>\n",
       "    </tr>\n",
       "  </tbody>\n",
       "</table>\n",
       "</div>"
      ],
      "text/plain": [
       "  Plate ID Registration State Vehicle Make Violation Time      Street Name  \\\n",
       "0   J58JKX                 NJ        HONDA          0523P            43 ST   \n",
       "1  KRE6058                 PA        ME/BE          0428P         UNION ST   \n",
       "2  444326R                 NJ        LEXUS          0625A  CLERMONT AVENUE   \n",
       "3  F728330                 OH        CHEVR          1106A     DIVISION AVE   \n",
       "4  FMY9090                 NY         JEEP          1253A         GRAND ST   \n",
       "\n",
       "  Vehicle Color  \n",
       "0            BK  \n",
       "1           BLK  \n",
       "2         BLACK  \n",
       "3           NaN  \n",
       "4          GREY  "
      ]
     },
     "execution_count": 38,
     "metadata": {},
     "output_type": "execute_result"
    }
   ],
   "source": [
    "df.head()"
   ]
  },
  {
   "cell_type": "code",
   "execution_count": 39,
   "id": "b1846864-07ca-47cc-8d4d-e2f1f57bdebb",
   "metadata": {},
   "outputs": [
    {
     "name": "stdout",
     "output_type": "stream",
     "text": [
      "<class 'pandas.core.frame.DataFrame'>\n",
      "RangeIndex: 12495734 entries, 0 to 12495733\n",
      "Data columns (total 6 columns):\n",
      " #   Column              Dtype \n",
      "---  ------              ----- \n",
      " 0   Plate ID            object\n",
      " 1   Registration State  object\n",
      " 2   Vehicle Make        object\n",
      " 3   Violation Time      object\n",
      " 4   Street Name         object\n",
      " 5   Vehicle Color       object\n",
      "dtypes: object(6)\n",
      "memory usage: 572.0+ MB\n"
     ]
    }
   ],
   "source": [
    "df.info()"
   ]
  },
  {
   "cell_type": "code",
   "execution_count": 40,
   "id": "d19e4255-d4c9-455b-be46-e0cdcc4b3c28",
   "metadata": {},
   "outputs": [
    {
     "data": {
      "text/plain": [
       "12495734"
      ]
     },
     "execution_count": 40,
     "metadata": {},
     "output_type": "execute_result"
    }
   ],
   "source": [
    "orig_rows = df.shape[0]\n",
    "orig_rows"
   ]
  },
  {
   "cell_type": "code",
   "execution_count": 41,
   "id": "94aa6d60-63e4-49c5-9d44-7699163baee3",
   "metadata": {},
   "outputs": [
    {
     "data": {
      "text/plain": [
       "12495734"
      ]
     },
     "execution_count": 41,
     "metadata": {},
     "output_type": "execute_result"
    }
   ],
   "source": [
    "# faster?\n",
    "len(df)"
   ]
  },
  {
   "cell_type": "code",
   "execution_count": 42,
   "id": "918bc60e-e7f7-42a8-adf6-0713ec63a526",
   "metadata": {},
   "outputs": [
    {
     "data": {
      "text/plain": [
       "RangeIndex(start=0, stop=12495734, step=1)"
      ]
     },
     "execution_count": 42,
     "metadata": {},
     "output_type": "execute_result"
    }
   ],
   "source": [
    "df.index"
   ]
  },
  {
   "cell_type": "code",
   "execution_count": 43,
   "id": "7638c4c4-13d2-40ae-a30c-19a9110b0099",
   "metadata": {},
   "outputs": [
    {
     "data": {
      "text/plain": [
       "12495734"
      ]
     },
     "execution_count": 43,
     "metadata": {},
     "output_type": "execute_result"
    }
   ],
   "source": [
    "# even faster?\n",
    "len(df.index)"
   ]
  },
  {
   "cell_type": "code",
   "execution_count": 44,
   "id": "6fd898c4-7a9c-4842-934c-2bbe65aecfc1",
   "metadata": {},
   "outputs": [],
   "source": [
    "df_drop_all_na = df.dropna()"
   ]
  },
  {
   "cell_type": "code",
   "execution_count": 45,
   "id": "a0204b46-92d0-4a18-9ee9-450999552ea9",
   "metadata": {},
   "outputs": [
    {
     "data": {
      "text/plain": [
       "447359"
      ]
     },
     "execution_count": 45,
     "metadata": {},
     "output_type": "execute_result"
    }
   ],
   "source": [
    "len(df.index) - len(df_drop_all_na)"
   ]
  },
  {
   "cell_type": "code",
   "execution_count": 46,
   "id": "1c9da4fd-8931-4baa-ae4a-6dd4aa590797",
   "metadata": {},
   "outputs": [
    {
     "data": {
      "text/plain": [
       "12048375"
      ]
     },
     "execution_count": 46,
     "metadata": {},
     "output_type": "execute_result"
    }
   ],
   "source": [
    "row_count_after_drop_all_na = df_drop_all_na.shape[0]\n",
    "row_count_after_drop_all_na"
   ]
  },
  {
   "cell_type": "code",
   "execution_count": 47,
   "id": "46e0b590-0f0d-40e1-a8ae-c703f3e42b12",
   "metadata": {},
   "outputs": [
    {
     "name": "stdout",
     "output_type": "stream",
     "text": [
      "$44,735,900\n"
     ]
    }
   ],
   "source": [
    "na_rows = orig_rows - row_count_after_drop_all_na\n",
    "print(f\"${na_rows * 100:,}\")"
   ]
  },
  {
   "cell_type": "code",
   "execution_count": 48,
   "id": "0ad32991-0b2f-43a5-9bc7-e07396784020",
   "metadata": {},
   "outputs": [],
   "source": [
    "drop_na_subset = ['Plate ID', 'Registration State', 'Vehicle Make', \n",
    "        'Street Name']"
   ]
  },
  {
   "cell_type": "code",
   "execution_count": 49,
   "id": "f64eef96-d62b-47f6-ad85-6889efac0413",
   "metadata": {},
   "outputs": [],
   "source": [
    "df_drop_na_subset = df.dropna(subset=drop_na_subset)"
   ]
  },
  {
   "cell_type": "code",
   "execution_count": 50,
   "id": "b7178b07-b650-4638-a250-91095ff8ad57",
   "metadata": {},
   "outputs": [],
   "source": [
    "new_rows_count_drop_subset = df_drop_na_subset.shape[0]"
   ]
  },
  {
   "cell_type": "code",
   "execution_count": 51,
   "id": "92cd9a99-9317-44d5-965b-5004694379ef",
   "metadata": {},
   "outputs": [
    {
     "name": "stdout",
     "output_type": "stream",
     "text": [
      "$6,378,500\n"
     ]
    }
   ],
   "source": [
    "na_row_count_dropped_subset = orig_rows - new_rows_count_drop_subset\n",
    "print(f\"${na_row_count_dropped_subset * 100:,}\")"
   ]
  },
  {
   "cell_type": "code",
   "execution_count": 52,
   "id": "e1101d16-7ebd-448f-92d6-86529a763ba3",
   "metadata": {},
   "outputs": [],
   "source": [
    "drop_na_subset2 = ['Plate ID', 'Registration State', 'Street Name']\n",
    "df_loose = df.dropna(subset=drop_na_subset2)"
   ]
  },
  {
   "cell_type": "code",
   "execution_count": 53,
   "id": "91ed90fd-5dcc-4162-a5da-05dc83d6642a",
   "metadata": {},
   "outputs": [
    {
     "data": {
      "text/plain": [
       "1618"
      ]
     },
     "execution_count": 53,
     "metadata": {},
     "output_type": "execute_result"
    }
   ],
   "source": [
    "len(df.index) - len(df_loose.index)"
   ]
  },
  {
   "cell_type": "markdown",
   "id": "3408c485-b79c-493a-838a-547dd68a8a84",
   "metadata": {},
   "source": [
    "So far, you have specified which columns must be all non-null. But sometimes\n",
    "it’s OK for some columns to have null values, as long as it’s not too many. How\n",
    "many rows would you eliminate if you required at least three non-null values\n",
    "from the four columns Plate ID, Registration State, Vehicle Make, and\n",
    "Street Name?"
   ]
  },
  {
   "cell_type": "code",
   "execution_count": 54,
   "id": "f69c442f-28c4-45ef-8ab6-536e29ae5614",
   "metadata": {},
   "outputs": [],
   "source": [
    "semi_good_subset = df.dropna(subset=drop_na_subset, thresh=3)"
   ]
  },
  {
   "cell_type": "code",
   "execution_count": 55,
   "id": "46dee2bf-c9ff-4176-bbee-4fe6bcb92ee1",
   "metadata": {},
   "outputs": [
    {
     "data": {
      "text/plain": [
       "253"
      ]
     },
     "execution_count": 55,
     "metadata": {},
     "output_type": "execute_result"
    }
   ],
   "source": [
    "len(df) - len(semi_good_subset.index)"
   ]
  },
  {
   "cell_type": "markdown",
   "id": "71ca7596-39a3-489f-8e2d-2b2ab40ba1bd",
   "metadata": {},
   "source": [
    "Which of the columns you’ve imported has the greatest number of NaN values?\n",
    "Is this a problem?"
   ]
  },
  {
   "cell_type": "code",
   "execution_count": 61,
   "id": "70a59c1c-4cac-46c8-822d-0dd696dd11a5",
   "metadata": {},
   "outputs": [
    {
     "data": {
      "text/plain": [
       "Plate ID                9084\n",
       "Registration State         0\n",
       "Vehicle Make           62420\n",
       "Violation Time           278\n",
       "Street Name             1417\n",
       "Vehicle Color         391982\n",
       "dtype: int64"
      ]
     },
     "execution_count": 61,
     "metadata": {},
     "output_type": "execute_result"
    }
   ],
   "source": [
    "df.isnull().sum()"
   ]
  },
  {
   "cell_type": "markdown",
   "id": "1e59bf9c-1435-4ad0-9eea-da8c880bb4f5",
   "metadata": {},
   "source": [
    "Null data is bad, but there is plenty of bad non-null data, too. For example,\n",
    "many cars with BLANKPLATE as a plate ID were ticketed. Turn these into NaN val-\n",
    "ues, and rerun the previous query."
   ]
  },
  {
   "cell_type": "code",
   "execution_count": 57,
   "id": "457d3c9f-5232-4c5b-8292-7f9192b31760",
   "metadata": {},
   "outputs": [
    {
     "data": {
      "text/plain": [
       "Index(['Plate ID', 'Registration State', 'Vehicle Make', 'Violation Time',\n",
       "       'Street Name', 'Vehicle Color'],\n",
       "      dtype='object')"
      ]
     },
     "execution_count": 57,
     "metadata": {},
     "output_type": "execute_result"
    }
   ],
   "source": [
    "df.columns"
   ]
  },
  {
   "cell_type": "code",
   "execution_count": 58,
   "id": "d878a6a6-58e8-4b5a-b263-42497c1b04ad",
   "metadata": {},
   "outputs": [
    {
     "data": {
      "text/plain": [
       "Plate ID              8882\n",
       "Registration State    8882\n",
       "Vehicle Make          8139\n",
       "Violation Time        8879\n",
       "Street Name           8794\n",
       "Vehicle Color         8045\n",
       "dtype: int64"
      ]
     },
     "execution_count": 58,
     "metadata": {},
     "output_type": "execute_result"
    }
   ],
   "source": [
    "df.loc[df['Plate ID'] == 'BLANKPLATE'].count()"
   ]
  },
  {
   "cell_type": "code",
   "execution_count": 59,
   "id": "7ff4f8c7-4217-4673-ba07-cbfd879cb4ec",
   "metadata": {},
   "outputs": [],
   "source": [
    "df['Plate ID'] = df['Plate ID'].replace('BLANKPLATE',np.NaN)"
   ]
  },
  {
   "cell_type": "code",
   "execution_count": 62,
   "id": "c0abf933-4593-4630-aaa7-3b6ad2485851",
   "metadata": {},
   "outputs": [
    {
     "data": {
      "text/plain": [
       "Plate ID                9084\n",
       "Registration State         0\n",
       "Vehicle Make           62420\n",
       "Violation Time           278\n",
       "Street Name             1417\n",
       "Vehicle Color         391982\n",
       "dtype: int64"
      ]
     },
     "execution_count": 62,
     "metadata": {},
     "output_type": "execute_result"
    }
   ],
   "source": [
    "df.isnull().sum()"
   ]
  },
  {
   "cell_type": "code",
   "execution_count": null,
   "id": "e71ab87d-f843-487b-b096-0322340f087d",
   "metadata": {},
   "outputs": [],
   "source": []
  }
 ],
 "metadata": {
  "kernelspec": {
   "display_name": "Python [conda env:py311b]",
   "language": "python",
   "name": "conda-env-py311b-py"
  },
  "language_info": {
   "codemirror_mode": {
    "name": "ipython",
    "version": 3
   },
   "file_extension": ".py",
   "mimetype": "text/x-python",
   "name": "python",
   "nbconvert_exporter": "python",
   "pygments_lexer": "ipython3",
   "version": "3.11.13"
  },
  "widgets": {
   "application/vnd.jupyter.widget-state+json": {
    "state": {},
    "version_major": 2,
    "version_minor": 0
   }
  }
 },
 "nbformat": 4,
 "nbformat_minor": 5
}
