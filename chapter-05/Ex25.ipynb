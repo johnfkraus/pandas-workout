{
 "cells": [
  {
   "cell_type": "code",
   "execution_count": 23,
   "id": "3367ff60-77cf-49e0-9fe1-3271b680dc7d",
   "metadata": {},
   "outputs": [],
   "source": [
    "import pandas as pd\n",
    "import numpy as np"
   ]
  },
  {
   "cell_type": "code",
   "execution_count": 24,
   "id": "4d371267-5160-47ef-afc0-bc064ed0e449",
   "metadata": {},
   "outputs": [
    {
     "data": {
      "text/plain": [
       "['Plate ID',\n",
       " 'Registration State',\n",
       " 'Vehicle Make',\n",
       " 'Vehicle Color',\n",
       " 'Violation Time',\n",
       " 'Street Name']"
      ]
     },
     "execution_count": 24,
     "metadata": {},
     "output_type": "execute_result"
    }
   ],
   "source": [
    "cols = ['Plate ID', 'Registration State', 'Vehicle Make', \n",
    "        'Vehicle Color', 'Violation Time', 'Street Name']\n",
    "cols"
   ]
  },
  {
   "cell_type": "code",
   "execution_count": 25,
   "id": "6fcc7c32-0d64-4ae4-854e-f6286e1476c5",
   "metadata": {},
   "outputs": [],
   "source": [
    "df = pd.read_csv('../data/nyc-parking-violations-2020.csv', \n",
    "            usecols=cols, header=0)"
   ]
  },
  {
   "cell_type": "code",
   "execution_count": 26,
   "id": "f1a24388-04c9-4177-9037-e88a31d345e4",
   "metadata": {},
   "outputs": [
    {
     "data": {
      "text/html": [
       "<div>\n",
       "<style scoped>\n",
       "    .dataframe tbody tr th:only-of-type {\n",
       "        vertical-align: middle;\n",
       "    }\n",
       "\n",
       "    .dataframe tbody tr th {\n",
       "        vertical-align: top;\n",
       "    }\n",
       "\n",
       "    .dataframe thead th {\n",
       "        text-align: right;\n",
       "    }\n",
       "</style>\n",
       "<table border=\"1\" class=\"dataframe\">\n",
       "  <thead>\n",
       "    <tr style=\"text-align: right;\">\n",
       "      <th></th>\n",
       "      <th>Plate ID</th>\n",
       "      <th>Registration State</th>\n",
       "      <th>Vehicle Make</th>\n",
       "      <th>Violation Time</th>\n",
       "      <th>Street Name</th>\n",
       "      <th>Vehicle Color</th>\n",
       "    </tr>\n",
       "  </thead>\n",
       "  <tbody>\n",
       "    <tr>\n",
       "      <th>0</th>\n",
       "      <td>J58JKX</td>\n",
       "      <td>NJ</td>\n",
       "      <td>HONDA</td>\n",
       "      <td>0523P</td>\n",
       "      <td>43 ST</td>\n",
       "      <td>BK</td>\n",
       "    </tr>\n",
       "    <tr>\n",
       "      <th>1</th>\n",
       "      <td>KRE6058</td>\n",
       "      <td>PA</td>\n",
       "      <td>ME/BE</td>\n",
       "      <td>0428P</td>\n",
       "      <td>UNION ST</td>\n",
       "      <td>BLK</td>\n",
       "    </tr>\n",
       "    <tr>\n",
       "      <th>2</th>\n",
       "      <td>444326R</td>\n",
       "      <td>NJ</td>\n",
       "      <td>LEXUS</td>\n",
       "      <td>0625A</td>\n",
       "      <td>CLERMONT AVENUE</td>\n",
       "      <td>BLACK</td>\n",
       "    </tr>\n",
       "    <tr>\n",
       "      <th>3</th>\n",
       "      <td>F728330</td>\n",
       "      <td>OH</td>\n",
       "      <td>CHEVR</td>\n",
       "      <td>1106A</td>\n",
       "      <td>DIVISION AVE</td>\n",
       "      <td>NaN</td>\n",
       "    </tr>\n",
       "    <tr>\n",
       "      <th>4</th>\n",
       "      <td>FMY9090</td>\n",
       "      <td>NY</td>\n",
       "      <td>JEEP</td>\n",
       "      <td>1253A</td>\n",
       "      <td>GRAND ST</td>\n",
       "      <td>GREY</td>\n",
       "    </tr>\n",
       "  </tbody>\n",
       "</table>\n",
       "</div>"
      ],
      "text/plain": [
       "  Plate ID Registration State Vehicle Make Violation Time      Street Name  \\\n",
       "0   J58JKX                 NJ        HONDA          0523P            43 ST   \n",
       "1  KRE6058                 PA        ME/BE          0428P         UNION ST   \n",
       "2  444326R                 NJ        LEXUS          0625A  CLERMONT AVENUE   \n",
       "3  F728330                 OH        CHEVR          1106A     DIVISION AVE   \n",
       "4  FMY9090                 NY         JEEP          1253A         GRAND ST   \n",
       "\n",
       "  Vehicle Color  \n",
       "0            BK  \n",
       "1           BLK  \n",
       "2         BLACK  \n",
       "3           NaN  \n",
       "4          GREY  "
      ]
     },
     "execution_count": 26,
     "metadata": {},
     "output_type": "execute_result"
    }
   ],
   "source": [
    "df.head()"
   ]
  },
  {
   "cell_type": "code",
   "execution_count": 27,
   "id": "b1846864-07ca-47cc-8d4d-e2f1f57bdebb",
   "metadata": {},
   "outputs": [
    {
     "name": "stdout",
     "output_type": "stream",
     "text": [
      "<class 'pandas.core.frame.DataFrame'>\n",
      "RangeIndex: 12495734 entries, 0 to 12495733\n",
      "Data columns (total 6 columns):\n",
      " #   Column              Dtype \n",
      "---  ------              ----- \n",
      " 0   Plate ID            object\n",
      " 1   Registration State  object\n",
      " 2   Vehicle Make        object\n",
      " 3   Violation Time      object\n",
      " 4   Street Name         object\n",
      " 5   Vehicle Color       object\n",
      "dtypes: object(6)\n",
      "memory usage: 572.0+ MB\n"
     ]
    }
   ],
   "source": [
    "df.info()"
   ]
  },
  {
   "cell_type": "code",
   "execution_count": 28,
   "id": "d19e4255-d4c9-455b-be46-e0cdcc4b3c28",
   "metadata": {},
   "outputs": [
    {
     "data": {
      "text/plain": [
       "12495734"
      ]
     },
     "execution_count": 28,
     "metadata": {},
     "output_type": "execute_result"
    }
   ],
   "source": [
    "orig_rows = df.shape[0]\n",
    "orig_rows"
   ]
  },
  {
   "cell_type": "code",
   "execution_count": 40,
   "id": "6fd898c4-7a9c-4842-934c-2bbe65aecfc1",
   "metadata": {},
   "outputs": [],
   "source": [
    "df_drop_all_na = df.dropna()"
   ]
  },
  {
   "cell_type": "code",
   "execution_count": 42,
   "id": "1c9da4fd-8931-4baa-ae4a-6dd4aa590797",
   "metadata": {},
   "outputs": [
    {
     "data": {
      "text/plain": [
       "12048375"
      ]
     },
     "execution_count": 42,
     "metadata": {},
     "output_type": "execute_result"
    }
   ],
   "source": [
    "row_count_after_drop_all_na = df_drop_all_na.shape[0]\n",
    "row_count_after_drop_all_na"
   ]
  },
  {
   "cell_type": "code",
   "execution_count": 43,
   "id": "46e0b590-0f0d-40e1-a8ae-c703f3e42b12",
   "metadata": {},
   "outputs": [
    {
     "name": "stdout",
     "output_type": "stream",
     "text": [
      "$44,735,900\n"
     ]
    }
   ],
   "source": [
    "na_rows = orig_rows - row_count_after_drop_all_na\n",
    "print(f\"${na_rows * 100:,}\")"
   ]
  },
  {
   "cell_type": "code",
   "execution_count": 49,
   "id": "0ad32991-0b2f-43a5-9bc7-e07396784020",
   "metadata": {},
   "outputs": [],
   "source": [
    "drop_na_subset = ['Plate ID', 'Registration State', 'Vehicle Make', \n",
    "        'Street Name']"
   ]
  },
  {
   "cell_type": "code",
   "execution_count": 50,
   "id": "f64eef96-d62b-47f6-ad85-6889efac0413",
   "metadata": {},
   "outputs": [],
   "source": [
    "df_drop_na_subset = df.dropna(subset=drop_na_subset)"
   ]
  },
  {
   "cell_type": "code",
   "execution_count": 51,
   "id": "b7178b07-b650-4638-a250-91095ff8ad57",
   "metadata": {},
   "outputs": [],
   "source": [
    "new_rows_count_drop_subset = df_drop_na_subset.shape[0]"
   ]
  },
  {
   "cell_type": "code",
   "execution_count": 52,
   "id": "92cd9a99-9317-44d5-965b-5004694379ef",
   "metadata": {},
   "outputs": [
    {
     "name": "stdout",
     "output_type": "stream",
     "text": [
      "$6,378,500\n"
     ]
    }
   ],
   "source": [
    "na_row_count_dropped_subset = orig_rows - new_rows_count_drop_subset\n",
    "print(f\"${na_row_count_dropped_subset * 100:,}\")"
   ]
  },
  {
   "cell_type": "code",
   "execution_count": null,
   "id": "f69c442f-28c4-45ef-8ab6-536e29ae5614",
   "metadata": {},
   "outputs": [],
   "source": []
  }
 ],
 "metadata": {
  "kernelspec": {
   "display_name": "Python [conda env:py311b]",
   "language": "python",
   "name": "conda-env-py311b-py"
  },
  "language_info": {
   "codemirror_mode": {
    "name": "ipython",
    "version": 3
   },
   "file_extension": ".py",
   "mimetype": "text/x-python",
   "name": "python",
   "nbconvert_exporter": "python",
   "pygments_lexer": "ipython3",
   "version": "3.11.13"
  },
  "widgets": {
   "application/vnd.jupyter.widget-state+json": {
    "state": {},
    "version_major": 2,
    "version_minor": 0
   }
  }
 },
 "nbformat": 4,
 "nbformat_minor": 5
}
