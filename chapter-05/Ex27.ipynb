{
 "cells": [
  {
   "cell_type": "markdown",
   "id": "199c2e04-ae92-4ca4-b1d0-c9b9fa6aeb26",
   "metadata": {},
   "source": [
    "# Ex. 27 - Titanic interpolation"
   ]
  },
  {
   "cell_type": "code",
   "execution_count": null,
   "id": "cae14454-5469-4831-80a9-e5e47fe07d93",
   "metadata": {},
   "outputs": [],
   "source": []
  }
 ],
 "metadata": {
  "kernelspec": {
   "display_name": "Python [conda env:py311b]",
   "language": "python",
   "name": "conda-env-py311b-py"
  },
  "language_info": {
   "codemirror_mode": {
    "name": "ipython",
    "version": 3
   },
   "file_extension": ".py",
   "mimetype": "text/x-python",
   "name": "python",
   "nbconvert_exporter": "python",
   "pygments_lexer": "ipython3",
   "version": "3.11.13"
  },
  "widgets": {
   "application/vnd.jupyter.widget-state+json": {
    "state": {},
    "version_major": 2,
    "version_minor": 0
   }
  }
 },
 "nbformat": 4,
 "nbformat_minor": 5
}
