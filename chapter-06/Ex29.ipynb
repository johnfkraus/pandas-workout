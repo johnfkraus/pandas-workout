{
 "cells": [
  {
   "cell_type": "code",
   "execution_count": 34,
   "id": "65f62553-f089-4ae7-ab95-7b96719fb5d8",
   "metadata": {},
   "outputs": [],
   "source": [
    "import pandas as pd\n",
    "import numpy as np"
   ]
  },
  {
   "cell_type": "code",
   "execution_count": 3,
   "id": "1220cd9d-3717-49ae-b427-b74323aa284a",
   "metadata": {},
   "outputs": [
    {
     "data": {
      "text/plain": [
       "['passenger_count', 'trip_distance', 'total_amount']"
      ]
     },
     "execution_count": 3,
     "metadata": {},
     "output_type": "execute_result"
    }
   ],
   "source": [
    "cols = \"passenger_count trip_distance total_amount\".split()\n",
    "cols"
   ]
  },
  {
   "cell_type": "code",
   "execution_count": 5,
   "id": "4d025fbf-0e36-4c33-8937-d54e9c9e3a70",
   "metadata": {},
   "outputs": [],
   "source": [
    "df = pd.read_csv('../data/nyc_taxi_2019-01.csv', usecols=cols)"
   ]
  },
  {
   "cell_type": "code",
   "execution_count": 37,
   "id": "36ca7107-d2de-4361-b1f1-0572ca7bc0d8",
   "metadata": {},
   "outputs": [
    {
     "name": "stdout",
     "output_type": "stream",
     "text": [
      "<class 'pandas.core.frame.DataFrame'>\n",
      "RangeIndex: 7667792 entries, 0 to 7667791\n",
      "Data columns (total 3 columns):\n",
      " #   Column           Dtype  \n",
      "---  ------           -----  \n",
      " 0   passenger_count  int64  \n",
      " 1   trip_distance    float64\n",
      " 2   total_amount     float64\n",
      "dtypes: float64(2), int64(1)\n",
      "memory usage: 175.5 MB\n"
     ]
    }
   ],
   "source": [
    "df.info()"
   ]
  },
  {
   "cell_type": "code",
   "execution_count": 6,
   "id": "cc4ba518-0f55-442e-a0c8-9eda2b927c7e",
   "metadata": {},
   "outputs": [
    {
     "data": {
      "text/html": [
       "<div>\n",
       "<style scoped>\n",
       "    .dataframe tbody tr th:only-of-type {\n",
       "        vertical-align: middle;\n",
       "    }\n",
       "\n",
       "    .dataframe tbody tr th {\n",
       "        vertical-align: top;\n",
       "    }\n",
       "\n",
       "    .dataframe thead th {\n",
       "        text-align: right;\n",
       "    }\n",
       "</style>\n",
       "<table border=\"1\" class=\"dataframe\">\n",
       "  <thead>\n",
       "    <tr style=\"text-align: right;\">\n",
       "      <th></th>\n",
       "      <th>passenger_count</th>\n",
       "      <th>trip_distance</th>\n",
       "      <th>total_amount</th>\n",
       "    </tr>\n",
       "  </thead>\n",
       "  <tbody>\n",
       "    <tr>\n",
       "      <th>0</th>\n",
       "      <td>1</td>\n",
       "      <td>1.5</td>\n",
       "      <td>9.95</td>\n",
       "    </tr>\n",
       "    <tr>\n",
       "      <th>1</th>\n",
       "      <td>1</td>\n",
       "      <td>2.6</td>\n",
       "      <td>16.30</td>\n",
       "    </tr>\n",
       "    <tr>\n",
       "      <th>2</th>\n",
       "      <td>3</td>\n",
       "      <td>0.0</td>\n",
       "      <td>5.80</td>\n",
       "    </tr>\n",
       "  </tbody>\n",
       "</table>\n",
       "</div>"
      ],
      "text/plain": [
       "   passenger_count  trip_distance  total_amount\n",
       "0                1            1.5          9.95\n",
       "1                1            2.6         16.30\n",
       "2                3            0.0          5.80"
      ]
     },
     "execution_count": 6,
     "metadata": {},
     "output_type": "execute_result"
    }
   ],
   "source": [
    "df.head(3)"
   ]
  },
  {
   "cell_type": "code",
   "execution_count": 20,
   "id": "101ca2b3-e980-4447-bb6b-a9e0ec15ef0c",
   "metadata": {},
   "outputs": [
    {
     "data": {
      "text/plain": [
       "290.00999999999993"
      ]
     },
     "execution_count": 20,
     "metadata": {},
     "output_type": "execute_result"
    }
   ],
   "source": [
    "df.sort_values('trip_distance', ascending=False).head(20)['total_amount'].mean()"
   ]
  },
  {
   "cell_type": "code",
   "execution_count": 31,
   "id": "fa3a453b-0f26-4f2c-9ba6-0c411b1250ac",
   "metadata": {},
   "outputs": [
    {
     "data": {
      "text/plain": [
       "290.00999999999993"
      ]
     },
     "execution_count": 31,
     "metadata": {},
     "output_type": "execute_result"
    }
   ],
   "source": [
    "df.sort_values('trip_distance', ascending=False)['total_amount'].iloc[:20].mean()"
   ]
  },
  {
   "cell_type": "code",
   "execution_count": 16,
   "id": "460c8426-0905-41f6-a4f7-c7bd132c6414",
   "metadata": {},
   "outputs": [
    {
     "data": {
      "text/html": [
       "<div>\n",
       "<style scoped>\n",
       "    .dataframe tbody tr th:only-of-type {\n",
       "        vertical-align: middle;\n",
       "    }\n",
       "\n",
       "    .dataframe tbody tr th {\n",
       "        vertical-align: top;\n",
       "    }\n",
       "\n",
       "    .dataframe thead th {\n",
       "        text-align: right;\n",
       "    }\n",
       "</style>\n",
       "<table border=\"1\" class=\"dataframe\">\n",
       "  <thead>\n",
       "    <tr style=\"text-align: right;\">\n",
       "      <th></th>\n",
       "      <th>passenger_count</th>\n",
       "      <th>trip_distance</th>\n",
       "      <th>total_amount</th>\n",
       "    </tr>\n",
       "  </thead>\n",
       "  <tbody>\n",
       "    <tr>\n",
       "      <th>7667791</th>\n",
       "      <td>1</td>\n",
       "      <td>0.00</td>\n",
       "      <td>0.00</td>\n",
       "    </tr>\n",
       "    <tr>\n",
       "      <th>4863796</th>\n",
       "      <td>0</td>\n",
       "      <td>0.00</td>\n",
       "      <td>3.30</td>\n",
       "    </tr>\n",
       "    <tr>\n",
       "      <th>4863795</th>\n",
       "      <td>2</td>\n",
       "      <td>0.00</td>\n",
       "      <td>3.30</td>\n",
       "    </tr>\n",
       "    <tr>\n",
       "      <th>4863794</th>\n",
       "      <td>2</td>\n",
       "      <td>0.00</td>\n",
       "      <td>3.30</td>\n",
       "    </tr>\n",
       "    <tr>\n",
       "      <th>4863793</th>\n",
       "      <td>1</td>\n",
       "      <td>0.00</td>\n",
       "      <td>3.30</td>\n",
       "    </tr>\n",
       "    <tr>\n",
       "      <th>...</th>\n",
       "      <td>...</td>\n",
       "      <td>...</td>\n",
       "      <td>...</td>\n",
       "    </tr>\n",
       "    <tr>\n",
       "      <th>4881766</th>\n",
       "      <td>1</td>\n",
       "      <td>201.27</td>\n",
       "      <td>152.46</td>\n",
       "    </tr>\n",
       "    <tr>\n",
       "      <th>4707513</th>\n",
       "      <td>2</td>\n",
       "      <td>211.36</td>\n",
       "      <td>56.56</td>\n",
       "    </tr>\n",
       "    <tr>\n",
       "      <th>6770897</th>\n",
       "      <td>5</td>\n",
       "      <td>214.01</td>\n",
       "      <td>761.80</td>\n",
       "    </tr>\n",
       "    <tr>\n",
       "      <th>4286612</th>\n",
       "      <td>1</td>\n",
       "      <td>700.70</td>\n",
       "      <td>9.00</td>\n",
       "    </tr>\n",
       "    <tr>\n",
       "      <th>6074021</th>\n",
       "      <td>1</td>\n",
       "      <td>831.80</td>\n",
       "      <td>11.76</td>\n",
       "    </tr>\n",
       "  </tbody>\n",
       "</table>\n",
       "<p>7667792 rows × 3 columns</p>\n",
       "</div>"
      ],
      "text/plain": [
       "         passenger_count  trip_distance  total_amount\n",
       "7667791                1           0.00          0.00\n",
       "4863796                0           0.00          3.30\n",
       "4863795                2           0.00          3.30\n",
       "4863794                2           0.00          3.30\n",
       "4863793                1           0.00          3.30\n",
       "...                  ...            ...           ...\n",
       "4881766                1         201.27        152.46\n",
       "4707513                2         211.36         56.56\n",
       "6770897                5         214.01        761.80\n",
       "4286612                1         700.70          9.00\n",
       "6074021                1         831.80         11.76\n",
       "\n",
       "[7667792 rows x 3 columns]"
      ]
     },
     "execution_count": 16,
     "metadata": {},
     "output_type": "execute_result"
    }
   ],
   "source": [
    "df.sort_values('trip_distance', ascending=True)"
   ]
  },
  {
   "cell_type": "code",
   "execution_count": 22,
   "id": "afa7d664-5250-4ed2-a539-3df79b7ebdd0",
   "metadata": {},
   "outputs": [
    {
     "data": {
      "text/plain": [
       "290.01000000000005"
      ]
     },
     "execution_count": 22,
     "metadata": {},
     "output_type": "execute_result"
    }
   ],
   "source": [
    "df.sort_values('trip_distance', ascending=True)['total_amount'].tail(20).mean()"
   ]
  },
  {
   "cell_type": "code",
   "execution_count": 32,
   "id": "7f6d11ed-6edb-4b8c-9160-41f361f19001",
   "metadata": {},
   "outputs": [
    {
     "data": {
      "text/plain": [
       "290.01"
      ]
     },
     "execution_count": 32,
     "metadata": {},
     "output_type": "execute_result"
    }
   ],
   "source": [
    "df.sort_values('trip_distance', ascending=True)['total_amount'].iloc[-20:].mean().round(2)"
   ]
  },
  {
   "cell_type": "code",
   "execution_count": 38,
   "id": "66d257ec-2a02-4457-99c5-03b2ae71816f",
   "metadata": {},
   "outputs": [],
   "source": [
    "# np.float128 not implemented!\n",
    "# df = pd.read_csv('../data/nyc_taxi_2019-01.csv', usecols=cols, \n",
    "#                dtype={'total_amount': np.float128})"
   ]
  },
  {
   "cell_type": "markdown",
   "id": "0c2fcbcb-60ad-4737-a14f-e8c1c827ae16",
   "metadata": {},
   "source": [
    "Sort by ascending passenger count and descending trip distance. (So, start with\n",
    "the longest trip with 0 passengers and end with the shortest trip with 9 passen-\n",
    "gers.) What is the average price paid for the top 50 rides?"
   ]
  },
  {
   "cell_type": "code",
   "execution_count": 41,
   "id": "526a0dff-956a-4ad6-aef0-a0e78d77a8eb",
   "metadata": {},
   "outputs": [
    {
     "data": {
      "text/plain": [
       "passenger_count      0.0000\n",
       "trip_distance       35.0790\n",
       "total_amount       135.4974\n",
       "dtype: float64"
      ]
     },
     "execution_count": 41,
     "metadata": {},
     "output_type": "execute_result"
    }
   ],
   "source": [
    "df.sort_values(['passenger_count', 'trip_distance'], ascending=[True, False]).iloc[:50].mean()"
   ]
  },
  {
   "cell_type": "markdown",
   "id": "2ce52f1a-40f5-4f81-afb1-d03d6572a104",
   "metadata": {},
   "source": [
    "### Beyond 1\n",
    " In which five rides did people pay the most per mile? How far did people go on\n",
    "those trips?"
   ]
  },
  {
   "cell_type": "code",
   "execution_count": 46,
   "id": "3879c241-5cad-4837-8d2f-6c2bfe159133",
   "metadata": {},
   "outputs": [
    {
     "data": {
      "text/html": [
       "<div>\n",
       "<style scoped>\n",
       "    .dataframe tbody tr th:only-of-type {\n",
       "        vertical-align: middle;\n",
       "    }\n",
       "\n",
       "    .dataframe tbody tr th {\n",
       "        vertical-align: top;\n",
       "    }\n",
       "\n",
       "    .dataframe thead th {\n",
       "        text-align: right;\n",
       "    }\n",
       "</style>\n",
       "<table border=\"1\" class=\"dataframe\">\n",
       "  <thead>\n",
       "    <tr style=\"text-align: right;\">\n",
       "      <th></th>\n",
       "      <th>passenger_count</th>\n",
       "      <th>trip_distance</th>\n",
       "      <th>total_amount</th>\n",
       "      <th>amt_per_mile</th>\n",
       "    </tr>\n",
       "  </thead>\n",
       "  <tbody>\n",
       "    <tr>\n",
       "      <th>0</th>\n",
       "      <td>1</td>\n",
       "      <td>1.50</td>\n",
       "      <td>9.95</td>\n",
       "      <td>6.633333</td>\n",
       "    </tr>\n",
       "    <tr>\n",
       "      <th>1</th>\n",
       "      <td>1</td>\n",
       "      <td>2.60</td>\n",
       "      <td>16.30</td>\n",
       "      <td>6.269231</td>\n",
       "    </tr>\n",
       "    <tr>\n",
       "      <th>7</th>\n",
       "      <td>1</td>\n",
       "      <td>1.30</td>\n",
       "      <td>9.05</td>\n",
       "      <td>6.961538</td>\n",
       "    </tr>\n",
       "    <tr>\n",
       "      <th>8</th>\n",
       "      <td>1</td>\n",
       "      <td>3.70</td>\n",
       "      <td>18.50</td>\n",
       "      <td>5.000000</td>\n",
       "    </tr>\n",
       "    <tr>\n",
       "      <th>9</th>\n",
       "      <td>2</td>\n",
       "      <td>2.10</td>\n",
       "      <td>13.00</td>\n",
       "      <td>6.190476</td>\n",
       "    </tr>\n",
       "    <tr>\n",
       "      <th>...</th>\n",
       "      <td>...</td>\n",
       "      <td>...</td>\n",
       "      <td>...</td>\n",
       "      <td>...</td>\n",
       "    </tr>\n",
       "    <tr>\n",
       "      <th>7667783</th>\n",
       "      <td>2</td>\n",
       "      <td>4.15</td>\n",
       "      <td>15.80</td>\n",
       "      <td>3.807229</td>\n",
       "    </tr>\n",
       "    <tr>\n",
       "      <th>7667784</th>\n",
       "      <td>1</td>\n",
       "      <td>1.34</td>\n",
       "      <td>9.30</td>\n",
       "      <td>6.940299</td>\n",
       "    </tr>\n",
       "    <tr>\n",
       "      <th>7667785</th>\n",
       "      <td>1</td>\n",
       "      <td>1.45</td>\n",
       "      <td>14.16</td>\n",
       "      <td>9.765517</td>\n",
       "    </tr>\n",
       "    <tr>\n",
       "      <th>7667786</th>\n",
       "      <td>2</td>\n",
       "      <td>4.28</td>\n",
       "      <td>21.96</td>\n",
       "      <td>5.130841</td>\n",
       "    </tr>\n",
       "    <tr>\n",
       "      <th>7667787</th>\n",
       "      <td>1</td>\n",
       "      <td>4.79</td>\n",
       "      <td>23.16</td>\n",
       "      <td>4.835073</td>\n",
       "    </tr>\n",
       "  </tbody>\n",
       "</table>\n",
       "<p>7613022 rows × 4 columns</p>\n",
       "</div>"
      ],
      "text/plain": [
       "         passenger_count  trip_distance  total_amount  amt_per_mile\n",
       "0                      1           1.50          9.95      6.633333\n",
       "1                      1           2.60         16.30      6.269231\n",
       "7                      1           1.30          9.05      6.961538\n",
       "8                      1           3.70         18.50      5.000000\n",
       "9                      2           2.10         13.00      6.190476\n",
       "...                  ...            ...           ...           ...\n",
       "7667783                2           4.15         15.80      3.807229\n",
       "7667784                1           1.34          9.30      6.940299\n",
       "7667785                1           1.45         14.16      9.765517\n",
       "7667786                2           4.28         21.96      5.130841\n",
       "7667787                1           4.79         23.16      4.835073\n",
       "\n",
       "[7613022 rows x 4 columns]"
      ]
     },
     "execution_count": 46,
     "metadata": {},
     "output_type": "execute_result"
    }
   ],
   "source": [
    "# remove zero-length trips\n",
    "df = df.loc[df['trip_distance'] != 0]\n",
    "df"
   ]
  },
  {
   "cell_type": "code",
   "execution_count": 47,
   "id": "f07e4bcb-4d6b-4ae7-bb64-cb110e57a3ba",
   "metadata": {},
   "outputs": [
    {
     "data": {
      "text/html": [
       "<div>\n",
       "<style scoped>\n",
       "    .dataframe tbody tr th:only-of-type {\n",
       "        vertical-align: middle;\n",
       "    }\n",
       "\n",
       "    .dataframe tbody tr th {\n",
       "        vertical-align: top;\n",
       "    }\n",
       "\n",
       "    .dataframe thead th {\n",
       "        text-align: right;\n",
       "    }\n",
       "</style>\n",
       "<table border=\"1\" class=\"dataframe\">\n",
       "  <thead>\n",
       "    <tr style=\"text-align: right;\">\n",
       "      <th></th>\n",
       "      <th>passenger_count</th>\n",
       "      <th>trip_distance</th>\n",
       "      <th>total_amount</th>\n",
       "      <th>amt_per_mile</th>\n",
       "    </tr>\n",
       "  </thead>\n",
       "  <tbody>\n",
       "    <tr>\n",
       "      <th>2499600</th>\n",
       "      <td>1</td>\n",
       "      <td>2.40</td>\n",
       "      <td>623261.66</td>\n",
       "      <td>259692.358333</td>\n",
       "    </tr>\n",
       "    <tr>\n",
       "      <th>478791</th>\n",
       "      <td>1</td>\n",
       "      <td>0.10</td>\n",
       "      <td>6667.45</td>\n",
       "      <td>66674.500000</td>\n",
       "    </tr>\n",
       "    <tr>\n",
       "      <th>7099014</th>\n",
       "      <td>4</td>\n",
       "      <td>0.01</td>\n",
       "      <td>415.30</td>\n",
       "      <td>41530.000000</td>\n",
       "    </tr>\n",
       "    <tr>\n",
       "      <th>6403254</th>\n",
       "      <td>1</td>\n",
       "      <td>0.01</td>\n",
       "      <td>322.30</td>\n",
       "      <td>32230.000000</td>\n",
       "    </tr>\n",
       "    <tr>\n",
       "      <th>4136499</th>\n",
       "      <td>1</td>\n",
       "      <td>0.01</td>\n",
       "      <td>273.96</td>\n",
       "      <td>27396.000000</td>\n",
       "    </tr>\n",
       "  </tbody>\n",
       "</table>\n",
       "</div>"
      ],
      "text/plain": [
       "         passenger_count  trip_distance  total_amount   amt_per_mile\n",
       "2499600                1           2.40     623261.66  259692.358333\n",
       "478791                 1           0.10       6667.45   66674.500000\n",
       "7099014                4           0.01        415.30   41530.000000\n",
       "6403254                1           0.01        322.30   32230.000000\n",
       "4136499                1           0.01        273.96   27396.000000"
      ]
     },
     "execution_count": 47,
     "metadata": {},
     "output_type": "execute_result"
    }
   ],
   "source": [
    "df['amt_per_mile'] = df['total_amount'] / df['trip_distance']\n",
    "df.sort_values('amt_per_mile', ascending=False).head()"
   ]
  },
  {
   "cell_type": "markdown",
   "id": "d27f5eaf-eb4a-4832-9485-2845b03db3a6",
   "metadata": {},
   "source": [
    "### Beyond 2\n",
    "Let’s assume that multipassenger rides are split evenly among the passengers.\n",
    "Given that assumption, in which 10 multipassenger rides did each individual\n",
    "pay the greatest amount?"
   ]
  },
  {
   "cell_type": "code",
   "execution_count": 52,
   "id": "5ba03922-2278-4923-b3a4-44a3eb8fc521",
   "metadata": {},
   "outputs": [
    {
     "data": {
      "text/html": [
       "<div>\n",
       "<style scoped>\n",
       "    .dataframe tbody tr th:only-of-type {\n",
       "        vertical-align: middle;\n",
       "    }\n",
       "\n",
       "    .dataframe tbody tr th {\n",
       "        vertical-align: top;\n",
       "    }\n",
       "\n",
       "    .dataframe thead th {\n",
       "        text-align: right;\n",
       "    }\n",
       "</style>\n",
       "<table border=\"1\" class=\"dataframe\">\n",
       "  <thead>\n",
       "    <tr style=\"text-align: right;\">\n",
       "      <th></th>\n",
       "      <th>passenger_count</th>\n",
       "      <th>trip_distance</th>\n",
       "      <th>total_amount</th>\n",
       "    </tr>\n",
       "  </thead>\n",
       "  <tbody>\n",
       "    <tr>\n",
       "      <th>0</th>\n",
       "      <td>1</td>\n",
       "      <td>1.5</td>\n",
       "      <td>9.95</td>\n",
       "    </tr>\n",
       "    <tr>\n",
       "      <th>1</th>\n",
       "      <td>1</td>\n",
       "      <td>2.6</td>\n",
       "      <td>16.30</td>\n",
       "    </tr>\n",
       "    <tr>\n",
       "      <th>2</th>\n",
       "      <td>3</td>\n",
       "      <td>0.0</td>\n",
       "      <td>5.80</td>\n",
       "    </tr>\n",
       "    <tr>\n",
       "      <th>3</th>\n",
       "      <td>5</td>\n",
       "      <td>0.0</td>\n",
       "      <td>7.55</td>\n",
       "    </tr>\n",
       "    <tr>\n",
       "      <th>4</th>\n",
       "      <td>5</td>\n",
       "      <td>0.0</td>\n",
       "      <td>55.55</td>\n",
       "    </tr>\n",
       "  </tbody>\n",
       "</table>\n",
       "</div>"
      ],
      "text/plain": [
       "   passenger_count  trip_distance  total_amount\n",
       "0                1            1.5          9.95\n",
       "1                1            2.6         16.30\n",
       "2                3            0.0          5.80\n",
       "3                5            0.0          7.55\n",
       "4                5            0.0         55.55"
      ]
     },
     "execution_count": 52,
     "metadata": {},
     "output_type": "execute_result"
    }
   ],
   "source": [
    "df = pd.read_csv('../data/nyc_taxi_2019-01.csv', usecols=cols)\n",
    "df.head()"
   ]
  },
  {
   "cell_type": "code",
   "execution_count": 53,
   "id": "ce976bad-8b91-4ddd-89c6-36c931739473",
   "metadata": {},
   "outputs": [
    {
     "data": {
      "text/plain": [
       "(7667792, 3)"
      ]
     },
     "execution_count": 53,
     "metadata": {},
     "output_type": "execute_result"
    }
   ],
   "source": [
    "df.shape"
   ]
  },
  {
   "cell_type": "code",
   "execution_count": 54,
   "id": "057b17da-095a-4adf-9b32-595f668e10f2",
   "metadata": {},
   "outputs": [
    {
     "data": {
      "text/plain": [
       "(2094290, 3)"
      ]
     },
     "execution_count": 54,
     "metadata": {},
     "output_type": "execute_result"
    }
   ],
   "source": [
    "df = df.loc[df['passenger_count'] > 1]\n",
    "df.shape"
   ]
  },
  {
   "cell_type": "code",
   "execution_count": 55,
   "id": "b3244ec9-5435-4b02-bd33-bc930a10a1c4",
   "metadata": {},
   "outputs": [],
   "source": [
    "df['amt_per_pass'] = df['total_amount'] / df['passenger_count']"
   ]
  },
  {
   "cell_type": "code",
   "execution_count": 58,
   "id": "32bffa49-e995-453c-9ed0-cb8438f19f9a",
   "metadata": {},
   "outputs": [
    {
     "data": {
      "text/html": [
       "<div>\n",
       "<style scoped>\n",
       "    .dataframe tbody tr th:only-of-type {\n",
       "        vertical-align: middle;\n",
       "    }\n",
       "\n",
       "    .dataframe tbody tr th {\n",
       "        vertical-align: top;\n",
       "    }\n",
       "\n",
       "    .dataframe thead th {\n",
       "        text-align: right;\n",
       "    }\n",
       "</style>\n",
       "<table border=\"1\" class=\"dataframe\">\n",
       "  <thead>\n",
       "    <tr style=\"text-align: right;\">\n",
       "      <th></th>\n",
       "      <th>passenger_count</th>\n",
       "      <th>trip_distance</th>\n",
       "      <th>total_amount</th>\n",
       "      <th>amt_per_pass</th>\n",
       "    </tr>\n",
       "  </thead>\n",
       "  <tbody>\n",
       "    <tr>\n",
       "      <th>1154626</th>\n",
       "      <td>2</td>\n",
       "      <td>0.00</td>\n",
       "      <td>400.80</td>\n",
       "      <td>200.400</td>\n",
       "    </tr>\n",
       "    <tr>\n",
       "      <th>4751745</th>\n",
       "      <td>2</td>\n",
       "      <td>100.78</td>\n",
       "      <td>403.50</td>\n",
       "      <td>201.750</td>\n",
       "    </tr>\n",
       "    <tr>\n",
       "      <th>6496403</th>\n",
       "      <td>2</td>\n",
       "      <td>0.00</td>\n",
       "      <td>410.95</td>\n",
       "      <td>205.475</td>\n",
       "    </tr>\n",
       "    <tr>\n",
       "      <th>6857368</th>\n",
       "      <td>2</td>\n",
       "      <td>0.00</td>\n",
       "      <td>411.36</td>\n",
       "      <td>205.680</td>\n",
       "    </tr>\n",
       "    <tr>\n",
       "      <th>5726185</th>\n",
       "      <td>2</td>\n",
       "      <td>65.05</td>\n",
       "      <td>416.82</td>\n",
       "      <td>208.410</td>\n",
       "    </tr>\n",
       "    <tr>\n",
       "      <th>149362</th>\n",
       "      <td>2</td>\n",
       "      <td>17.20</td>\n",
       "      <td>426.80</td>\n",
       "      <td>213.400</td>\n",
       "    </tr>\n",
       "    <tr>\n",
       "      <th>7593395</th>\n",
       "      <td>2</td>\n",
       "      <td>83.61</td>\n",
       "      <td>449.32</td>\n",
       "      <td>224.660</td>\n",
       "    </tr>\n",
       "    <tr>\n",
       "      <th>3842620</th>\n",
       "      <td>2</td>\n",
       "      <td>110.04</td>\n",
       "      <td>515.82</td>\n",
       "      <td>257.910</td>\n",
       "    </tr>\n",
       "    <tr>\n",
       "      <th>3014027</th>\n",
       "      <td>2</td>\n",
       "      <td>16.60</td>\n",
       "      <td>560.76</td>\n",
       "      <td>280.380</td>\n",
       "    </tr>\n",
       "    <tr>\n",
       "      <th>2972145</th>\n",
       "      <td>2</td>\n",
       "      <td>19.90</td>\n",
       "      <td>589.96</td>\n",
       "      <td>294.980</td>\n",
       "    </tr>\n",
       "  </tbody>\n",
       "</table>\n",
       "</div>"
      ],
      "text/plain": [
       "         passenger_count  trip_distance  total_amount  amt_per_pass\n",
       "1154626                2           0.00        400.80       200.400\n",
       "4751745                2         100.78        403.50       201.750\n",
       "6496403                2           0.00        410.95       205.475\n",
       "6857368                2           0.00        411.36       205.680\n",
       "5726185                2          65.05        416.82       208.410\n",
       "149362                 2          17.20        426.80       213.400\n",
       "7593395                2          83.61        449.32       224.660\n",
       "3842620                2         110.04        515.82       257.910\n",
       "3014027                2          16.60        560.76       280.380\n",
       "2972145                2          19.90        589.96       294.980"
      ]
     },
     "execution_count": 58,
     "metadata": {},
     "output_type": "execute_result"
    }
   ],
   "source": [
    "df.sort_values('amt_per_pass', ascending=True).tail(10)"
   ]
  },
  {
   "cell_type": "markdown",
   "id": "0b115fa3-502e-4520-9d30-650bf47f0835",
   "metadata": {},
   "source": [
    "### Beyond 3\n",
    "In the exercise solution, I showed that we needed to use iloc or head/tail to\n",
    "retrieve the first/last 20 rows because the index was scrambled after our sort\n",
    "operation. But you can pass ignore_index=True to sort_values: then the\n",
    "resulting data frame has a numeric index starting at 0. Use this option and loc\n",
    "to get the mean total_amount for the 20 longest trips.\n",
    "\n",
    "Result differs from provided solution, which selects 21 trips."
   ]
  },
  {
   "cell_type": "code",
   "execution_count": 59,
   "id": "a3b86147-2dea-4662-bb7f-b21d71eb12ad",
   "metadata": {},
   "outputs": [
    {
     "data": {
      "text/html": [
       "<div>\n",
       "<style scoped>\n",
       "    .dataframe tbody tr th:only-of-type {\n",
       "        vertical-align: middle;\n",
       "    }\n",
       "\n",
       "    .dataframe tbody tr th {\n",
       "        vertical-align: top;\n",
       "    }\n",
       "\n",
       "    .dataframe thead th {\n",
       "        text-align: right;\n",
       "    }\n",
       "</style>\n",
       "<table border=\"1\" class=\"dataframe\">\n",
       "  <thead>\n",
       "    <tr style=\"text-align: right;\">\n",
       "      <th></th>\n",
       "      <th>passenger_count</th>\n",
       "      <th>trip_distance</th>\n",
       "      <th>total_amount</th>\n",
       "    </tr>\n",
       "  </thead>\n",
       "  <tbody>\n",
       "    <tr>\n",
       "      <th>0</th>\n",
       "      <td>1</td>\n",
       "      <td>1.5</td>\n",
       "      <td>9.95</td>\n",
       "    </tr>\n",
       "    <tr>\n",
       "      <th>1</th>\n",
       "      <td>1</td>\n",
       "      <td>2.6</td>\n",
       "      <td>16.30</td>\n",
       "    </tr>\n",
       "    <tr>\n",
       "      <th>2</th>\n",
       "      <td>3</td>\n",
       "      <td>0.0</td>\n",
       "      <td>5.80</td>\n",
       "    </tr>\n",
       "    <tr>\n",
       "      <th>3</th>\n",
       "      <td>5</td>\n",
       "      <td>0.0</td>\n",
       "      <td>7.55</td>\n",
       "    </tr>\n",
       "    <tr>\n",
       "      <th>4</th>\n",
       "      <td>5</td>\n",
       "      <td>0.0</td>\n",
       "      <td>55.55</td>\n",
       "    </tr>\n",
       "  </tbody>\n",
       "</table>\n",
       "</div>"
      ],
      "text/plain": [
       "   passenger_count  trip_distance  total_amount\n",
       "0                1            1.5          9.95\n",
       "1                1            2.6         16.30\n",
       "2                3            0.0          5.80\n",
       "3                5            0.0          7.55\n",
       "4                5            0.0         55.55"
      ]
     },
     "execution_count": 59,
     "metadata": {},
     "output_type": "execute_result"
    }
   ],
   "source": [
    "df = pd.read_csv('../data/nyc_taxi_2019-01.csv', usecols=cols)\n",
    "df.head()"
   ]
  },
  {
   "cell_type": "code",
   "execution_count": 65,
   "id": "67a36467-3899-47bc-8276-1bf62e569df0",
   "metadata": {},
   "outputs": [
    {
     "data": {
      "text/plain": [
       "20"
      ]
     },
     "execution_count": 65,
     "metadata": {},
     "output_type": "execute_result"
    }
   ],
   "source": [
    "len(df.sort_values('trip_distance', ascending=False, ignore_index=True).loc[:19])"
   ]
  },
  {
   "cell_type": "code",
   "execution_count": 67,
   "id": "50e16059-4c1e-4fee-bac7-11b1911e561f",
   "metadata": {},
   "outputs": [
    {
     "data": {
      "text/plain": [
       "290.00999999999993"
      ]
     },
     "execution_count": 67,
     "metadata": {},
     "output_type": "execute_result"
    }
   ],
   "source": [
    "df.sort_values('trip_distance', ascending=False, ignore_index=True).loc[:19, 'total_amount'].mean()"
   ]
  },
  {
   "cell_type": "code",
   "execution_count": 72,
   "id": "4ce9c0c6-a262-41e7-b06c-3df938cf843a",
   "metadata": {},
   "outputs": [
    {
     "data": {
      "text/plain": [
       "290.00999999999993"
      ]
     },
     "execution_count": 72,
     "metadata": {},
     "output_type": "execute_result"
    }
   ],
   "source": [
    "df.sort_values('trip_distance', ascending=False, ignore_index=True)['total_amount'].loc[:19,].mean()\n"
   ]
  },
  {
   "cell_type": "code",
   "execution_count": 71,
   "id": "a8edeab7-3dec-4a80-a709-a3a280abc846",
   "metadata": {},
   "outputs": [
    {
     "data": {
      "text/plain": [
       "21"
      ]
     },
     "execution_count": 71,
     "metadata": {},
     "output_type": "execute_result"
    }
   ],
   "source": [
    "# provided solution has 21 values!\n",
    "df.sort_values('trip_distance',\n",
    "                ascending=False,\n",
    "              ignore_index=True)['total_amount'].loc[:20].count()"
   ]
  },
  {
   "cell_type": "code",
   "execution_count": null,
   "id": "9320f692-37a0-4c58-b8fd-76ac15915342",
   "metadata": {},
   "outputs": [],
   "source": []
  }
 ],
 "metadata": {
  "kernelspec": {
   "display_name": "Python [conda env:py311b]",
   "language": "python",
   "name": "conda-env-py311b-py"
  },
  "language_info": {
   "codemirror_mode": {
    "name": "ipython",
    "version": 3
   },
   "file_extension": ".py",
   "mimetype": "text/x-python",
   "name": "python",
   "nbconvert_exporter": "python",
   "pygments_lexer": "ipython3",
   "version": "3.11.13"
  },
  "widgets": {
   "application/vnd.jupyter.widget-state+json": {
    "state": {},
    "version_major": 2,
    "version_minor": 0
   }
  }
 },
 "nbformat": 4,
 "nbformat_minor": 5
}
