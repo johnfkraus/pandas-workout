{
 "cells": [
  {
   "cell_type": "code",
   "execution_count": 1,
   "id": "c7aacfc6-3e38-435e-b522-429e59ecc9fa",
   "metadata": {},
   "outputs": [],
   "source": [
    "import pandas as pd\n",
    "import numpy as np\n",
    "from pandas import Series, DataFrame"
   ]
  },
  {
   "cell_type": "code",
   "execution_count": 3,
   "id": "bda0ee70-7999-4260-be45-2b9a23f7ecd5",
   "metadata": {},
   "outputs": [],
   "source": [
    "g = np.random.default_rng(0)"
   ]
  },
  {
   "cell_type": "code",
   "execution_count": 15,
   "id": "f0989b5a-8abd-46f0-a346-d22acec9acc7",
   "metadata": {},
   "outputs": [
    {
     "data": {
      "text/plain": [
       "['Sun', 'Mon', 'Tue', 'Wed', 'Thu', 'Fri', 'Sat', 'Sun', 'Mon']"
      ]
     },
     "execution_count": 15,
     "metadata": {},
     "output_type": "execute_result"
    }
   ],
   "source": [
    "days = 'Sun Mon Tue Wed Thu Fri Sat'.split() * 4\n",
    "# days_ser = Series(days, index=days*4)\n",
    "days[:9]"
   ]
  },
  {
   "cell_type": "code",
   "execution_count": 16,
   "id": "e4a40b5a-4012-48de-a127-05b73cd1d247",
   "metadata": {},
   "outputs": [
    {
     "data": {
      "text/plain": [
       "Sun    13.611599\n",
       "Mon    23.152057\n",
       "Tue    22.905829\n",
       "Wed    26.472794\n",
       "Thu    16.226971\n",
       "Fri    28.445537\n",
       "Sat    18.563061\n",
       "Sun    27.872041\n",
       "Mon    17.836071\n",
       "Tue    16.322584\n",
       "Wed    21.248927\n",
       "Thu    25.157265\n",
       "Fri    20.805048\n",
       "Sat    17.072356\n",
       "Sun    13.293901\n",
       "Mon    12.992399\n",
       "Tue    22.513414\n",
       "Wed    24.948565\n",
       "Thu    19.178527\n",
       "Fri    14.628176\n",
       "Sat    24.365211\n",
       "Sun    13.598030\n",
       "Mon    16.434660\n",
       "Tue    23.105089\n",
       "Wed     8.749294\n",
       "Thu    21.931848\n",
       "Fri    17.091796\n",
       "Sat    20.546398\n",
       "dtype: float64"
      ]
     },
     "execution_count": 16,
     "metadata": {},
     "output_type": "execute_result"
    }
   ],
   "source": [
    "s = Series(g.normal(20, 5, 28),index=days)\n",
    "s"
   ]
  },
  {
   "cell_type": "code",
   "execution_count": 19,
   "id": "4c83e479-8356-4bc5-950f-d8e2183fa4c8",
   "metadata": {},
   "outputs": [],
   "source": [
    "s = s.round(0).astype(np.int8)"
   ]
  },
  {
   "cell_type": "code",
   "execution_count": 20,
   "id": "33daf3dd-bc88-4028-9f4a-6ae378f02b42",
   "metadata": {},
   "outputs": [
    {
     "data": {
      "text/plain": [
       "Sun    14\n",
       "Mon    23\n",
       "Tue    23\n",
       "Wed    26\n",
       "Thu    16\n",
       "Fri    28\n",
       "Sat    19\n",
       "Sun    28\n",
       "Mon    18\n",
       "Tue    16\n",
       "Wed    21\n",
       "Thu    25\n",
       "Fri    21\n",
       "Sat    17\n",
       "Sun    13\n",
       "Mon    13\n",
       "Tue    23\n",
       "Wed    25\n",
       "Thu    19\n",
       "Fri    15\n",
       "Sat    24\n",
       "Sun    14\n",
       "Mon    16\n",
       "Tue    23\n",
       "Wed     9\n",
       "Thu    22\n",
       "Fri    17\n",
       "Sat    21\n",
       "dtype: int8"
      ]
     },
     "execution_count": 20,
     "metadata": {},
     "output_type": "execute_result"
    }
   ],
   "source": [
    "s"
   ]
  },
  {
   "cell_type": "code",
   "execution_count": 21,
   "id": "dc98ea77-7705-45cb-99cc-f3ff3f9083e3",
   "metadata": {},
   "outputs": [
    {
     "data": {
      "text/plain": [
       "Mon    23\n",
       "Mon    18\n",
       "Mon    13\n",
       "Mon    16\n",
       "dtype: int8"
      ]
     },
     "execution_count": 21,
     "metadata": {},
     "output_type": "execute_result"
    }
   ],
   "source": [
    "s.loc['Mon']"
   ]
  },
  {
   "cell_type": "markdown",
   "id": "0da474f7-d8cd-47d1-bbbb-aa8692b4a808",
   "metadata": {},
   "source": [
    "Average weekend temp?"
   ]
  },
  {
   "cell_type": "code",
   "execution_count": 30,
   "id": "70ed8687-8622-4efc-bfb2-21c2ce68e580",
   "metadata": {},
   "outputs": [
    {
     "data": {
      "text/plain": [
       "np.float64(18.75)"
      ]
     },
     "execution_count": 30,
     "metadata": {},
     "output_type": "execute_result"
    }
   ],
   "source": [
    "s[(s.index == 'Sat') | (s.index == 'Sun')].mean()"
   ]
  },
  {
   "cell_type": "code",
   "execution_count": 24,
   "id": "c9b93338-01cd-4352-a039-0ac49019c936",
   "metadata": {},
   "outputs": [],
   "source": [
    "s[(s.loc['Sat']) | (s.loc['Sun'])]\n",
    "\n",
    "#s[(s.loc['Sat']) | (s.loc['Sun'])]"
   ]
  },
  {
   "cell_type": "code",
   "execution_count": 34,
   "id": "7b7bf4da-e7a0-4c7f-ae90-2f74aad19e16",
   "metadata": {},
   "outputs": [
    {
     "data": {
      "text/plain": [
       "np.float64(18.75)"
      ]
     },
     "execution_count": 34,
     "metadata": {},
     "output_type": "execute_result"
    }
   ],
   "source": [
    "s.loc[['Sat', 'Sun']].mean()"
   ]
  },
  {
   "cell_type": "code",
   "execution_count": 35,
   "id": "633a5ca8-4343-4d87-a30d-85b7678cdd24",
   "metadata": {},
   "outputs": [
    {
     "data": {
      "text/plain": [
       "Mon    23\n",
       "Wed    26\n",
       "Fri    28\n",
       "Sun    28\n",
       "Wed    21\n",
       "Thu    25\n",
       "Tue    23\n",
       "Sat    24\n",
       "Tue    23\n",
       "Thu    22\n",
       "Sat    21\n",
       "dtype: int8"
      ]
     },
     "execution_count": 35,
     "metadata": {},
     "output_type": "execute_result"
    }
   ],
   "source": [
    "s[s.diff() > 2]"
   ]
  },
  {
   "cell_type": "code",
   "execution_count": 37,
   "id": "8baef724-6dcb-4e29-9c12-df449900ec55",
   "metadata": {},
   "outputs": [
    {
     "data": {
      "text/plain": [
       "23    4\n",
       "16    3\n",
       "Name: count, dtype: int64"
      ]
     },
     "execution_count": 37,
     "metadata": {},
     "output_type": "execute_result"
    }
   ],
   "source": [
    "s.value_counts().head(2)"
   ]
  },
  {
   "cell_type": "code",
   "execution_count": null,
   "id": "0168b0ba-6662-4554-b25c-49475e0d9492",
   "metadata": {},
   "outputs": [],
   "source": []
  }
 ],
 "metadata": {
  "kernelspec": {
   "display_name": "Python (py311b)",
   "language": "python",
   "name": "py311b"
  },
  "language_info": {
   "codemirror_mode": {
    "name": "ipython",
    "version": 3
   },
   "file_extension": ".py",
   "mimetype": "text/x-python",
   "name": "python",
   "nbconvert_exporter": "python",
   "pygments_lexer": "ipython3",
   "version": "3.13.5"
  },
  "widgets": {
   "application/vnd.jupyter.widget-state+json": {
    "state": {},
    "version_major": 2,
    "version_minor": 0
   }
  }
 },
 "nbformat": 4,
 "nbformat_minor": 5
}
