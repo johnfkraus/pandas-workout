{
 "cells": [
  {
   "cell_type": "code",
   "execution_count": 20,
   "id": "bf60fb8d-3439-4e86-b471-8512a7ab314f",
   "metadata": {},
   "outputs": [],
   "source": [
    "import pandas as pd\n",
    "import numpy as np\n",
    "from pandas import Series, DataFrame\n",
    "import random"
   ]
  },
  {
   "cell_type": "code",
   "execution_count": 3,
   "id": "13067fd2-00f6-479c-887e-3230ebdce6d4",
   "metadata": {},
   "outputs": [
    {
     "data": {
      "text/plain": [
       "12"
      ]
     },
     "execution_count": 3,
     "metadata": {},
     "output_type": "execute_result"
    }
   ],
   "source": [
    "random.randint(0,100)"
   ]
  },
  {
   "cell_type": "code",
   "execution_count": 100,
   "id": "11495600-eb69-429a-ba5d-6248e0b33fac",
   "metadata": {},
   "outputs": [
    {
     "data": {
      "text/plain": [
       "array([96, 89, 85, 78, 79, 71, 72, 70, 75, 95])"
      ]
     },
     "execution_count": 100,
     "metadata": {},
     "output_type": "execute_result"
    }
   ],
   "source": [
    "g = np.random.default_rng(0)\n",
    "\n",
    "g.integers(70, 101, 10)"
   ]
  },
  {
   "cell_type": "code",
   "execution_count": 26,
   "id": "293a5f8d-af26-41c5-afb7-b212adb9625d",
   "metadata": {},
   "outputs": [],
   "source": [
    "months = 'Sep Oct Nov Dec Jan Feb Mar Apr May Jun'.split()"
   ]
  },
  {
   "cell_type": "code",
   "execution_count": 27,
   "id": "a106c709-935d-4ae7-9893-58e3bf81ab72",
   "metadata": {},
   "outputs": [],
   "source": [
    "s = Series(g.integers(70, 101, 10), index=months)"
   ]
  },
  {
   "cell_type": "code",
   "execution_count": 28,
   "id": "3cb0e9bd-48d3-4416-8e0c-57f77c33eb3e",
   "metadata": {},
   "outputs": [
    {
     "data": {
      "text/plain": [
       "Sep    78\n",
       "Oct    95\n",
       "Nov    90\n",
       "Dec    70\n",
       "Jan    82\n",
       "Feb    96\n",
       "Mar    87\n",
       "Apr    71\n",
       "May    93\n",
       "Jun    92\n",
       "dtype: int64"
      ]
     },
     "execution_count": 28,
     "metadata": {},
     "output_type": "execute_result"
    }
   ],
   "source": [
    "s"
   ]
  },
  {
   "cell_type": "code",
   "execution_count": 31,
   "id": "25b9b30e-c115-4df4-9598-608abf0733f1",
   "metadata": {},
   "outputs": [
    {
     "name": "stdout",
     "output_type": "stream",
     "text": [
      "Yearly average: s.mean()=np.float64(85.4)\n",
      "Yearly average: 85.4\n"
     ]
    }
   ],
   "source": [
    "print(f'Yearly average: {s.mean()=}')\n",
    "print(f'Yearly average: {s.mean()}')"
   ]
  },
  {
   "cell_type": "code",
   "execution_count": 33,
   "id": "d0599a5b-98cb-42cc-b40a-b8b3d80e7667",
   "metadata": {},
   "outputs": [
    {
     "data": {
      "text/plain": [
       "Sep    78\n",
       "Oct    95\n",
       "Nov    90\n",
       "Dec    70\n",
       "Jan    82\n",
       "dtype: int64"
      ]
     },
     "execution_count": 33,
     "metadata": {},
     "output_type": "execute_result"
    }
   ],
   "source": [
    "s[:5]"
   ]
  },
  {
   "cell_type": "code",
   "execution_count": 34,
   "id": "0306654a-5f2f-4659-8656-9b461b100cf1",
   "metadata": {},
   "outputs": [
    {
     "data": {
      "text/plain": [
       "np.float64(83.0)"
      ]
     },
     "execution_count": 34,
     "metadata": {},
     "output_type": "execute_result"
    }
   ],
   "source": [
    "s[:5].mean()"
   ]
  },
  {
   "cell_type": "code",
   "execution_count": 38,
   "id": "62b68c3f-4e8f-4e0b-a6e0-428cd8030a33",
   "metadata": {},
   "outputs": [
    {
     "data": {
      "text/plain": [
       "np.float64(87.8)"
      ]
     },
     "execution_count": 38,
     "metadata": {},
     "output_type": "execute_result"
    }
   ],
   "source": [
    "s[5:].mean()"
   ]
  },
  {
   "cell_type": "code",
   "execution_count": 39,
   "id": "117a0615-b445-4c58-b5f3-b229df3c685e",
   "metadata": {},
   "outputs": [
    {
     "data": {
      "text/plain": [
       "np.float64(83.0)"
      ]
     },
     "execution_count": 39,
     "metadata": {},
     "output_type": "execute_result"
    }
   ],
   "source": [
    "s.iloc[:5].mean()"
   ]
  },
  {
   "cell_type": "code",
   "execution_count": 40,
   "id": "fe5c75b3-6331-4c1c-a6c2-061546bc4046",
   "metadata": {},
   "outputs": [
    {
     "data": {
      "text/plain": [
       "np.float64(87.8)"
      ]
     },
     "execution_count": 40,
     "metadata": {},
     "output_type": "execute_result"
    }
   ],
   "source": [
    "s.iloc[5:].mean()"
   ]
  },
  {
   "cell_type": "code",
   "execution_count": 43,
   "id": "899e32e2-64f9-4278-a91b-4f0078b7875d",
   "metadata": {},
   "outputs": [],
   "source": [
    "first_half_average = s.loc['Sep':'Jan'].mean()"
   ]
  },
  {
   "cell_type": "code",
   "execution_count": 44,
   "id": "fe510f32-4ad7-4323-900b-42b6499c4cb2",
   "metadata": {},
   "outputs": [],
   "source": [
    "second_half_average = s.loc['Feb':'Jun'].mean()"
   ]
  },
  {
   "cell_type": "code",
   "execution_count": 45,
   "id": "a71fe02d-60d0-4825-a107-9a2018bf71b9",
   "metadata": {},
   "outputs": [
    {
     "data": {
      "text/plain": [
       "np.float64(83.0)"
      ]
     },
     "execution_count": 45,
     "metadata": {},
     "output_type": "execute_result"
    }
   ],
   "source": [
    "s.head(5).mean()"
   ]
  },
  {
   "cell_type": "code",
   "execution_count": 47,
   "id": "eedc5942-b2b0-4cb7-bf75-4aeb9de00423",
   "metadata": {},
   "outputs": [
    {
     "name": "stdout",
     "output_type": "stream",
     "text": [
      "First half average: 83.0\n",
      "Second half average: 87.8\n"
     ]
    }
   ],
   "source": [
    "print(f'First half average: {first_half_average}')\n",
    "print(f'Second half average: {second_half_average}')"
   ]
  },
  {
   "cell_type": "code",
   "execution_count": 49,
   "id": "fba174fd-fbec-43a8-9d27-f3071ab4f28a",
   "metadata": {},
   "outputs": [
    {
     "name": "stdout",
     "output_type": "stream",
     "text": [
      "Improvement: 4.799999999999997\n"
     ]
    }
   ],
   "source": [
    "print(f'Improvement: {second_half_average - first_half_average}')"
   ]
  },
  {
   "cell_type": "markdown",
   "id": "6d800b73-2795-45b0-a938-d57a8888aa8f",
   "metadata": {},
   "source": [
    "In what month was the highest score?"
   ]
  },
  {
   "cell_type": "code",
   "execution_count": 58,
   "id": "8046693c-b153-43a4-b406-afb873f11852",
   "metadata": {},
   "outputs": [
    {
     "data": {
      "text/plain": [
       "Feb    96\n",
       "Oct    95\n",
       "May    93\n",
       "Jun    92\n",
       "Nov    90\n",
       "Mar    87\n",
       "Jan    82\n",
       "Sep    78\n",
       "Apr    71\n",
       "Dec    70\n",
       "dtype: int64"
      ]
     },
     "execution_count": 58,
     "metadata": {},
     "output_type": "execute_result"
    }
   ],
   "source": [
    "s.sort_values(ascending=False)"
   ]
  },
  {
   "cell_type": "code",
   "execution_count": 64,
   "id": "0f81737d-7696-441b-abf6-d3b1722473bf",
   "metadata": {},
   "outputs": [
    {
     "data": {
      "text/plain": [
       "np.int64(96)"
      ]
     },
     "execution_count": 64,
     "metadata": {},
     "output_type": "execute_result"
    }
   ],
   "source": [
    "s.sort_values(ascending=False).iloc[0]"
   ]
  },
  {
   "cell_type": "code",
   "execution_count": 65,
   "id": "ad5b5b04-e71a-4f33-8f05-77870b44e069",
   "metadata": {},
   "outputs": [
    {
     "data": {
      "text/plain": [
       "'Feb'"
      ]
     },
     "execution_count": 65,
     "metadata": {},
     "output_type": "execute_result"
    }
   ],
   "source": [
    "s.sort_values(ascending=False).index[0]"
   ]
  },
  {
   "cell_type": "code",
   "execution_count": 69,
   "id": "2e5a00f1-da23-4a3e-b496-ff290b3e335b",
   "metadata": {},
   "outputs": [
    {
     "data": {
      "text/plain": [
       "96"
      ]
     },
     "execution_count": 69,
     "metadata": {},
     "output_type": "execute_result"
    }
   ],
   "source": [
    "s.max()"
   ]
  },
  {
   "cell_type": "code",
   "execution_count": 70,
   "id": "14084f91-cce0-43b5-be4b-d0f326afd5f0",
   "metadata": {},
   "outputs": [
    {
     "data": {
      "text/plain": [
       "Feb    96\n",
       "dtype: int64"
      ]
     },
     "execution_count": 70,
     "metadata": {},
     "output_type": "execute_result"
    }
   ],
   "source": [
    "s[s==s.max()]"
   ]
  },
  {
   "cell_type": "code",
   "execution_count": 67,
   "id": "927e47fd-30c0-475d-a1f0-eb4b4980e6f7",
   "metadata": {},
   "outputs": [
    {
     "data": {
      "text/plain": [
       "'Feb'"
      ]
     },
     "execution_count": 67,
     "metadata": {},
     "output_type": "execute_result"
    }
   ],
   "source": [
    "s[s==s.max()].index[0]"
   ]
  },
  {
   "cell_type": "code",
   "execution_count": 68,
   "id": "fc9cf104-b168-4817-992e-5a6308189f52",
   "metadata": {},
   "outputs": [
    {
     "data": {
      "text/plain": [
       "'Feb'"
      ]
     },
     "execution_count": 68,
     "metadata": {},
     "output_type": "execute_result"
    }
   ],
   "source": [
    "s.idxmax()"
   ]
  },
  {
   "cell_type": "markdown",
   "id": "cd0a956c-6f2e-4960-9345-8a9d284afc1b",
   "metadata": {},
   "source": [
    "Five highest scores"
   ]
  },
  {
   "cell_type": "code",
   "execution_count": 72,
   "id": "ccf600fd-1b12-4608-8e76-d6aecf339625",
   "metadata": {},
   "outputs": [
    {
     "data": {
      "text/plain": [
       "Feb    96\n",
       "Oct    95\n",
       "May    93\n",
       "Jun    92\n",
       "Nov    90\n",
       "Mar    87\n",
       "Jan    82\n",
       "Sep    78\n",
       "Apr    71\n",
       "Dec    70\n",
       "dtype: int64"
      ]
     },
     "execution_count": 72,
     "metadata": {},
     "output_type": "execute_result"
    }
   ],
   "source": [
    "s.sort_values(ascending=False)"
   ]
  },
  {
   "cell_type": "code",
   "execution_count": 73,
   "id": "385d1770-1855-4cf5-98d2-040df836be1f",
   "metadata": {},
   "outputs": [
    {
     "data": {
      "text/plain": [
       "Feb    96\n",
       "Oct    95\n",
       "May    93\n",
       "Jun    92\n",
       "Nov    90\n",
       "dtype: int64"
      ]
     },
     "execution_count": 73,
     "metadata": {},
     "output_type": "execute_result"
    }
   ],
   "source": [
    "s.sort_values(ascending=False).iloc[:5]"
   ]
  },
  {
   "cell_type": "markdown",
   "id": "4662a6b9-1148-4a1d-9810-ac6a2f6fbe1e",
   "metadata": {},
   "source": [
    "Round scores to nearest 10"
   ]
  },
  {
   "cell_type": "code",
   "execution_count": 75,
   "id": "32831927-f610-4f2f-8140-dd062c94b2fc",
   "metadata": {},
   "outputs": [
    {
     "data": {
      "text/plain": [
       "Sep     80\n",
       "Oct    100\n",
       "Nov     90\n",
       "Dec     70\n",
       "Jan     80\n",
       "Feb    100\n",
       "Mar     90\n",
       "Apr     70\n",
       "May     90\n",
       "Jun     90\n",
       "dtype: int64"
      ]
     },
     "execution_count": 75,
     "metadata": {},
     "output_type": "execute_result"
    }
   ],
   "source": [
    "s.round(-1)"
   ]
  },
  {
   "cell_type": "code",
   "execution_count": 77,
   "id": "e3ed132c-0d0b-49e6-8960-b457d7a8b10b",
   "metadata": {},
   "outputs": [
    {
     "data": {
      "text/plain": [
       "Sep    0\n",
       "Oct    0\n",
       "Nov    0\n",
       "Dec    0\n",
       "Jan    0\n",
       "Feb    0\n",
       "Mar    0\n",
       "Apr    0\n",
       "May    0\n",
       "Jun    0\n",
       "dtype: int64"
      ]
     },
     "execution_count": 77,
     "metadata": {},
     "output_type": "execute_result"
    }
   ],
   "source": [
    "s.round(-3)"
   ]
  },
  {
   "cell_type": "code",
   "execution_count": 90,
   "id": "98d8aefc-ad47-4b98-82c9-b1f6608c3565",
   "metadata": {},
   "outputs": [
    {
     "data": {
      "text/plain": [
       "np.float64(84.03999999999999)"
      ]
     },
     "execution_count": 90,
     "metadata": {},
     "output_type": "execute_result"
    }
   ],
   "source": [
    "import math\n",
    "\n",
    "pop_var = ((s - s.mean())**2).sum()/s.count()\n",
    "pop_var"
   ]
  },
  {
   "cell_type": "code",
   "execution_count": 95,
   "id": "33893096-1a17-4716-a27a-675d0d5270f2",
   "metadata": {},
   "outputs": [
    {
     "data": {
      "text/plain": [
       "9.16733330909267"
      ]
     },
     "execution_count": 95,
     "metadata": {},
     "output_type": "execute_result"
    }
   ],
   "source": [
    "pop_sdev = math.sqrt(pop_var)\n",
    "pop_sdev"
   ]
  },
  {
   "cell_type": "code",
   "execution_count": 96,
   "id": "6a6c3a6d-ea25-408f-a045-d551025dfaa8",
   "metadata": {},
   "outputs": [
    {
     "data": {
      "text/plain": [
       "np.float64(93.37777777777778)"
      ]
     },
     "execution_count": 96,
     "metadata": {},
     "output_type": "execute_result"
    }
   ],
   "source": [
    "sample_var = ((s - s.mean())**2).sum()/(s.count() - 1)\n",
    "sample_var"
   ]
  },
  {
   "cell_type": "code",
   "execution_count": 97,
   "id": "0870b24e-ac7f-4af4-a0f2-97f8c438c773",
   "metadata": {},
   "outputs": [
    {
     "data": {
      "text/plain": [
       "9.66321777555374"
      ]
     },
     "execution_count": 97,
     "metadata": {},
     "output_type": "execute_result"
    }
   ],
   "source": [
    "sample_sdev = math.sqrt(sample_var)\n",
    "sample_sdev"
   ]
  },
  {
   "cell_type": "code",
   "execution_count": 98,
   "id": "d3fae564-b74c-46d9-b6a9-f7bbd76af2ef",
   "metadata": {},
   "outputs": [
    {
     "data": {
      "text/plain": [
       "9.66321777555374"
      ]
     },
     "execution_count": 98,
     "metadata": {},
     "output_type": "execute_result"
    }
   ],
   "source": [
    "s.std()"
   ]
  },
  {
   "cell_type": "markdown",
   "id": "236f8f68-eb5e-47a9-a478-6da16f267960",
   "metadata": {},
   "source": [
    "By default, pandas assumes that when we use std() we don’t want to divide by s.count() but rather by s.count() - 1. This is known as the sample standard deviation and is typically used on a sample of the data rather than the entire population. \n",
    "\n",
    "The pandas authors decided to default to this calculation. (NumPy’s std calculation doesn’t do this.)\n",
    "\n",
    "If you want to get the same result that we calculated and that NumPy provides, you can pass a value of 0 to the ddof (delta degrees of freedom) parameter:\n",
    "s.std(ddof=0)"
   ]
  },
  {
   "cell_type": "code",
   "execution_count": 99,
   "id": "e58cdde8-1949-4639-90f0-99b25df867ab",
   "metadata": {},
   "outputs": [
    {
     "data": {
      "text/plain": [
       "9.16733330909267"
      ]
     },
     "execution_count": 99,
     "metadata": {},
     "output_type": "execute_result"
    }
   ],
   "source": [
    "s.std(ddof=0)"
   ]
  },
  {
   "cell_type": "code",
   "execution_count": 105,
   "id": "5364f94c-39a4-4934-87bf-03a755904ff2",
   "metadata": {},
   "outputs": [
    {
     "data": {
      "text/plain": [
       "array([ 0.12573022, -0.13210486,  0.64042265,  0.10490012, -0.53566937,\n",
       "        0.36159505,  1.30400005,  0.94708096, -0.70373524, -1.26542147])"
      ]
     },
     "execution_count": 105,
     "metadata": {},
     "output_type": "execute_result"
    }
   ],
   "source": [
    "g = np.random.default_rng(0)\n",
    "\n",
    "#g.integers(70, 101, 10)\n",
    "ndist = g.normal(0,1,10)\n",
    "ndist"
   ]
  },
  {
   "cell_type": "code",
   "execution_count": 109,
   "id": "65cd75bf-a303-4268-935d-899676779c5a",
   "metadata": {},
   "outputs": [
    {
     "data": {
      "text/plain": [
       "[<matplotlib.lines.Line2D at 0x12ff14f50>]"
      ]
     },
     "execution_count": 109,
     "metadata": {},
     "output_type": "execute_result"
    },
    {
     "data": {
      "image/png": "[encoded data removed]",
      "text/plain": [
       "<Figure size 640x480 with 1 Axes>"
      ]
     },
     "metadata": {},
     "output_type": "display_data"
    }
   ],
   "source": [
    "import seaborn as sns\n",
    "import matplotlib.pyplot as plt\n",
    "plt.plot(ndist)"
   ]
  },
  {
   "cell_type": "code",
   "execution_count": 110,
   "id": "54f951bf-df3f-4fab-bf23-3375b8d5475c",
   "metadata": {},
   "outputs": [
    {
     "data": {
      "text/plain": [
       "'abcdefghijkl'"
      ]
     },
     "execution_count": 110,
     "metadata": {},
     "output_type": "execute_result"
    }
   ],
   "source": [
    "s = Series('abcd efgh ijkl'.split())\n",
    "\n",
    "s.sum()"
   ]
  },
  {
   "cell_type": "code",
   "execution_count": 112,
   "id": "9ea483f6-1414-47d4-aa3d-6028ce5c2a8c",
   "metadata": {},
   "outputs": [],
   "source": [
    "# s.mean()  # type error"
   ]
  },
  {
   "cell_type": "code",
   "execution_count": 116,
   "id": "c9966f27-550d-477e-8fbc-562bb3101563",
   "metadata": {},
   "outputs": [
    {
     "data": {
      "text/plain": [
       "0    10.0\n",
       "1    20.0\n",
       "2    30.0\n",
       "dtype: float64"
      ]
     },
     "execution_count": 116,
     "metadata": {},
     "output_type": "execute_result"
    }
   ],
   "source": [
    "s = Series([10, 20, 30], dtype=np.float64)\n",
    "s"
   ]
  },
  {
   "cell_type": "code",
   "execution_count": 119,
   "id": "997442d4-26fe-49bf-bf1e-49480299b3de",
   "metadata": {},
   "outputs": [
    {
     "data": {
      "text/plain": [
       "0    127\n",
       "dtype: int8"
      ]
     },
     "execution_count": 119,
     "metadata": {},
     "output_type": "execute_result"
    }
   ],
   "source": [
    "s = Series([127], dtype=np.int8)\n",
    "s"
   ]
  },
  {
   "cell_type": "code",
   "execution_count": 120,
   "id": "bccabaa7-b67a-425e-a765-df2cb5a38938",
   "metadata": {},
   "outputs": [
    {
     "data": {
      "text/plain": [
       "0   -128\n",
       "dtype: int8"
      ]
     },
     "execution_count": 120,
     "metadata": {},
     "output_type": "execute_result"
    }
   ],
   "source": [
    "s + 1"
   ]
  },
  {
   "cell_type": "code",
   "execution_count": 122,
   "id": "5f51ab19-99ec-4831-bf77-946890aebc29",
   "metadata": {},
   "outputs": [
    {
     "data": {
      "text/plain": [
       "0    10\n",
       "1    20\n",
       "2    30\n",
       "dtype: object"
      ]
     },
     "execution_count": 122,
     "metadata": {},
     "output_type": "execute_result"
    }
   ],
   "source": [
    "s = Series('10 20 30'.split())\n",
    "s"
   ]
  },
  {
   "cell_type": "code",
   "execution_count": 124,
   "id": "d6143093-87c4-44be-937e-a6f0c3654f16",
   "metadata": {},
   "outputs": [
    {
     "data": {
      "text/plain": [
       "0    10\n",
       "1    20\n",
       "2    30\n",
       "dtype: int64"
      ]
     },
     "execution_count": 124,
     "metadata": {},
     "output_type": "execute_result"
    }
   ],
   "source": [
    "s = s.astype(np.int64)\n",
    "s"
   ]
  },
  {
   "cell_type": "code",
   "execution_count": null,
   "id": "d15e6a14-2b9f-4ece-9ee1-4039d703b46f",
   "metadata": {},
   "outputs": [],
   "source": []
  }
 ],
 "metadata": {
  "kernelspec": {
   "display_name": "Python (py311b)",
   "language": "python",
   "name": "py311b"
  },
  "language_info": {
   "codemirror_mode": {
    "name": "ipython",
    "version": 3
   },
   "file_extension": ".py",
   "mimetype": "text/x-python",
   "name": "python",
   "nbconvert_exporter": "python",
   "pygments_lexer": "ipython3",
   "version": "3.13.5"
  },
  "widgets": {
   "application/vnd.jupyter.widget-state+json": {
    "state": {},
    "version_major": 2,
    "version_minor": 0
   }
  }
 },
 "nbformat": 4,
 "nbformat_minor": 5
}
