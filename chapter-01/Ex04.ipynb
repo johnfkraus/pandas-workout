{
 "cells": [
  {
   "cell_type": "code",
   "execution_count": 1,
   "id": "74fdc903-a038-4415-908f-49ecf7c64a01",
   "metadata": {},
   "outputs": [],
   "source": [
    "import pandas as pd\n",
    "import numpy as np\n",
    "from pandas import Series, DataFrame\n",
    "import random"
   ]
  },
  {
   "cell_type": "code",
   "execution_count": 2,
   "id": "460ee078-61d7-4d28-bea8-cf2a26e23e2a",
   "metadata": {},
   "outputs": [],
   "source": [
    "g = np.random.default_rng(0)"
   ]
  },
  {
   "cell_type": "code",
   "execution_count": 8,
   "id": "43e20d45-4410-4011-be37-4c7baa7b6596",
   "metadata": {},
   "outputs": [],
   "source": [
    "arr = g.normal(0, 100, 100000)"
   ]
  },
  {
   "cell_type": "code",
   "execution_count": 12,
   "id": "75641f52-9a12-4e76-9968-c6e6bebb204e",
   "metadata": {},
   "outputs": [
    {
     "data": {
      "text/plain": [
       "0       -122.373680\n",
       "1       -159.771666\n",
       "2        173.226947\n",
       "3        -40.230210\n",
       "4        -29.650125\n",
       "            ...    \n",
       "99995    -68.973578\n",
       "99996    174.551875\n",
       "99997    -50.406263\n",
       "99998    108.120676\n",
       "99999    -27.039780\n",
       "Length: 100000, dtype: float64"
      ]
     },
     "execution_count": 12,
     "metadata": {},
     "output_type": "execute_result"
    }
   ],
   "source": [
    "s = Series(arr)\n",
    "s"
   ]
  },
  {
   "cell_type": "code",
   "execution_count": 13,
   "id": "65247ba5-f28c-4931-ae00-c8d199db9348",
   "metadata": {},
   "outputs": [
    {
     "data": {
      "text/plain": [
       "count    100000.000000\n",
       "mean         -0.036015\n",
       "std         100.222104\n",
       "min        -437.972373\n",
       "25%         -68.152035\n",
       "50%          -0.054898\n",
       "75%          67.898709\n",
       "max         420.842894\n",
       "dtype: float64"
      ]
     },
     "execution_count": 13,
     "metadata": {},
     "output_type": "execute_result"
    }
   ],
   "source": [
    "s.describe()"
   ]
  },
  {
   "cell_type": "code",
   "execution_count": 25,
   "id": "a1006b17-7c2a-424f-a3ff-b8f1a7d836c5",
   "metadata": {},
   "outputs": [
    {
     "data": {
      "text/plain": [
       "21282"
      ]
     },
     "execution_count": 25,
     "metadata": {},
     "output_type": "execute_result"
    }
   ],
   "source": [
    "s.idxmin()"
   ]
  },
  {
   "cell_type": "code",
   "execution_count": 26,
   "id": "50a448e0-2fac-4936-9335-7284edf880f8",
   "metadata": {},
   "outputs": [
    {
     "data": {
      "text/plain": [
       "np.float64(-385.7155084448426)"
      ]
     },
     "execution_count": 26,
     "metadata": {},
     "output_type": "execute_result"
    }
   ],
   "source": [
    "s.iloc[s.idxmin()]"
   ]
  },
  {
   "cell_type": "code",
   "execution_count": 30,
   "id": "71c54783-2c8d-4c89-9adc-9d2930dc0d92",
   "metadata": {},
   "outputs": [
    {
     "data": {
      "text/plain": [
       "105210.7234013764"
      ]
     },
     "execution_count": 30,
     "metadata": {},
     "output_type": "execute_result"
    }
   ],
   "source": [
    "smax = s.max()\n",
    "smax"
   ]
  },
  {
   "cell_type": "code",
   "execution_count": 33,
   "id": "eb0b48b0-42bd-4784-9328-b4168db8976d",
   "metadata": {},
   "outputs": [],
   "source": [
    "s.iloc[s.idxmin()] = (smax * 10)"
   ]
  },
  {
   "cell_type": "code",
   "execution_count": 34,
   "id": "36af3f15-2607-4929-bf78-8a6a97c4f2b7",
   "metadata": {},
   "outputs": [
    {
     "data": {
      "text/plain": [
       "np.float64(2104.214468027528)"
      ]
     },
     "execution_count": 34,
     "metadata": {},
     "output_type": "execute_result"
    }
   ],
   "source": [
    "s.iloc[61691]"
   ]
  },
  {
   "cell_type": "code",
   "execution_count": 41,
   "id": "946bf174-ac10-444e-b7e8-2d0dd3f76970",
   "metadata": {},
   "outputs": [
    {
     "data": {
      "text/plain": [
       "count    1.000000e+05\n",
       "mean     1.263000e+01\n",
       "std      3.361650e+03\n",
       "min     -3.753300e+02\n",
       "25%     -6.814000e+01\n",
       "50%     -4.000000e-02\n",
       "75%      6.792000e+01\n",
       "max      1.052107e+06\n",
       "dtype: float32"
      ]
     },
     "execution_count": 41,
     "metadata": {},
     "output_type": "execute_result"
    }
   ],
   "source": [
    "s.describe().astype(np.float32).round(2)"
   ]
  },
  {
   "cell_type": "code",
   "execution_count": 42,
   "id": "4026940a-71fd-42b5-bba4-517504f3115b",
   "metadata": {},
   "outputs": [
    {
     "data": {
      "text/plain": [
       "39159   -375.327789\n",
       "dtype: float64"
      ]
     },
     "execution_count": 42,
     "metadata": {},
     "output_type": "execute_result"
    }
   ],
   "source": [
    "s.loc[s == s.min()]"
   ]
  },
  {
   "cell_type": "code",
   "execution_count": 43,
   "id": "f2cfc83d-8f31-40d7-aac5-cc11e2befc36",
   "metadata": {},
   "outputs": [
    {
     "data": {
      "text/plain": [
       "np.float64(47.29757063694307)"
      ]
     },
     "execution_count": 43,
     "metadata": {},
     "output_type": "execute_result"
    }
   ],
   "source": [
    "s.quantile(0.68)"
   ]
  },
  {
   "cell_type": "code",
   "execution_count": 44,
   "id": "acf38c0a-c129-4483-bc60-df211d9ebaa1",
   "metadata": {},
   "outputs": [
    {
     "data": {
      "text/plain": [
       "0         12.573022\n",
       "1        -13.210486\n",
       "2         64.042265\n",
       "3         10.490012\n",
       "4        -53.566937\n",
       "            ...    \n",
       "99995    -91.667135\n",
       "99996   -231.480500\n",
       "99997     -0.028179\n",
       "99998   -109.645051\n",
       "99999    -49.541294\n",
       "Length: 100000, dtype: float64"
      ]
     },
     "execution_count": 44,
     "metadata": {},
     "output_type": "execute_result"
    }
   ],
   "source": [
    "import numpy as np\n",
    "import pandas as pd\n",
    "from pandas import Series, DataFrame\n",
    "\n",
    "g = np.random.default_rng(0)\n",
    "s = Series(g.normal(0, 100, 100_000))\n",
    "s"
   ]
  },
  {
   "cell_type": "code",
   "execution_count": 46,
   "id": "546859b5-0f94-482d-ba16-103b99387b26",
   "metadata": {},
   "outputs": [
    {
     "data": {
      "text/plain": [
       "100.01335047331729"
      ]
     },
     "execution_count": 46,
     "metadata": {},
     "output_type": "execute_result"
    }
   ],
   "source": [
    "sd = s.std()\n",
    "sd"
   ]
  },
  {
   "cell_type": "code",
   "execution_count": 48,
   "id": "3002bd8a-eec7-4dfa-9e5f-80a172b872ae",
   "metadata": {},
   "outputs": [
    {
     "data": {
      "text/plain": [
       "np.float64(0.68396)"
      ]
     },
     "execution_count": 48,
     "metadata": {},
     "output_type": "execute_result"
    }
   ],
   "source": [
    "(s[(s > (s.mean() - sd)) & (s < (s.mean() + sd))].count())/s.count()"
   ]
  },
  {
   "cell_type": "code",
   "execution_count": 49,
   "id": "ce180efb-aef8-4840-a30b-e8d25feae90f",
   "metadata": {},
   "outputs": [
    {
     "data": {
      "text/plain": [
       "np.float64(0.95461)"
      ]
     },
     "execution_count": 49,
     "metadata": {},
     "output_type": "execute_result"
    }
   ],
   "source": [
    "(s[(s > (s.mean() - 2 * sd)) & (s < (s.mean() + 2 * sd))].count())/s.count()"
   ]
  },
  {
   "cell_type": "code",
   "execution_count": 50,
   "id": "bb90d2d8-093e-46b6-b70b-cf19233d313a",
   "metadata": {},
   "outputs": [
    {
     "data": {
      "text/plain": [
       "np.float64(0.99708)"
      ]
     },
     "execution_count": 50,
     "metadata": {},
     "output_type": "execute_result"
    }
   ],
   "source": [
    "(s[(s > (s.mean() - 3 * sd)) & (s < (s.mean() + 3 * sd))].count())/s.count()"
   ]
  },
  {
   "cell_type": "code",
   "execution_count": 59,
   "id": "730e9db8-58f5-4208-ac63-8d8689b54b0b",
   "metadata": {},
   "outputs": [
    {
     "data": {
      "text/plain": [
       "np.float64(79.92646167808226)"
      ]
     },
     "execution_count": 59,
     "metadata": {},
     "output_type": "execute_result"
    }
   ],
   "source": [
    "topmean = s[s > s.mean()].mean()\n",
    "topmean"
   ]
  },
  {
   "cell_type": "code",
   "execution_count": 60,
   "id": "003cd7f4-942f-4a09-ad1e-57b065174813",
   "metadata": {},
   "outputs": [
    {
     "data": {
      "text/plain": [
       "np.float64(-79.66763213378562)"
      ]
     },
     "execution_count": 60,
     "metadata": {},
     "output_type": "execute_result"
    }
   ],
   "source": [
    "bottommean = s[s < s.mean()].mean()\n",
    "bottommean"
   ]
  },
  {
   "cell_type": "code",
   "execution_count": 61,
   "id": "52da89d3-bbf5-4582-a584-8c8204067015",
   "metadata": {},
   "outputs": [
    {
     "data": {
      "text/plain": [
       "np.float64(0.12941477214832275)"
      ]
     },
     "execution_count": 61,
     "metadata": {},
     "output_type": "execute_result"
    }
   ],
   "source": [
    "(topmean + bottommean) /2"
   ]
  },
  {
   "cell_type": "code",
   "execution_count": 58,
   "id": "96705c8d-8fb7-4e9b-864a-71e33f5fe00d",
   "metadata": {},
   "outputs": [
    {
     "data": {
      "text/plain": [
       "np.float64(0.12941477214832275)"
      ]
     },
     "execution_count": 58,
     "metadata": {},
     "output_type": "execute_result"
    }
   ],
   "source": [
    "(s[s > s.mean()].mean() + s[s < s.mean()].mean()) / 2"
   ]
  },
  {
   "cell_type": "code",
   "execution_count": 62,
   "id": "a360a879-608b-4593-8665-0f6699d79a11",
   "metadata": {},
   "outputs": [
    {
     "data": {
      "text/plain": [
       "np.float64(-0.09082507731206121)"
      ]
     },
     "execution_count": 62,
     "metadata": {},
     "output_type": "execute_result"
    }
   ],
   "source": [
    "s.mean()"
   ]
  },
  {
   "cell_type": "code",
   "execution_count": 69,
   "id": "21dcf75a-3b7e-4b47-a0a1-abbad6bdd7e6",
   "metadata": {},
   "outputs": [
    {
     "data": {
      "text/plain": [
       "np.float64(-11.606040282602287)"
      ]
     },
     "execution_count": 69,
     "metadata": {},
     "output_type": "execute_result"
    }
   ],
   "source": [
    "s[(s > (s.mean() + 3*s.std())) | \n",
    "(s < (s.mean() - 3*s.std()))].mean()"
   ]
  },
  {
   "cell_type": "code",
   "execution_count": null,
   "id": "7f04f22a-98c6-4cd5-96c9-9abd04f18049",
   "metadata": {},
   "outputs": [],
   "source": []
  }
 ],
 "metadata": {
  "kernelspec": {
   "display_name": "Python (py311b)",
   "language": "python",
   "name": "py311b"
  },
  "language_info": {
   "codemirror_mode": {
    "name": "ipython",
    "version": 3
   },
   "file_extension": ".py",
   "mimetype": "text/x-python",
   "name": "python",
   "nbconvert_exporter": "python",
   "pygments_lexer": "ipython3",
   "version": "3.13.5"
  },
  "widgets": {
   "application/vnd.jupyter.widget-state+json": {
    "state": {},
    "version_major": 2,
    "version_minor": 0
   }
  }
 },
 "nbformat": 4,
 "nbformat_minor": 5
}
