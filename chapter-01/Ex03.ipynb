{
 "cells": [
  {
   "cell_type": "code",
   "execution_count": 4,
   "id": "deab670a-1202-4ba9-897b-d548c31f5532",
   "metadata": {},
   "outputs": [],
   "source": [
    "import pandas as pd\n",
    "import numpy as np\n",
    "from pandas import Series, DataFrame"
   ]
  },
  {
   "cell_type": "code",
   "execution_count": 19,
   "id": "284b29e1-66a8-4468-8955-7235f8e17bec",
   "metadata": {},
   "outputs": [
    {
     "data": {
      "text/plain": [
       "0    83\n",
       "1    26\n",
       "2    10\n",
       "3    29\n",
       "4    41\n",
       "5    81\n",
       "6    45\n",
       "7     9\n",
       "8    33\n",
       "9    60\n",
       "dtype: int64"
      ]
     },
     "execution_count": 19,
     "metadata": {},
     "output_type": "execute_result"
    }
   ],
   "source": [
    "g = np.random.default_rng(2)\n",
    "s = Series(g.integers(0,100,10))\n",
    "s"
   ]
  },
  {
   "cell_type": "code",
   "execution_count": 21,
   "id": "fb5b99ac-819f-47e6-b5e9-20d1e257e8a4",
   "metadata": {},
   "outputs": [
    {
     "data": {
      "text/plain": [
       "0    8\n",
       "1    3\n",
       "2    1\n",
       "3    3\n",
       "4    4\n",
       "5    8\n",
       "6    4\n",
       "7    1\n",
       "8    3\n",
       "9    6\n",
       "dtype: int64"
      ]
     },
     "execution_count": 21,
     "metadata": {},
     "output_type": "execute_result"
    }
   ],
   "source": [
    "# wrong, because we want to drop the ones place, not round it up\n",
    "s2 = s.round(-1)\n",
    "s2 = s2/10\n",
    "s2.astype(np.int64)"
   ]
  },
  {
   "cell_type": "code",
   "execution_count": 22,
   "id": "f6fd3f3e-9de8-47c1-9285-77b0250e485e",
   "metadata": {},
   "outputs": [
    {
     "data": {
      "text/plain": [
       "0    8\n",
       "1    2\n",
       "2    1\n",
       "3    2\n",
       "4    4\n",
       "5    8\n",
       "6    4\n",
       "7    0\n",
       "8    3\n",
       "9    6\n",
       "dtype: int8"
      ]
     },
     "execution_count": 22,
     "metadata": {},
     "output_type": "execute_result"
    }
   ],
   "source": [
    "s3 = s/10\n",
    "s3.astype(np.int8)"
   ]
  },
  {
   "cell_type": "code",
   "execution_count": 24,
   "id": "6f82a9e1-53f2-4ccc-81d4-389f6bef90b8",
   "metadata": {},
   "outputs": [
    {
     "data": {
      "text/plain": [
       "0    8\n",
       "1    2\n",
       "2    1\n",
       "3    2\n",
       "4    4\n",
       "5    8\n",
       "6    4\n",
       "7    0\n",
       "8    3\n",
       "9    6\n",
       "dtype: int64"
      ]
     },
     "execution_count": 24,
     "metadata": {},
     "output_type": "execute_result"
    }
   ],
   "source": [
    "s4 = s // 10  # floor division\n",
    "s4"
   ]
  },
  {
   "cell_type": "code",
   "execution_count": 29,
   "id": "2021796e-5c49-40fa-8394-e4532cb7f6f5",
   "metadata": {},
   "outputs": [
    {
     "data": {
      "text/plain": [
       "0    8\n",
       "1    2\n",
       "2    1\n",
       "3    2\n",
       "4    4\n",
       "5    8\n",
       "6    4\n",
       "7    0\n",
       "8    3\n",
       "9    6\n",
       "dtype: object"
      ]
     },
     "execution_count": 29,
     "metadata": {},
     "output_type": "execute_result"
    }
   ],
   "source": [
    "s5 = s.astype(str)\n",
    "s5.str.get(-2).fillna(0)"
   ]
  },
  {
   "cell_type": "code",
   "execution_count": 31,
   "id": "ed0fb8f3-154d-45c9-8418-ab725e88597b",
   "metadata": {},
   "outputs": [
    {
     "data": {
      "text/plain": [
       "0    8\n",
       "1    2\n",
       "2    1\n",
       "3    2\n",
       "4    4\n",
       "5    8\n",
       "6    4\n",
       "7    0\n",
       "8    3\n",
       "9    6\n",
       "dtype: int8"
      ]
     },
     "execution_count": 31,
     "metadata": {},
     "output_type": "execute_result"
    }
   ],
   "source": [
    "s5.str.get(-2).fillna(0).astype(np.int8)"
   ]
  },
  {
   "cell_type": "code",
   "execution_count": 32,
   "id": "94b886d4-14ab-42db-8d87-0dba0ea5ead2",
   "metadata": {},
   "outputs": [
    {
     "data": {
      "text/plain": [
       "0    83\n",
       "1    26\n",
       "2    10\n",
       "3    29\n",
       "4    41\n",
       "5    81\n",
       "6    45\n",
       "7     9\n",
       "8    33\n",
       "9    60\n",
       "dtype: int64"
      ]
     },
     "execution_count": 32,
     "metadata": {},
     "output_type": "execute_result"
    }
   ],
   "source": [
    "s"
   ]
  },
  {
   "cell_type": "code",
   "execution_count": 34,
   "id": "40060000-0edb-4fc1-a7b3-8d0dbc249224",
   "metadata": {},
   "outputs": [
    {
     "data": {
      "text/plain": [
       "2    10\n",
       "4    41\n",
       "dtype: int64"
      ]
     },
     "execution_count": 34,
     "metadata": {},
     "output_type": "execute_result"
    }
   ],
   "source": [
    "s.loc[[2,4]]"
   ]
  },
  {
   "cell_type": "code",
   "execution_count": 35,
   "id": "b3f64aa5-262e-48d4-90a7-7a619133fd99",
   "metadata": {},
   "outputs": [
    {
     "data": {
      "text/plain": [
       "2    10\n",
       "4    41\n",
       "dtype: int64"
      ]
     },
     "execution_count": 35,
     "metadata": {},
     "output_type": "execute_result"
    }
   ],
   "source": [
    "s.iloc[[2,4]]"
   ]
  },
  {
   "cell_type": "code",
   "execution_count": null,
   "id": "ec9e35da-02ce-4f6b-99d2-781b1afd010f",
   "metadata": {},
   "outputs": [],
   "source": []
  }
 ],
 "metadata": {
  "kernelspec": {
   "display_name": "Python (py311b)",
   "language": "python",
   "name": "py311b"
  },
  "language_info": {
   "codemirror_mode": {
    "name": "ipython",
    "version": 3
   },
   "file_extension": ".py",
   "mimetype": "text/x-python",
   "name": "python",
   "nbconvert_exporter": "python",
   "pygments_lexer": "ipython3",
   "version": "3.13.5"
  },
  "widgets": {
   "application/vnd.jupyter.widget-state+json": {
    "state": {},
    "version_major": 2,
    "version_minor": 0
   }
  }
 },
 "nbformat": 4,
 "nbformat_minor": 5
}
